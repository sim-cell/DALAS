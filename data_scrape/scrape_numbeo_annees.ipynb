{
 "cells": [
  {
   "cell_type": "markdown",
   "metadata": {},
   "source": [
    "# Projet DALAS\n",
    "## Données entre 2014-2024 (exclu)\n",
    "### SOYKOK Aylin 28711545 - CELIK Simay 28713301\n"
   ]
  },
  {
   "cell_type": "markdown",
   "metadata": {},
   "source": [
    "<b>\n",
    "Cette notebook contient le code afin de scraper des données de \"quality of life\" pour plusieurs pays entre plusieurs années depuis le site numbeo. Le document est en franglais, il faut le corriger.\n",
    "\n",
    "TO DO:\n",
    "data cleaning"
   ]
  },
  {
   "cell_type": "code",
   "execution_count": 2,
   "metadata": {
    "id": "NH1L15TRilr3"
   },
   "outputs": [],
   "source": [
    "import bs4\n",
    "import lxml\n",
    "import pandas as pd\n",
    "import urllib\n",
    "\n",
    "from urllib import request"
   ]
  },
  {
   "cell_type": "code",
   "execution_count": 3,
   "metadata": {
    "id": "xTmanS9hi2BD"
   },
   "outputs": [],
   "source": [
    "years = [i for i in range(2015,2025)]\n",
    "link = \"https://www.numbeo.com/quality-of-life/rankings_by_country.jsp?title=2014\"\n",
    "req = request.urlopen(link).read()\n",
    "page = bs4.BeautifulSoup(req, \"lxml\")\n",
    "table = page.find('table',{\"id\":\"t2\"})\n",
    "headers = [th.text.rstrip() for th in table.find_all('th')]\n",
    "headers.append(\"Year\")\n",
    "rows = table.find_all('tr')\n",
    "list_data = []\n",
    "for row in rows[1:]:\n",
    "  data = [d.text.rstrip() for d in row.find_all('td')]\n",
    "  data.append(2014)\n",
    "  list_data.append(data)\n",
    "\n",
    "for year in years:\n",
    "  link = \"https://www.numbeo.com/quality-of-life/rankings_by_country.jsp?title=\"+str(year)\n",
    "  req = request.urlopen(link).read()\n",
    "  page = bs4.BeautifulSoup(req, \"lxml\")\n",
    "  table = page.find('table',{\"id\":\"t2\"})\n",
    "  rows = table.find_all('tr')\n",
    "  for row in rows[1:]:\n",
    "    data = [d.text.rstrip() for d in row.find_all('td')]\n",
    "    data.append(year)\n",
    "    list_data.append(data)"
   ]
  },
  {
   "cell_type": "code",
   "execution_count": null,
   "metadata": {},
   "outputs": [],
   "source": []
  },
  {
   "cell_type": "code",
   "execution_count": 9,
   "metadata": {
    "colab": {
     "base_uri": "https://localhost:8080/",
     "height": 496
    },
    "id": "O-XhNrdpi-MH",
    "outputId": "474e62fa-73f2-4a8f-c80f-5d8a69cf3b4d"
   },
   "outputs": [],
   "source": [
    "df = pd.DataFrame(list_data,columns=headers)\n",
    "#df=df.sort_values(by='Year')\n",
    "#df.set_index('Rank',inplace=True)\n",
    "\n",
    "df.columns\n",
    "df.drop(columns='Rank',inplace=True)"
   ]
  },
  {
   "cell_type": "code",
   "execution_count": 10,
   "metadata": {},
   "outputs": [
    {
     "data": {
      "text/html": [
       "<div>\n",
       "<style scoped>\n",
       "    .dataframe tbody tr th:only-of-type {\n",
       "        vertical-align: middle;\n",
       "    }\n",
       "\n",
       "    .dataframe tbody tr th {\n",
       "        vertical-align: top;\n",
       "    }\n",
       "\n",
       "    .dataframe thead th {\n",
       "        text-align: right;\n",
       "    }\n",
       "</style>\n",
       "<table border=\"1\" class=\"dataframe\">\n",
       "  <thead>\n",
       "    <tr style=\"text-align: right;\">\n",
       "      <th></th>\n",
       "      <th>Country</th>\n",
       "      <th>Quality of Life Index</th>\n",
       "      <th>Purchasing Power Index</th>\n",
       "      <th>Safety Index</th>\n",
       "      <th>Health Care Index</th>\n",
       "      <th>Cost of Living Index</th>\n",
       "      <th>Property Price to Income Ratio</th>\n",
       "      <th>Traffic Commute Time Index</th>\n",
       "      <th>Pollution Index</th>\n",
       "      <th>Climate Index</th>\n",
       "      <th>Year</th>\n",
       "    </tr>\n",
       "  </thead>\n",
       "  <tbody>\n",
       "    <tr>\n",
       "      <th>0</th>\n",
       "      <td>Switzerland</td>\n",
       "      <td>206.2</td>\n",
       "      <td>138.1</td>\n",
       "      <td>68.2</td>\n",
       "      <td>68.0</td>\n",
       "      <td>143.9</td>\n",
       "      <td>7.1</td>\n",
       "      <td>24.6</td>\n",
       "      <td>26.8</td>\n",
       "      <td>-</td>\n",
       "      <td>2014</td>\n",
       "    </tr>\n",
       "    <tr>\n",
       "      <th>1</th>\n",
       "      <td>United States</td>\n",
       "      <td>195.5</td>\n",
       "      <td>132.9</td>\n",
       "      <td>49.9</td>\n",
       "      <td>68.6</td>\n",
       "      <td>77.4</td>\n",
       "      <td>2.4</td>\n",
       "      <td>37.1</td>\n",
       "      <td>35.1</td>\n",
       "      <td>-</td>\n",
       "      <td>2014</td>\n",
       "    </tr>\n",
       "    <tr>\n",
       "      <th>2</th>\n",
       "      <td>Germany</td>\n",
       "      <td>192.7</td>\n",
       "      <td>112.3</td>\n",
       "      <td>72.9</td>\n",
       "      <td>75.3</td>\n",
       "      <td>87.1</td>\n",
       "      <td>5.6</td>\n",
       "      <td>36.1</td>\n",
       "      <td>30.2</td>\n",
       "      <td>-</td>\n",
       "      <td>2014</td>\n",
       "    </tr>\n",
       "    <tr>\n",
       "      <th>3</th>\n",
       "      <td>Sweden</td>\n",
       "      <td>180.9</td>\n",
       "      <td>106.1</td>\n",
       "      <td>61.7</td>\n",
       "      <td>75.2</td>\n",
       "      <td>103.7</td>\n",
       "      <td>9.4</td>\n",
       "      <td>34.1</td>\n",
       "      <td>17.5</td>\n",
       "      <td>-</td>\n",
       "      <td>2014</td>\n",
       "    </tr>\n",
       "    <tr>\n",
       "      <th>4</th>\n",
       "      <td>Finland</td>\n",
       "      <td>178.9</td>\n",
       "      <td>97.9</td>\n",
       "      <td>70.8</td>\n",
       "      <td>68.7</td>\n",
       "      <td>103.3</td>\n",
       "      <td>7.8</td>\n",
       "      <td>37.0</td>\n",
       "      <td>16.7</td>\n",
       "      <td>-</td>\n",
       "      <td>2014</td>\n",
       "    </tr>\n",
       "  </tbody>\n",
       "</table>\n",
       "</div>"
      ],
      "text/plain": [
       "         Country Quality of Life Index Purchasing Power Index Safety Index  \\\n",
       "0    Switzerland                 206.2                  138.1         68.2   \n",
       "1  United States                 195.5                  132.9         49.9   \n",
       "2        Germany                 192.7                  112.3         72.9   \n",
       "3         Sweden                 180.9                  106.1         61.7   \n",
       "4        Finland                 178.9                   97.9         70.8   \n",
       "\n",
       "  Health Care Index Cost of Living Index Property Price to Income Ratio  \\\n",
       "0              68.0                143.9                            7.1   \n",
       "1              68.6                 77.4                            2.4   \n",
       "2              75.3                 87.1                            5.6   \n",
       "3              75.2                103.7                            9.4   \n",
       "4              68.7                103.3                            7.8   \n",
       "\n",
       "  Traffic Commute Time Index Pollution Index Climate Index  Year  \n",
       "0                       24.6            26.8             -  2014  \n",
       "1                       37.1            35.1             -  2014  \n",
       "2                       36.1            30.2             -  2014  \n",
       "3                       34.1            17.5             -  2014  \n",
       "4                       37.0            16.7             -  2014  "
      ]
     },
     "execution_count": 10,
     "metadata": {},
     "output_type": "execute_result"
    }
   ],
   "source": [
    "df.head()"
   ]
  },
  {
   "cell_type": "code",
   "execution_count": 11,
   "metadata": {},
   "outputs": [
    {
     "data": {
      "text/plain": [
       "Series([], dtype: bool)"
      ]
     },
     "execution_count": 11,
     "metadata": {},
     "output_type": "execute_result"
    }
   ],
   "source": [
    "df_nan =  df.isna()\n",
    "nan_lines = df_nan.any(axis=1)\n",
    "nan_lines[nan_lines==True]"
   ]
  },
  {
   "cell_type": "markdown",
   "metadata": {},
   "source": [
    "Aucun NaN."
   ]
  },
  {
   "cell_type": "markdown",
   "metadata": {
    "id": "WCu5MaVAl3CI"
   },
   "source": [
    "For missing values (some countries do not exist in some years) we can detect which country is missing in which year and then for all the columns we can put the mean of the previous and the next year. Using adjacent years would prevent weird points in a graph. We can also mark these \"estimations\" to know which were generated by us and which were in the original source. => Ask the prof."
   ]
  },
  {
   "cell_type": "markdown",
   "metadata": {},
   "source": [
    "<b> Cleaning missing values\n"
   ]
  },
  {
   "cell_type": "code",
   "execution_count": 12,
   "metadata": {},
   "outputs": [],
   "source": [
    "df['Generated'] = 0 #1 si généré par nous, 0 sinon"
   ]
  },
  {
   "cell_type": "markdown",
   "metadata": {
    "id": "EFIXcRojkaee"
   },
   "source": [
    "def fill_missing(group):\n",
    "    \"\"\"Trouve les lignes manquantes, les remplit avec la moyenne des années adjacentes.\"\"\"\n",
    "    missing = set(df['Country'].unique()) - set(group['Country'].unique()) #pays manquants par groupe d'année\n",
    "    for m in missing:\n",
    "        prev = df[(df['Country']==m) & (df['Year']==group['Year'].min() - 1)]\n",
    "        next = df[(df['Country']==m) & (df['Year']==group['Year'].max() + 1)]\n",
    "        if not prev.empty and not prev.empty:\n",
    "            moy = (prev.iloc[:, 1:-1] + prev.iloc[:, 1:-1]) / 2\n",
    "            moy['Year'] = group['Year']\n",
    "            moy['Country'] = m\n",
    "            moy['Generated'] = 1 #1 si généré par nous\n",
    "            group = pd.concat([group, moy], ignore_index=True)\n",
    "    return group\n",
    "        "
   ]
  },
  {
   "cell_type": "markdown",
   "metadata": {},
   "source": [
    "filled_df = df.groupby('Year').apply(fill_missing).reset_index(drop=True)\n",
    "filled_df"
   ]
  },
  {
   "cell_type": "code",
   "execution_count": 13,
   "metadata": {},
   "outputs": [],
   "source": [
    "df.to_csv('../data/data_annees.csv', index=False)"
   ]
  },
  {
   "cell_type": "code",
   "execution_count": null,
   "metadata": {},
   "outputs": [],
   "source": []
  },
  {
   "cell_type": "code",
   "execution_count": null,
   "metadata": {},
   "outputs": [],
   "source": []
  }
 ],
 "metadata": {
  "colab": {
   "provenance": []
  },
  "kernelspec": {
   "display_name": "Python 3",
   "language": "python",
   "name": "python3"
  },
  "language_info": {
   "codemirror_mode": {
    "name": "ipython",
    "version": 3
   },
   "file_extension": ".py",
   "mimetype": "text/x-python",
   "name": "python",
   "nbconvert_exporter": "python",
   "pygments_lexer": "ipython3",
   "version": "3.11.5"
  }
 },
 "nbformat": 4,
 "nbformat_minor": 1
}
