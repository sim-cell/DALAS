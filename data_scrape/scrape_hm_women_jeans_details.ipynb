{
  "cells": [
    {
      "cell_type": "markdown",
      "metadata": {
        "id": "1AXiyEnwjoPl"
      },
      "source": [
        "# Projet DALAS\n",
        "## Données H&M => Exemple de fast fashion\n",
        "### SOYKOK Aylin 28711545 - CELIK Simay 28713301"
      ]
    },
    {
      "cell_type": "code",
      "execution_count": null,
      "metadata": {
        "id": "bD5V67mljoPn"
      },
      "outputs": [],
      "source": [
        "import bs4\n",
        "import lxml\n",
        "import pandas as pd\n",
        "import urllib\n",
        "\n",
        "from urllib import request\n",
        "import requests"
      ]
    },
    {
      "cell_type": "code",
      "execution_count": null,
      "metadata": {
        "id": "k7hXMieQjoPn"
      },
      "outputs": [],
      "source": [
        "headers = {'User-Agent':'Mozilla/5.0 (Macintosh; Intel Mac OS X 10_11_2) AppleWebKit/601.3.9 (KHTML, like Gecko) Version/9.0.2 Safari/601.3.9'}\n",
        "url = 'https://www2.hm.com/en_us/women/products/jeans.html'\n"
      ]
    },
    {
      "cell_type": "code",
      "execution_count": null,
      "metadata": {
        "id": "frpEbipNjoPn"
      },
      "outputs": [],
      "source": [
        "#scrape all links to jeans from main catalog with their price\n",
        "main_link = 'https://www2.hm.com'\n",
        "links = []\n",
        "\n",
        "url = main_link+'/en_us/women/products/jeans.html?sort=stock&image-size=small&image=model&offset=0&page-size=300'\n",
        "req = requests.get(url,headers=headers)\n",
        "page = bs4.BeautifulSoup(req.content, \"lxml\")\n",
        "items = page.find_all('li',class_='product-item')\n",
        "for item in items:\n",
        "    link = item.find('a', class_='link')\n",
        "    if link:\n",
        "        href = link.get('href')\n",
        "        links.append(href)\n",
        "\n"
      ]
    },
    {
      "cell_type": "code",
      "execution_count": null,
      "metadata": {
        "id": "psQiarMHjoPo",
        "outputId": "3d343a75-02aa-408d-e5dc-b3310438643d",
        "colab": {
          "base_uri": "https://localhost:8080/"
        }
      },
      "outputs": [
        {
          "output_type": "execute_result",
          "data": {
            "text/plain": [
              "288"
            ]
          },
          "metadata": {},
          "execution_count": 4
        }
      ],
      "source": [
        "len(links)"
      ]
    },
    {
      "cell_type": "code",
      "source": [
        "from bs4 import BeautifulSoup\n",
        "import re\n",
        "\n",
        "# HTML content (replace this with your actual HTML content)\n",
        "html_content = \"\"\"\n",
        "Your HTML content goes here\n",
        "\"\"\"\n",
        "\n",
        "# Parse the HTML content\n",
        "soup = BeautifulSoup(html_content, 'html.parser')\n",
        "\n",
        "# Find all elements with the class 'materialsElaborativeList'\n",
        "material_elements = soup.find_all(class_='materialsElaborativeList')\n",
        "\n",
        "# Extract material names using regular expressions\n",
        "material_names = []\n",
        "for element in material_elements:\n",
        "    # Extract text from the element\n",
        "    text = element.get_text()\n",
        "    # Use regular expressions to find material names (assuming they are in uppercase)\n",
        "    matches = re.findall(r'[A-Z]+', text)\n",
        "    # Add the matches to the material_names list\n",
        "    material_names.extend(matches)\n",
        "\n",
        "# Print the extracted material names\n",
        "print(material_names)"
      ],
      "metadata": {
        "id": "B5jJvMKFw6xe"
      },
      "execution_count": null,
      "outputs": []
    },
    {
      "cell_type": "code",
      "source": [
        "product_names = []\n",
        "prices = []\n",
        "material_lists = []\n",
        "url = main_link + links[0]\n",
        "print(url)\n",
        "req = requests.get(url,headers=headers)\n",
        "page = bs4.BeautifulSoup(req.content, \"lxml\")\n",
        "prod_name = page.find(\"h1\").text.strip()\n",
        "print(prod_name)\n",
        "product_names.append(prod_name)\n",
        "price = page.find(\"div\",class_=\"price parbase\").text.strip()\n",
        "print(price)\n",
        "prices.append(price)\n",
        "materials = page.find_all('div',class_=\"details parbase\")\n",
        "\n",
        "print(materials)\n",
        "material_lists.append(materials)\n"
      ],
      "metadata": {
        "id": "XWNBrZxpkf3g",
        "colab": {
          "base_uri": "https://localhost:8080/"
        },
        "outputId": "aa0d97c6-b290-48a3-9e7d-a6dd650ec327"
      },
      "execution_count": null,
      "outputs": [
        {
          "output_type": "stream",
          "name": "stdout",
          "text": [
            "https://www2.hm.com/en_us/productpage.1199190001.html\n",
            "Baggy Wide Low Jeans\n",
            "$44.99\n",
            "[<dt>Model size</dt>, <dt>Size</dt>, <dt>&gt;Length</dt>, <dt>&gt;Waist Rise</dt>, <dt>Fit</dt>, <dt>Description</dt>, <dt>Imported</dt>, <dt>Concept</dt>, <dt>Material</dt>, <dt> Cotton</dt>, <dt> Polyester</dt>, <dt> Recycled cotton</dt>, <dt> Recycled polyester</dt>]\n"
          ]
        }
      ]
    },
    {
      "cell_type": "code",
      "source": [
        "prod_name"
      ],
      "metadata": {
        "id": "vrHivSsvqrOl"
      },
      "execution_count": null,
      "outputs": []
    },
    {
      "cell_type": "code",
      "source": [
        "for link in links:\n",
        "  try:\n",
        "    url = main_link+link\n",
        "    req = requests.get(url,headers=headers)\n",
        "    page = bs4.BeautifulSoup(req.content, \"lxml\")\n",
        "    prod_name = page.find(\"h1\", class_=\"Heading-module--general__1cV9K ProductName-module--productTitle__3ryCJ Heading-module--small__6VQbz\")\n",
        "    product_names.append(prod_name)\n",
        "    price = page.find(\"span\",class_=\"edbe20 ac3d9e d9ca8b\")\n",
        "    prices.append(price)\n",
        "    materiels = page.find_all('dt',class_='fa226d c0e4fd c2656c')\n",
        "    materiel_lists.append(materiels)\n",
        "  except:\n",
        "    product_names.append(\"None\")\n",
        "    materiels.append([])"
      ],
      "metadata": {
        "id": "CLy3uaEdqjB8"
      },
      "execution_count": null,
      "outputs": []
    },
    {
      "cell_type": "code",
      "source": [
        "df = pd.DataFrame()\n",
        "df['Product'] = product_names\n",
        "df['Price'] = prices\n",
        "df['Material'] = materiel_lists\n"
      ],
      "metadata": {
        "id": "qO7ojDoUliyW"
      },
      "execution_count": null,
      "outputs": []
    }
  ],
  "metadata": {
    "kernelspec": {
      "display_name": "Python 3",
      "language": "python",
      "name": "python3"
    },
    "language_info": {
      "codemirror_mode": {
        "name": "ipython",
        "version": 3
      },
      "file_extension": ".py",
      "mimetype": "text/x-python",
      "name": "python",
      "nbconvert_exporter": "python",
      "pygments_lexer": "ipython3",
      "version": "3.11.5"
    },
    "colab": {
      "provenance": []
    }
  },
  "nbformat": 4,
  "nbformat_minor": 0
}