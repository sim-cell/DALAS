{
 "cells": [
  {
   "cell_type": "code",
   "execution_count": null,
   "metadata": {},
   "outputs": [],
   "source": []
  },
  {
   "cell_type": "code",
   "execution_count": 26,
   "metadata": {},
   "outputs": [],
   "source": [
    "from urllib import request\n",
    "import requests\n",
    "from bs4 import BeautifulSoup\n",
    "import bs4\n",
    "import pandas as pd\n",
    "\n",
    "from selenium import webdriver\n",
    "from selenium.webdriver.common.by import By\n",
    "from selenium.webdriver.support.ui import WebDriverWait\n",
    "from selenium.webdriver.support import expected_conditions as EC\n",
    "headers = {'User-Agent':'Mozilla/5.0 (Macintosh; Intel Mac OS X 10_11_2) AppleWebKit/601.3.9 (KHTML, like Gecko) Version/9.0.2 Safari/601.3.9'}\n",
    "\n",
    "def scrape_items(main_url,max_page):\n",
    "    links = []\n",
    "    req = requests.get(main_url,headers=headers)\n",
    "    page = bs4.BeautifulSoup(req.content, \"lxml\")\n",
    "\n",
    "    items = page.find_all('li')\n",
    "    for item in items:\n",
    "        link = item.find('a', class_='db7c79')\n",
    "        if link:\n",
    "            href = link.get('href')\n",
    "            links.append(href)\n",
    "\n",
    "    for nb in range(2,max_page+1):\n",
    "        print(nb)\n",
    "        url = main_url+'?page='+str(nb)\n",
    "        req = requests.get(url,headers=headers)\n",
    "        page = bs4.BeautifulSoup(req.content, \"lxml\")\n",
    "\n",
    "        items = page.find_all('li') #,class_='product-item'\n",
    "        for item in items:\n",
    "            link = item.find('a', class_='db7c79')\n",
    "            if link:\n",
    "                href = link.get('href')\n",
    "                links.append(href)\n",
    "    return links"
   ]
  },
  {
   "cell_type": "code",
   "execution_count": 48,
   "metadata": {},
   "outputs": [],
   "source": [
    "from bs4 import BeautifulSoup\n",
    "def scrape_details(links):\n",
    "    material_lists = []\n",
    "    names = []\n",
    "    prices = []\n",
    "    counts = []\n",
    "    i = 0\n",
    "    for link in links:\n",
    "        if i%100 == 0:\n",
    "            print(i)\n",
    "        i+=1\n",
    "        response = requests.get(link, headers=headers)\n",
    "        soup = BeautifulSoup(response.content, 'lxml')\n",
    "        if not soup:\n",
    "            names.append('NA')\n",
    "            prices.append('NA')\n",
    "            material_lists.append('NA')\n",
    "            counts.append('NA')\n",
    "            continue\n",
    "        #name\n",
    "        name = soup.find('h1')\n",
    "        if not name:\n",
    "            names.append('NA')\n",
    "            prices.append('NA')\n",
    "            material_lists.append('NA')\n",
    "            counts.append('NA')\n",
    "            continue\n",
    "        nameTEXT = name.text\n",
    "\n",
    "        #counting nb of variations\n",
    "        different = soup.find_all('li', class_='list-item')\n",
    "        count = len(different)\n",
    "        \n",
    "        \n",
    "        #price\n",
    "        price_div = soup.find('div', class_='price parbase')\n",
    "        if not price_div:\n",
    "            names.append('NA')\n",
    "            prices.append('NA')\n",
    "            material_lists.append('NA')\n",
    "            counts.append('NA')\n",
    "            continue\n",
    "        price_span = price_div.find('span')\n",
    "        price_value = price_span.text.strip()\n",
    "        \n",
    "        # materials\n",
    "        h3 = soup.find(lambda tag: tag.name == 'h3' and \"Explications relatives \" in tag.text) #  \n",
    "        parent_tag = h3.find_next_sibling()\n",
    "\n",
    "        # its under dt \n",
    "        dt_tags = parent_tag.find_all('dt')\n",
    "        materials = []\n",
    "\n",
    "        \n",
    "        # get the text from the dt tags\n",
    "        for dt in dt_tags:\n",
    "            materials.append(dt.text)\n",
    "\n",
    "        names.append(nameTEXT)\n",
    "        prices.append(price_value)\n",
    "        material_lists.append(materials)\n",
    "        counts.append(count)\n",
    "    return names, prices, material_lists,counts"
   ]
  },
  {
   "cell_type": "code",
   "execution_count": null,
   "metadata": {},
   "outputs": [],
   "source": [
    "def run_selenium(unique_links):\n",
    "    driver = webdriver.Chrome()\n",
    "    informations = []\n",
    "    for url in unique_links:\n",
    "        driver.get(url)\n",
    "        try:\n",
    "            materials_button =  WebDriverWait(driver, 4).until(EC.element_to_be_clickable((By.ID,\"toggle-materialsAndSuppliersAccordion\")))\n",
    "            materials_button.click()\n",
    "            \n",
    "            popup_button = WebDriverWait(driver, 4).until(EC.element_to_be_clickable((By.CLASS_NAME, \"bbcd86\")))\n",
    "            popup_button.click()\n",
    "\n",
    "            popup_elements = WebDriverWait(driver, 4).until(EC.visibility_of_all_elements_located((By.CLASS_NAME, \"dd5fe7\")))\n",
    "            popup_contents = [element.text.strip() for element in popup_elements]\n",
    "        except:\n",
    "            popup_contents = []\n",
    "            informations.append(popup_contents)\n",
    "            continue\n",
    "        informations.append(popup_contents)\n",
    "\n",
    "    driver.quit()\n",
    "    return informations"
   ]
  },
  {
   "cell_type": "code",
   "execution_count": 41,
   "metadata": {},
   "outputs": [
    {
     "name": "stdout",
     "output_type": "stream",
     "text": [
      "2\n",
      "3\n",
      "4\n",
      "5\n",
      "6\n",
      "7\n",
      "8\n",
      "9\n",
      "10\n",
      "11\n",
      "12\n",
      "13\n",
      "14\n",
      "15\n",
      "16\n",
      "17\n",
      "18\n"
     ]
    }
   ],
   "source": [
    "main_url = 'https://www2.hm.com/fr_fr/femme/catalogue-par-produit/pantalons.html'\n",
    "max_page = 18\n",
    "links = scrape_items(main_url,max_page)"
   ]
  },
  {
   "cell_type": "code",
   "execution_count": 42,
   "metadata": {},
   "outputs": [
    {
     "data": {
      "text/plain": [
       "(643, 4185)"
      ]
     },
     "execution_count": 42,
     "metadata": {},
     "output_type": "execute_result"
    }
   ],
   "source": [
    "unique_links = list(set(links))\n",
    "(len(unique_links),len(links))"
   ]
  },
  {
   "cell_type": "code",
   "execution_count": 49,
   "metadata": {},
   "outputs": [
    {
     "name": "stdout",
     "output_type": "stream",
     "text": [
      "0\n",
      "100\n",
      "200\n",
      "300\n",
      "400\n",
      "500\n",
      "600\n"
     ]
    }
   ],
   "source": [
    "names,prices,material_lists,counts = scrape_details(unique_links)"
   ]
  },
  {
   "cell_type": "code",
   "execution_count": 44,
   "metadata": {},
   "outputs": [],
   "source": [
    "informations = run_selenium(unique_links)"
   ]
  },
  {
   "cell_type": "code",
   "execution_count": 51,
   "metadata": {},
   "outputs": [
    {
     "name": "stdout",
     "output_type": "stream",
     "text": [
      "[[' Polyester', ' Polyester recyclé', ' Élasthanne'], [' Coton', ' Polyester'], [' Polyester', ' Élasthanne'], [' Polyester', ' Polyester recyclé', ' Élasthanne'], [' Coton', ' Polyester'], [' Coton', ' Élasthanne'], [' Coton'], [' Viscose', ' Viscose LivaEco™', ' Élasthanne'], [' Coton', ' Coton recyclé', ' Polyester'], [' Coton', ' Coton recyclé'], [' Polyester', ' Polyester recyclé', ' Viscose', ' Viscose LivaEco™', ' Élasthanne'], [' Lin', \" Polyester recyclé d'origine textile\", ' Viscose', ' Viscose LivaEco™'], [' Polyester', ' Polyester recyclé', ' Élasthanne'], [' Polyamide', ' Polyamide recyclé', ' Élasthanne'], [' Polyamide', ' Polyamide recyclé', ' Polyester', ' Polyester recyclé', ' Élasthanne'], [' Polyamide', ' Polyester', ' Polyester recyclé'], [' Polyamide', ' Polyamide recyclé', ' Polyester', ' Polyester recyclé', ' Élasthanne'], [' Coton', ' Coton recyclé', ' Polyester'], [' Coton', ' Coton biologique', ' Viscose', ' Viscose LivaEco™', ' Élasthanne'], [' Laine', ' Lyocell', ' Lyocell Tencel™'], [' Lin', ' Viscose', ' Viscose LivaEco™'], [' Coton', ' Coton recyclé', ' Lin'], [' Polyester', ' Polyester recyclé', \" Polyester recyclé d'origine textile\", ' Viscose', ' Viscose LivaEco™', ' Élasthanne'], [' Lin', ' Viscose', ' Viscose LivaEco™'], [' Laine', ' Polyester', ' Polyester recyclé', ' Élasthanne'], [' Polyamide', ' Polyamide recyclé', ' Polyester', ' Polyester recyclé', ' Élasthanne'], [' Lyocell', ' Lyocell Tencel™', ' Polyamide', ' Viscose'], [' Coton', ' Coton recyclé', ' Polyester', ' Polyester recyclé'], [' Viscose'], [' Coton', ' Polyester', ' Viscose'], [' Coton', ' Coton recyclé', ' Polyester', ' Élasthanne'], [' Coton', ' Lin', ' Soie'], [' Lin', ' Polyester', ' Polyester recyclé', \" Polyester recyclé d'origine textile\", ' Viscose', ' Viscose LivaEco™', ' Élasthanne'], [' Polyuréthane'], [' Polyester', ' Polyester recyclé', \" Polyester recyclé d'origine textile\", ' Viscose', ' Élasthanne'], [' Lin', ' Polyester', \" Polyester recyclé d'origine textile\", ' Viscose', ' Viscose LivaEco™'], [' Lin', ' Polyester', ' Polyester recyclé', ' Viscose', ' Viscose LivaEco™'], [' Polyamide recyclé', ' Polyester', ' Polyester recyclé', ' Élasthanne'], [' Laine'], [' Polyester', ' Polyester recyclé', ' Élasthanne'], [' Laine', ' Viscose'], [' Acrylique', ' Polyamide', ' Polyamide recyclé'], [' Coton', ' Lin', ' Viscose'], [' Coton', ' Coton recyclé', ' Polyester', ' Polyester recyclé'], [' Polyester', ' Polyester recyclé'], [' Polyamide recyclé', ' Polyester', ' Polyester recyclé', ' Élasthanne'], [' Coton', ' Coton recyclé', ' Polyester', ' Polyester recyclé'], [' Polyester'], [' Polyamide', ' Viscose', ' Viscose LivaEco™', ' Élasthanne'], [' Polyester', ' Élasthanne'], [' Acrylique', ' Polyamide', ' Polyester', ' Polyester recyclé', ' Élasthanne'], [' Polyamide', ' Polyamide recyclé', ' Polyester', ' Polyester recyclé', ' Élasthanne'], [' Polyester', ' Polyester recyclé', \" Polyester recyclé d'origine textile\", ' Viscose', ' Viscose LivaEco™', ' Élasthanne'], [' Coton', ' Coton recyclé', ' Polyester', ' Polyester recyclé'], [' Coton', ' Polyester', ' Élasthanne'], [' Coton', ' Polyamide', ' Polyester'], [' Coton', ' Polyester'], [' Coton', ' Coton recyclé', ' Polyester', ' Polyester recyclé'], [' Lin', ' Viscose', ' Viscose LivaEco™'], [' Viscose', ' Viscose LivaEco™'], [' Polyester', ' Polyester recyclé', ' Viscose', ' Viscose LENZING™ ECOVERO™'], [' Polyuréthane'], [' Polyamide', ' Polyamide recyclé', ' Élasthanne'], [' Lyocell', ' Lyocell Tencel™', ' Polyester', ' Polyester recyclé'], [' Coton', ' Coton recyclé'], [' Coton', ' Lyocell', ' Polyester'], [' Coton', ' Coton recyclé'], [' Coton', ' Polyester'], [' Polyester', ' Polyester recyclé'], [' Lin', ' Polyester', ' Viscose', ' Viscose LivaEco™'], [' Coton', ' Coton recyclé', ' Polyester', ' Polyester recyclé', ' Viscose'], [' Coton', ' Coton recyclé', ' Lin'], [' Coton', ' Polyester'], [' Polyester', ' Polyester recyclé'], [' Coton'], [' Coton', ' Lyocell', ' Élasthanne'], [' Viscose', ' Viscose LivaEco™'], [' Lin', ' Polyester', \" Polyester recyclé d'origine textile\", ' Viscose', ' Viscose LivaEco™'], [' Polyester', ' Polyester recyclé', \" Polyester recyclé d'origine textile\", ' Élasthanne'], [' Coton', ' Polyamide', ' Polyester'], [' Coton', ' Polyamide', ' Polyester'], [' Polyamide', ' Polyamide recyclé', ' Élasthanne'], [' Polyester', ' Polyester recyclé', ' Viscose', ' Viscose LivaEco™', ' Élasthanne'], [' Soie', ' Viscose', ' Élasthanne'], [' Polyester', ' Polyester recyclé', ' Élasthanne'], [' Coton', ' Lin'], [' Coton', ' Coton recyclé', ' Polyester', ' Polyester recyclé'], [' Coton', ' Polyester'], [' Coton', ' Coton recyclé'], [' Coton', ' Coton recyclé', ' Élasthanne'], [' Polyamide', ' Polyamide recyclé', ' Polyester', ' Élasthanne'], [' Polyester', ' Polyester recyclé', ' Élasthanne'], [' Polyester', ' Polyester recyclé', ' Élasthanne'], [' Polyester', ' Viscose', ' Élasthanne'], [' Coton', ' Coton recyclé', ' Lin'], [' Polyester', ' Polyester recyclé', ' Élasthanne'], [' Polyamide recyclé', ' Polyester', ' Polyester recyclé', ' Élasthanne'], [' Coton', ' Coton recyclé', ' Polyester'], [' Coton', ' Lin', ' Polyester', \" Polyester recyclé d'origine textile\", ' Viscose', ' Viscose LENZING™ ECOVERO™'], [' Coton'], [' Polyester', ' Polyester recyclé', ' Élasthanne'], [' Coton', ' Coton recyclé', ' Polyester', ' Polyester recyclé', ' Élasthanne'], [' Polyester', ' Polyester recyclé', \" Polyester recyclé d'origine textile\", ' Élasthanne'], [' Polyester', ' Polyester recyclé', ' Viscose', ' Élasthanne'], [' Coton'], [' Viscose', ' Viscose LivaEco™'], [' Coton', ' Coton recyclé', ' Polyester'], [' Viscose', ' Viscose LivaEco™', ' Élasthanne'], [' Polyester', ' Polyester recyclé', ' Élasthanne'], [' Laine', ' Polyester', ' Polyester recyclé', ' Viscose'], [' Polyamide', ' Polyamide recyclé', ' Polyester', ' Polyester recyclé', ' Élasthanne'], [' Polyamide', ' Polyamide recyclé', ' Polyester', ' Polyester recyclé', ' Élasthanne'], [' Polyamide recyclé', ' Polyester', ' Polyester recyclé', ' Élasthanne'], [' Polyamide', ' Polyamide recyclé', ' Polyester', ' Polyester recyclé', ' Élasthanne'], [' Lin', \" Polyester recyclé d'origine textile\", ' Viscose', ' Viscose LivaEco™'], [' Polyester'], [' Coton', ' Polyamide', ' Polyester'], [' Polyester', ' Polyuréthane'], [' Polyester', ' Polyester recyclé', \" Polyester recyclé d'origine textile\", ' Élasthanne'], [' Coton', ' Lin', ' Lyocell', ' Lyocell Tencel™', ' Polyester', ' Viscose', ' Viscose LENZING™ ECOVERO™'], [' Polyamide recyclé', ' Polyester', ' Polyester recyclé', ' Élasthanne'], [' Polyamide', ' Polyamide recyclé', ' Polyester', ' Polyester recyclé', ' Élasthanne'], [' Coton', ' Coton recyclé', ' Polyester'], [' Coton', ' Lin', ' Polyester', ' Viscose', ' Viscose LivaEco™'], [' Autres fibres', ' Polyester', ' Polyester recyclé', \" Polyester recyclé d'origine textile\", ' Élasthanne'], [' Lin', ' Viscose', ' Viscose LivaEco™'], [' Coton', ' Coton recyclé', ' Polyester', ' Polyester recyclé'], [' Polyester', ' Polyester recyclé', \" Polyester recyclé d'origine textile\", ' Élasthanne'], [' Coton'], [' Polyamide', ' Polyester', ' Viscose', ' Viscose LENZING™ ECOVERO™'], [' Polyester', ' Polyester recyclé', ' Viscose', ' Élasthanne'], [' Polyamide recyclé', ' Polyester', ' Polyester recyclé', ' Élasthanne'], [' Coton', ' Coton recyclé', ' Polyester', ' Polyester recyclé'], [' Polyester', ' Polyester recyclé'], [' Coton', ' Coton recyclé', ' Polyester', ' Polyester recyclé', ' Élasthanne'], [' Polyester', ' Polyester recyclé', ' Élasthanne'], [' Polyester', ' Polyester recyclé', ' Viscose', ' Viscose LivaEco™', ' Élasthanne'], [' Polyamide', ' Polyamide recyclé', ' Élasthanne'], [' Coton', ' Lin', ' Viscose'], [' Coton', ' Coton recyclé'], [' Laine'], [' Viscose', ' Viscose LivaEco™'], [' Coton', ' Élasthanne'], [' Lin', ' Lyocell'], [' Coton', ' Élasthanne'], [' Lin', \" Polyester recyclé d'origine textile\", ' Viscose', ' Viscose LivaEco™'], [' Cuir'], [' Polyamide', ' Polyamide recyclé', ' Élasthanne'], [' Polyester', ' Polyester recyclé', ' Viscose', ' Viscose LivaEco™', ' Élasthanne'], [' Coton'], [' Polyamide', ' Polyamide recyclé', ' Polyester', ' Polyester recyclé', ' Élasthanne'], [' Polyamide recyclé', ' Polyester', ' Polyester recyclé', ' Élasthanne'], [' Cuir', ' Viscose'], [' Polyester', ' Polyuréthane'], [' Polyamide', ' Polyamide recyclé', ' Élasthanne'], [' Coton', ' Coton recyclé', ' Polyester', ' Polyester recyclé'], [' Polyamide', ' Polyester', ' Polyester recyclé'], [' Laine'], [' Polyester', ' Élasthanne'], [' Viscose', ' Élasthanne'], [' Polyamide', ' Polyamide recyclé', ' Polyester recyclé', ' Élasthanne'], [' Polyester', ' Polyester recyclé', ' Élasthanne'], [' Acrylique', ' Viscose', ' Viscose LivaEco™'], [' Coton', ' Lin'], [' Coton', ' Lin', ' Polyester', ' Viscose'], [' Polyamide', ' Polyamide recyclé', ' Élasthanne'], [' Coton', ' Lin', ' Polyester', ' Viscose'], [' Polyester', ' Polyester recyclé'], [' Coton', ' Coton recyclé', ' Lin'], [' Polyamide', ' Polyamide recyclé', ' Élasthanne'], [' Polyamide'], [' Polyester', ' Polyester recyclé', ' Élasthanne'], [' Coton', ' Coton recyclé', ' Polyester recyclé', ' Élasthanne'], [' Coton', ' Cuir', ' Élasthanne'], [' Coton', ' Coton recyclé', ' Polyester', ' Polyester recyclé'], [' Laine', ' Polyamide', ' Viscose'], [' Polyamide'], [' Polyester', ' Élasthanne'], [' Laine', ' Polyamide', ' Polyester', ' Polyester recyclé'], [' Coton', ' Coton recyclé', ' Polyester', ' Polyester recyclé'], [' Coton', ' Élasthanne'], [' Lin'], [' Polyamide', ' Polyester', ' Polyester recyclé', ' Viscose', ' Viscose LivaEco™'], [' Laine', ' Polyamide', ' Polyester'], [' Polyamide recyclé', ' Polyester', ' Polyester recyclé', ' Élasthanne'], [' Coton', ' Lin'], [' Coton', ' Lin', ' Soie'], [' Polyester', ' Polyester recyclé', \" Polyester recyclé d'origine textile\", ' Viscose', ' Élasthanne'], [' Coton', ' Lin', \" Polyester recyclé d'origine textile\", ' Viscose', ' Viscose LENZING™ ECOVERO™'], [' Coton', ' Élasthanne'], [' Polyamide', ' Élasthanne'], [' Polyamide', ' Polyamide recyclé', ' Polyester', ' Polyester recyclé', ' Élasthanne'], [' Polyester', \" Polytéréphtalate d'éthylène\"], [' Coton', ' Coton recyclé', ' Élasthanne'], [' Polyester', ' Polyester recyclé', \" Polyester recyclé d'origine textile\", ' Viscose', ' Élasthanne'], [' Polyester', ' Polyester recyclé', ' Viscose LivaEco™', ' Élasthanne'], [' Coton', ' Coton recyclé', ' Lin'], [' Coton', ' Coton recyclé', ' Élasthanne'], [' Coton'], [' Polyester', ' Polyester recyclé', \" Polyester recyclé d'origine textile\", ' Élasthanne'], [' Coton', ' Coton recyclé', ' Élasthanne'], [' Polyamide', ' Polyamide recyclé', ' Élasthanne'], [' Coton', ' Polyester'], [' Coton', ' Polyester', ' Polyester recyclé', \" Polyester recyclé d'origine textile\", ' Viscose LivaEco™', ' Élasthanne'], [' Coton', ' Coton recyclé'], [' Polyamide'], [' Polyester', ' Polyester recyclé', \" Polyester recyclé d'origine textile\", ' Viscose', ' Viscose LivaEco™', ' Élasthanne'], [' Coton', ' Polyamide', ' Polyester', ' Polyester recyclé', ' Élasthanne'], [' Soie', ' Viscose'], [' Coton', ' Lin', ' Polyester', ' Viscose'], [' Polyamide recyclé', ' Polyester', ' Polyester recyclé', ' Élasthanne'], [' Coton', ' Élasthanne'], [' Polyamide', ' Polyamide recyclé', ' Polyester', ' Polyester recyclé', ' Viscose', ' Viscose LENZING™ ECOVERO™'], [' Coton', ' Coton recyclé', ' Lin'], [' Polyester', ' Polyester recyclé', ' Viscose', ' Viscose LivaEco™', ' Élasthanne'], [' Polyester', ' Polyester recyclé', \" Polyester recyclé d'origine textile\", ' Élasthanne'], [' Polyester', ' Polyester recyclé', ' Élasthanne'], [' Coton', ' Lin'], [' Lin', \" Polyester recyclé d'origine textile\", ' Viscose', ' Viscose LivaEco™'], [' Coton'], [' Lin', ' Viscose', ' Viscose LivaEco™'], [' Polyester', ' Polyester recyclé'], [' Viscose', ' Viscose LENZING™ ECOVERO™'], [' Polyamide', ' Polyester', ' Polyester recyclé', ' Viscose', ' Viscose LivaEco™'], [' Polyester', ' Polyester recyclé', ' Viscose', ' Viscose LivaEco™', ' Élasthanne'], [' Coton', ' Coton recyclé'], [' Coton', ' Polyamide', ' Polyester'], [' Polyester', ' Polyester recyclé', \" Polyester recyclé d'origine textile\", ' Élasthanne'], [' Coton', ' Lyocell', ' Lyocell Tencel™', ' Élasthanne'], [' Coton', ' Lin', ' Polyester', ' Polyester recyclé', ' Viscose', ' Viscose LivaEco™', ' Élasthanne'], [' Lin', ' Polyester', \" Polyester recyclé d'origine textile\", ' Viscose', ' Viscose LENZING™ ECOVERO™'], [' Polyester', ' Polyester recyclé', \" Polyester recyclé d'origine textile\", ' Viscose', ' Viscose LivaEco™', ' Élasthanne'], [' Polyester', ' Polyester recyclé', \" Polyester recyclé d'origine textile\", ' Viscose', ' Élasthanne'], [' Coton', ' Polyamide', ' Polyester'], [' Coton', ' Élasthanne'], [' Coton'], [' Coton', ' Polyamide', ' Polyester', ' Élasthanne'], [' Coton'], [' Coton', ' Élasthanne'], [' Polyester', ' Polyester recyclé', ' Élasthanne'], [' Polyester', ' Polyester recyclé', \" Polyester recyclé d'origine textile\", ' Viscose'], [' Coton', ' Coton recyclé', ' Polyester', ' Polyester recyclé', ' Élasthanne'], [' Polyester', ' Polyester recyclé', \" Polyester recyclé d'origine textile\", ' Viscose', ' Viscose LivaEco™', ' Élasthanne'], [' Polyamide', ' Élasthanne'], [' Coton', ' Polyester'], [' Polyester', ' Polyester recyclé', \" Polyester recyclé d'origine textile\", ' Viscose', ' Viscose LivaEco™', ' Élasthanne'], [' Lin', \" Polyester recyclé d'origine textile\", ' Viscose', ' Viscose LivaEco™'], [' Coton', ' Coton recyclé'], [' Polyamide', ' Polyester', ' Polyester recyclé', ' Viscose', ' Viscose LivaEco™'], [' Polyamide recyclé', ' Polyester', ' Polyester recyclé', ' Élasthanne'], [' Polyester', ' Polyester recyclé', ' Viscose', ' Viscose LivaEco™', ' Élasthanne'], [' Polyamide', ' Polyester', ' Viscose', ' Viscose LENZING™ ECOVERO™'], [' Laine', ' Lyocell'], [' Polyamide', ' Viscose', ' Viscose LivaEco™'], [' Viscose', ' Viscose LENZING™ ECOVERO™'], [' Viscose', ' Élasthanne'], [' Viscose', ' Viscose LivaEco™'], [' Polyamide', ' Polyamide recyclé', ' Élasthanne'], [' Laine', ' Viscose', ' Élasthanne'], [' Polyester', ' Polyester recyclé', \" Polyester recyclé d'origine textile\", ' Viscose', ' Élasthanne'], [' Cuir', ' Viscose'], [' Coton', ' Coton recyclé'], [' Coton', ' Coton biologique', ' Viscose', ' Viscose LivaEco™', ' Élasthanne'], [' Lin', ' Polyester', \" Polyester recyclé d'origine textile\", ' Viscose', ' Viscose LivaEco™'], [' Lin', \" Polyester recyclé d'origine textile\", ' Viscose', ' Viscose LivaEco™'], [' Polyester', ' Polyester recyclé', \" Polyester recyclé d'origine textile\", ' Viscose', ' Viscose LivaEco™', ' Élasthanne'], [' Polyamide recyclé', ' Polyester', ' Polyester recyclé', ' Élasthanne'], [' Coton', ' Coton biologique', ' Polyester'], [' Lin', \" Polyester recyclé d'origine textile\", ' Viscose', ' Viscose LivaEco™'], [' Coton', ' Coton biologique', ' Polyester', ' Polyester recyclé', ' Viscose'], [' Polyamide', ' Polyamide recyclé', ' Élasthanne'], [' Polyester', ' Polyester recyclé'], [' Polyamide'], [' Lin', ' Polyester', \" Polyester recyclé d'origine textile\", ' Viscose', ' Viscose LivaEco™'], [' Polyester', ' Polyester recyclé', ' Élasthanne'], [' Coton'], [' Polyester', ' Polyester recyclé', ' Élasthanne'], [' Polyester', ' Polyester recyclé', ' Élasthanne'], [' Polyester', ' Viscose', ' Élasthanne'], [' Polyamide', ' Polyamide recyclé', ' Polyester', ' Polyester recyclé', ' Élasthanne'], [' Coton'], [' Coton', ' Polyester', ' Élasthanne'], [' Polyester', ' Élasthanne'], [' Polyamide recyclé', ' Polyester', ' Polyester recyclé', ' Élasthanne'], [' Polyamide', ' Polyamide recyclé', ' Polyester', ' Polyester recyclé', ' Élasthanne'], [' Coton', ' Polyester', ' Élasthanne'], [' Polyester', ' Polyester recyclé', ' Viscose', ' Élasthanne'], [' Polyester', ' Polyester recyclé', ' Élasthanne'], [' Polyester', ' Polyester recyclé', ' Viscose', ' Viscose LivaEco™', ' Élasthanne'], [' Lin', ' Polyester', ' Polyester recyclé', ' Viscose', ' Viscose LivaEco™'], [' Lin', ' Lyocell', ' Soie'], [' Lin', ' Lyocell'], [' Coton', ' Coton recyclé', ' Élasthanne'], [' Coton'], [' Polyester', ' Polyester recyclé', ' Élasthanne'], [' Coton', ' Élasthanne'], [' Polyamide', ' Polyamide recyclé', ' Polyester', ' Polyester recyclé', ' Élasthanne'], [' Polyamide', ' Polyester', \" Polyester recyclé d'origine textile\", ' Viscose', ' Viscose LENZING™ ECOVERO™'], [' Lin'], [' Polyester', ' Polyester recyclé', ' Viscose', ' Élasthanne'], [' Polyamide', ' Polyester', ' Polyester recyclé', ' Viscose', ' Viscose LivaEco™'], [' Polyester', ' Polyester recyclé', \" Polyester recyclé d'origine textile\"], [' Polyamide recyclé', ' Polyester', ' Polyester recyclé', ' Élasthanne'], [' Polyamide', ' Polyamide recyclé', ' Polyester', ' Polyester recyclé', ' Élasthanne'], [' Coton', ' Coton recyclé', ' Polyester', ' Polyester recyclé'], [' Coton', ' Élasthanne'], [' Viscose', ' Viscose LivaEco™'], [' Coton', ' Polyester', ' Viscose'], [' Polyester', ' Polyester recyclé', ' Élasthanne'], [' Laine', ' Soie', ' Viscose'], [' Polyester', ' Élasthanne'], [' Lin', ' Viscose', ' Viscose LivaEco™'], [' Coton', ' Coton recyclé', ' Élasthanne'], [' Viscose', ' Viscose LENZING™ ECOVERO™'], [' Polyamide', ' Polyamide recyclé', ' Polyester', ' Polyester recyclé', ' Élasthanne'], [' Autres fibres', ' Laine', ' Polyester', ' Polyester recyclé'], [' Polyester', ' Polyester recyclé'], [' Polyester', ' Polyester recyclé', ' Élasthanne'], [' Polyester', ' Polyester recyclé', \" Polyester recyclé d'origine textile\", ' Viscose', ' Élasthanne'], [' Polyester', ' Polyester recyclé', \" Polyester recyclé d'origine textile\", ' Viscose', ' Élasthanne'], [' Coton', ' Coton recyclé', ' Polyester'], [' Lin', \" Polyester recyclé d'origine textile\", ' Viscose', ' Viscose LivaEco™'], [' Polyester', ' Polyester recyclé', ' Élasthanne'], [' Coton'], [' Polyester', ' Polyester recyclé', \" Polyester recyclé d'origine textile\", ' Élasthanne'], [' Viscose', ' Élasthanne'], [' Coton'], [' Polyester', ' Polyester recyclé', \" Polyester recyclé d'origine textile\", ' Viscose', ' Viscose LivaEco™', ' Élasthanne'], [' Coton', ' Coton recyclé', ' Lin'], [' Coton', ' Coton recyclé', ' Polyester', ' Polyester recyclé'], [' Polyester', ' Polyester recyclé', ' Viscose', ' Viscose LivaEco™', ' Élasthanne'], [' Coton', ' Polyester'], [' Polyester', \" Polyester recyclé d'origine textile\", ' Viscose', ' Viscose LENZING™ ECOVERO™', ' Élasthanne'], [' Coton', ' Polyamide'], [' Lin', ' Polyester recyclé', ' Viscose', ' Viscose LivaEco™'], [' Coton', ' Polyester', ' Polyester recyclé', ' Viscose', ' Viscose LENZING™ ECOVERO™', ' Élasthanne'], [' Polyester', ' Polyester recyclé', ' Élasthanne'], [' Coton'], [' Cuir', ' Viscose'], [' Lin', \" Polyester recyclé d'origine textile\", ' Viscose', ' Viscose LivaEco™'], [' Polyester', ' Polyester recyclé', \" Polyester recyclé d'origine textile\", ' Viscose', ' Élasthanne'], [' Coton', ' Polyester'], [' Coton'], [' Coton'], [' Polyester', ' Polyester recyclé', \" Polyester recyclé d'origine textile\", ' Viscose', ' Viscose LivaEco™', ' Élasthanne'], [' Coton'], [' Polyester', ' Polyester recyclé', ' Viscose', ' Viscose LivaEco™', ' Élasthanne'], [' Lin', ' Polyester', \" Polyester recyclé d'origine textile\", ' Viscose', ' Viscose LivaEco™'], [' Coton', ' Polyester', ' Élasthanne'], [' Coton', ' Coton recyclé', ' Polyester', ' Polyester recyclé'], [' Coton', ' Lin'], [' Viscose', ' Viscose LivaEco™'], [' Coton', ' Coton recyclé'], [' Polyamide', ' Polyamide recyclé', ' Polyester', ' Polyester recyclé', ' Élasthanne'], [' Coton'], [' Lin', \" Polyester recyclé d'origine textile\", ' Viscose', ' Viscose LivaEco™'], [' Coton', ' Polyester', ' Polyester recyclé', \" Polyester recyclé d'origine textile\", ' Viscose LivaEco™', ' Élasthanne'], [' Polyamide recyclé', ' Polyester', ' Polyester recyclé', ' Élasthanne'], [' Lin', ' Viscose'], [' Viscose', ' Viscose LivaEco™', ' Élasthanne'], [' Lin', ' Polyester recyclé', ' Viscose', ' Viscose LivaEco™'], [' Polyester', ' Viscose', ' Élasthanne'], [' Polyester', ' Polyester recyclé', \" Polyester recyclé d'origine textile\", ' Viscose', ' Viscose LivaEco™', ' Élasthanne'], [' Viscose', ' Viscose LivaEco™'], [' Polyamide recyclé', ' Polyester', ' Polyester recyclé', ' Élasthanne'], [' Viscose', ' Viscose LivaEco™', ' Élasthanne'], [' Polyester', ' Polyester recyclé', ' Élasthanne'], [' Polyester', ' Polyester recyclé', \" Polyester recyclé d'origine textile\", ' Élasthanne'], [' Polyamide', ' Polyamide recyclé', ' Polyester'], [' Laine', ' Viscose'], [' Coton', ' Polyester'], [' Polyester', ' Élasthanne'], [' Coton'], [' Coton', ' Lin'], ['N', 'A'], [' Polyester', ' Élasthanne'], [' Viscose', ' Viscose LivaEco™'], [' Coton', ' Coton recyclé', ' Polyester', ' Polyester recyclé'], [' Coton'], [' Coton'], [' Coton', ' Polyamide', ' Polyester'], [' Polyester', ' Polyester recyclé', ' Élasthanne'], [' Coton', ' Coton recyclé', ' Lin'], [' Coton'], [' Polyamide', ' Polyamide recyclé', ' Polyester', ' Polyester recyclé', ' Élasthanne'], [' Coton', ' Polyester', ' Viscose'], [' Polyamide'], [' Coton', ' Polyamide', ' Polyamide recyclé', ' Polyester', ' Polyester recyclé', ' Élasthanne'], [' Acrylique', ' Laine', ' Polyamide', ' Polyester', ' Polyester recyclé', ' Élasthanne'], [' Polyester', ' Polyester recyclé', \" Polyester recyclé d'origine textile\", ' Viscose', ' Viscose LivaEco™', ' Élasthanne'], [' Polyester', ' Polyester recyclé'], [' Polyamide', ' Polyester', ' Polyester recyclé'], [' Polyamide', ' Polyamide recyclé', ' Polyester', ' Polyester recyclé', ' Viscose'], [' Lin'], [' Polyester', ' Polyester recyclé', ' Viscose', ' Viscose LivaEco™', ' Élasthanne'], [' Laine', ' Polyester', ' Viscose'], [' Lin', ' Viscose', ' Viscose LivaEco™'], [' Polyamide', ' Polyamide recyclé', ' Polyester', ' Polyester recyclé', ' Élasthanne'], [' Coton', ' Coton recyclé', ' Polyester', ' Polyester recyclé'], [' Polyester', ' Polyester recyclé', ' Viscose', ' Élasthanne'], [' Coton', ' Coton recyclé', ' Élasthanne'], [' Coton', ' Coton biologique', ' Polyester'], [' Polyester', ' Viscose', ' Élasthanne'], [' Lin', ' Viscose', ' Viscose LivaEco™'], [' Polyamide', ' Polyamide recyclé', ' Polyester', ' Polyester recyclé', ' Élasthanne'], [' Coton'], [' Polyester', ' Polyester recyclé', \" Polyester recyclé d'origine textile\", ' Viscose', ' Viscose LivaEco™', ' Élasthanne'], [' Lin', ' Polyester', ' Polyester recyclé', ' Viscose', ' Viscose LivaEco™'], [' Polyester', ' Polyester recyclé', \" Polyester recyclé d'origine textile\", ' Élasthanne'], [' Polyester', ' Polyester recyclé', ' Viscose', ' Viscose LivaEco™'], [' Polyester', ' Polyester recyclé', ' Élasthanne'], [' Coton', ' Polyester'], [' Polyester', ' Polyester recyclé', \" Polyester recyclé d'origine textile\", ' Viscose', ' Viscose LivaEco™', ' Élasthanne'], [' Cachemire', ' Laine'], [' Coton', ' Coton recyclé'], [' Viscose', ' Viscose LENZING™ ECOVERO™', ' Élasthanne'], [' Coton', ' Coton recyclé', ' Élasthanne'], [' Coton', ' Élasthanne'], [' Lin'], [' Coton', ' Coton recyclé'], [' Polyester', ' Polyester recyclé'], [' Coton'], [' Acrylique', ' Viscose'], [' Polyamide', ' Polyester', ' Viscose', ' Viscose LENZING™ ECOVERO™'], [' Lin', ' Polyester', ' Viscose'], [' Polyester', ' Viscose', ' Viscose LENZING™ ECOVERO™'], [' Polyamide', ' Élasthanne'], [' Polyamide', ' Polyamide recyclé', ' Élasthanne'], [' Coton', ' Élasthanne'], [' Polyester', ' Viscose'], [' Coton', ' Coton recyclé', ' Polyester', ' Polyester recyclé'], [' Laine', ' Polyester', ' Viscose'], [' Laine', ' Laine de yack'], [' Coton', ' Coton recyclé', ' Polyester', ' Polyester recyclé'], [' Coton', ' Coton recyclé'], [' Polyester', ' Polyester recyclé', ' Viscose', ' Élasthanne'], [' Lin', ' Viscose'], [' Coton', ' Coton recyclé', ' Polyester recyclé', ' Élasthanne'], [' Coton', ' Lin', ' Soie'], [' Polyester', ' Polyester recyclé', ' Viscose', ' Viscose LivaEco™', ' Élasthanne'], [' Coton', ' Viscose'], [' Polyester', ' Polyester recyclé', ' Viscose', ' Viscose LivaEco™'], [' Coton', ' Coton recyclé', ' Lin'], [' Polyester', ' Polyester recyclé', ' Viscose', ' Élasthanne'], [' Polyester', ' Polyester recyclé', ' Viscose', ' Élasthanne'], [' Polyester', ' Polyester recyclé', ' Viscose', ' Élasthanne'], [' Coton', ' Polyester'], [' Polyester', ' Polyester recyclé', ' Élasthanne'], [' Lin', ' Polyester', ' Viscose'], [' Polyamide', ' Polyester recyclé', ' Élasthanne'], [' Polyamide', ' Polyester', ' Élasthanne'], [' Polyamide', ' Polyamide recyclé', ' Élasthanne'], [' Polyester', ' Polyester recyclé', \" Polyester recyclé d'origine textile\", ' Élasthanne'], [' Polyester', ' Polyester recyclé'], [' Polyamide', ' Polyester', ' Polyester recyclé', ' Élasthanne'], [' Coton', ' Viscose'], [' Coton', ' Coton recyclé', ' Polyester', ' Polyester recyclé'], [' Polyester', ' Polyuréthane'], [' Polyamide recyclé', ' Polyester', ' Polyester recyclé', ' Élasthanne'], [' Coton', ' Coton recyclé', ' Polyester', ' Polyester recyclé'], [' Coton', ' Élasthanne'], [' Polyester', ' Polyester recyclé', ' Élasthanne'], [' Polyester', ' Polyester recyclé', ' Élasthanne'], [' Coton', ' Polyester'], [' Polyester', ' Polyester recyclé', ' Élasthanne'], [' Polyester', ' Polyester recyclé', \" Polyester recyclé d'origine textile\", ' Viscose', ' Viscose LivaEco™', ' Élasthanne'], [' Coton', ' Coton recyclé', ' Polyester', ' Polyester recyclé'], [' Polyamide', ' Polyamide recyclé', ' Polyester', ' Polyester recyclé', ' Élasthanne'], [' Polyamide recyclé', ' Polyester', ' Polyester recyclé', ' Élasthanne'], [' Coton', ' Polyester', ' Polyester recyclé', \" Polyester recyclé d'origine textile\", ' Élasthanne'], [' Polyester', ' Polyester recyclé', ' Élasthanne'], [' Coton', ' Lin', ' Polyester', ' Viscose'], [' Soie', ' Viscose'], [' Coton', ' Polyester', ' Viscose'], [' Coton', ' Coton recyclé', ' Polyester', ' Polyester recyclé'], [' Acétate', ' Polyester'], [' Coton', ' Coton recyclé'], [' Polyester', ' Polyuréthane'], [' Polyester', ' Polyester recyclé', ' Élasthanne'], [' Coton', ' Polyamide', ' Viscose', ' Viscose LivaEco™'], [' Polyester', ' Polyester recyclé', \" Polyester recyclé d'origine textile\", ' Viscose', ' Viscose LivaEco™', ' Élasthanne'], [' Polyamide', ' Polyamide recyclé', ' Élasthanne'], [' Coton', ' Coton recyclé', ' Polyester', ' Polyester recyclé'], [' Polyester', ' Polyester recyclé', \" Polyester recyclé d'origine textile\", ' Élasthanne'], [' Lin', ' Viscose', ' Viscose LivaEco™'], [' Coton', ' Élasthanne'], [' Coton', ' Lin'], [' Polyester', ' Polyuréthane'], [' Coton', ' Coton recyclé', ' Polyester', ' Polyester recyclé'], [' Polyester', ' Polyester recyclé', ' Viscose', ' Viscose LivaEco™', ' Élasthanne'], [' Lin', ' Viscose', ' Viscose LivaEco™'], [' Cuir'], [' Polyester', ' Polyester recyclé', \" Polyester recyclé d'origine textile\", ' Viscose', ' Élasthanne'], [' Polyamide', ' Polyester', \" Polyester recyclé d'origine textile\", ' Viscose', ' Viscose LENZING™ ECOVERO™'], [' Polyester', ' Polyester recyclé', ' Élasthanne'], [' Coton', ' Lyocell', ' Lyocell Tencel™', ' Élasthanne'], [' Lin', ' Lyocell'], [' Coton', ' Coton recyclé', ' Polyester', ' Polyester recyclé'], [' Polyamide', ' Polyester', \" Polyester recyclé d'origine textile\", ' Viscose', ' Viscose LivaEco™'], [' Lin', ' Viscose', ' Viscose LivaEco™'], [' Coton', ' Coton recyclé', ' Polyester', ' Polyester recyclé'], [' Polyester', ' Polyester recyclé', ' Élasthanne'], [' Polyamide', ' Polyester', ' Polyester recyclé'], [' Coton', ' Coton biologique'], [' Polyester'], [' Polyamide', ' Polyamide recyclé', ' Élasthanne'], [' Viscose', ' Viscose LivaEco™'], [' Polyamide', ' Viscose', ' Viscose LENZING™ ECOVERO™'], [' Coton', ' Polyamide', ' Polyester'], [' Polyester', ' Polyester recyclé', ' Élasthanne'], [' Polyester', ' Polyester recyclé'], [' Coton', ' Coton recyclé', ' Polyester', ' Polyester recyclé'], [' Coton', ' Coton recyclé'], [' Lin', ' Polyester', \" Polyester recyclé d'origine textile\", ' Viscose', ' Viscose LivaEco™'], [' Polyester', ' Polyuréthane'], [' Polyamide', ' Viscose', ' Viscose LivaEco™'], [' Polyester', ' Polyester recyclé', ' Viscose', ' Viscose LivaEco™', ' Élasthanne'], [' Polyamide', ' Polyester', \" Polyester recyclé d'origine textile\", ' Viscose', ' Viscose LENZING™ ECOVERO™'], [' Polyamide recyclé', ' Polyester', ' Polyester recyclé', ' Élasthanne'], [' Polyester', ' Élasthanne'], [' Polyamide recyclé', ' Polyester', ' Polyester recyclé', ' Élasthanne'], [' Coton', ' Polyamide', ' Polyester', ' Élasthanne'], [' Lin', \" Polyester recyclé d'origine textile\", ' Viscose', ' Viscose LivaEco™'], [' Laine', ' Polyamide', ' Polyester'], [' Coton', ' Coton recyclé', ' Polyester', ' Polyester recyclé', ' Viscose', ' Élasthanne'], [' Polyester', ' Polyester recyclé', ' Viscose', ' Élasthanne'], [' Polyester', ' Polyester recyclé', \" Polyester recyclé d'origine textile\"], [' Coton', ' Polyamide', ' Polyester'], [' Coton', ' Lin'], [' Coton'], [' Polyester', ' Polyester recyclé', \" Polyester recyclé d'origine textile\", ' Viscose'], [' Coton', ' Lin'], [' Coton'], [' Coton'], [' Polyester', ' Polyuréthane', ' Élasthanne'], [' Polyester', ' Polyester recyclé', \" Polyester recyclé d'origine textile\", ' Élasthanne'], [' Coton', ' Lin', ' Polyester', ' Viscose'], [' Lin', ' Viscose', ' Viscose LivaEco™'], [' Coton', ' Lin'], [' Polyester', ' Polyester recyclé', ' Élasthanne'], [' Coton', ' Coton recyclé', ' Élasthanne'], [' Coton'], [' Polyester', ' Polyester recyclé', ' Élasthanne'], [' Coton', ' Coton biologique', ' Viscose', ' Viscose LivaEco™', ' Élasthanne'], [' Polyester', ' Polyester recyclé'], [' Acrylique', ' Polyamide', ' Viscose', ' Viscose LivaEco™'], [' Coton', ' Coton recyclé', ' Lin'], [' Coton', ' Lin', ' Polyester', ' Viscose', ' Viscose LivaEco™'], [' Coton', ' Coton recyclé', ' Polyester'], [' Coton', ' Coton recyclé'], [' Coton', ' Polyester', ' Polyester recyclé'], [' Coton', ' Élasthanne'], [' Coton', ' Lin', ' Viscose', ' Viscose LivaEco™'], [' Laine', ' Viscose'], [' Lin', ' Polyester', ' Viscose'], [' Coton'], [' Laine', ' Polyester', ' Viscose'], [' Coton', ' Lin'], [' Coton', ' Coton recyclé', ' Lin', ' Polyester', \" Polyester recyclé d'origine textile\"], [' Coton', ' Polyamide', ' Polyester', ' Polyester recyclé', ' Élasthanne'], [' Coton', ' Lyocell', ' Lyocell Tencel™', ' Élasthanne'], [' Polyamide', ' Polyester recyclé'], [' Polyamide', ' Polyamide recyclé', ' Élasthanne'], [' Polyamide recyclé', ' Polyester', ' Polyester recyclé', ' Élasthanne'], [' Coton', ' Lin'], [' Coton', ' Lin'], [' Coton', ' Élasthanne'], [' Polyamide', ' Viscose', ' Viscose LENZING™ ECOVERO™', ' Élasthanne'], [' Acrylique', ' Polyester', ' Polyester recyclé', ' Viscose'], [' Coton', ' Polyester'], [' Polyamide', ' Polyamide recyclé', ' Élasthanne'], [' Polyamide recyclé', ' Polyester', ' Polyester recyclé', ' Élasthanne'], [' Coton', ' Coton recyclé', ' Polyester', ' Polyester recyclé'], [' Polyester', ' Polyester recyclé', \" Polyester recyclé d'origine textile\", ' Élasthanne'], [' Viscose', ' Viscose LivaEco™', ' Élasthanne'], [' Polyester', ' Polyester recyclé', ' Viscose', ' Élasthanne'], [' Coton', ' Coton recyclé', ' Élasthanne'], [' Polyester', ' Polyester recyclé', \" Polyester recyclé d'origine textile\", ' Viscose', ' Viscose LivaEco™', ' Élasthanne'], [' Coton', ' Coton recyclé', ' Polyester', ' Polyester recyclé'], [' Polyester', ' Polyester recyclé', ' Élasthanne'], [' Coton', ' Polyester', ' Polyester recyclé', \" Polyester recyclé d'origine textile\", ' Élasthanne'], [' Coton'], [' Polyester', ' Polyester recyclé', \" Polyester recyclé d'origine textile\", ' Viscose', ' Élasthanne'], [' Polyester', ' Polyester recyclé', \" Polyester recyclé d'origine textile\", ' Viscose', ' Élasthanne'], [' Coton', ' Viscose'], [' Polyamide', ' Polyamide recyclé', ' Polyester', ' Polyester recyclé', ' Élasthanne'], [' Polyester', ' Polyester recyclé', ' Viscose', ' Viscose LivaEco™', ' Élasthanne'], [' Lin', ' Polyester', \" Polyester recyclé d'origine textile\", ' Viscose', ' Viscose LivaEco™'], [' Coton', ' Lin', ' Polyester', ' Viscose', ' Viscose LivaEco™'], [' Laine', ' Polyester', ' Polyester recyclé', ' Élasthanne'], [' Lin', \" Polyester recyclé d'origine textile\", ' Viscose', ' Viscose LivaEco™'], [' Polyester', ' Polyester recyclé', \" Polyester recyclé d'origine textile\", ' Élasthanne'], [' Lin', ' Viscose', ' Viscose LivaEco™'], [' Polyester', ' Polyester recyclé'], [' Polyester', ' Polyester recyclé', \" Polyester recyclé d'origine textile\", ' Élasthanne'], [' Polyester', ' Polyester recyclé', \" Polyester recyclé d'origine textile\", ' Viscose', ' Viscose LivaEco™', ' Élasthanne'], [' Coton', ' Coton recyclé', ' Polyester', ' Polyester recyclé'], [' Polyester', ' Élasthanne'], [' Polyamide'], [' Polyamide'], [' Coton', ' Coton recyclé', ' Polyester recyclé', ' Élasthanne'], [' Coton', ' Polyester', ' Élasthanne'], [' Coton', ' Coton recyclé', ' Polyester', ' Polyester recyclé'], [' Polyester', ' Polyuréthane'], [' Polyester', \" Polyester recyclé d'origine textile\", ' Viscose', ' Viscose LENZING™ ECOVERO™'], [' Polyamide recyclé', ' Polyester', ' Polyester recyclé', ' Élasthanne'], [' Coton', ' Viscose'], [' Polyester', ' Polyester recyclé', ' Viscose', ' Viscose LivaEco™', ' Élasthanne'], [' Lyocell', ' Soie', ' Viscose'], [' Coton', ' Polyester', ' Polyester recyclé'], [' Coton', ' Polyamide', ' Polyester'], [' Coton', ' Polyester', ' Polyester recyclé'], [' Coton'], [' Coton', ' Polyester'], [' Lin', ' Viscose', ' Viscose LivaEco™'], [' Polyester', ' Polyester recyclé'], [' Coton biologique', ' Polyester', ' Viscose', ' Élasthanne'], [' Coton', ' Coton recyclé', ' Lin'], [' Coton', ' Lin', ' Polyester', ' Viscose'], [' Coton', ' Coton recyclé', ' Polyester', ' Polyester recyclé'], [' Polyester', ' Polyester recyclé', ' Viscose'], [' Coton', ' Coton recyclé', ' Polyester', ' Polyester recyclé'], [' Coton', ' Coton recyclé', ' Élasthanne'], [' Polyamide', ' Polyamide recyclé', ' Élasthanne'], [' Polyamide', ' Polyester', ' Polyester recyclé'], [' Coton', ' Coton biologique', ' Viscose', ' Viscose LENZING™ ECOVERO™', ' Élasthanne'], [' Polyamide', ' Polyester', ' Élasthanne'], [' Coton', ' Coton recyclé', ' Lin'], [' Coton'], [' Coton', ' Coton recyclé', ' Polyester recyclé'], [' Coton', ' Viscose'], [' Laine', ' Polyamide', ' Viscose'], [' Polyamide', ' Polyester recyclé', ' Viscose', ' Viscose LENZING™ ECOVERO™'], [' Coton', ' Coton recyclé', ' Polyester', ' Polyester recyclé', ' Élasthanne'], [' Lin', ' Polyester recyclé', ' Viscose', ' Viscose LENZING™ ECOVERO™'], [' Coton'], [' Polyester', ' Polyester recyclé', \" Polyester recyclé d'origine textile\", ' Viscose', ' Viscose LivaEco™', ' Élasthanne'], [' Acrylique', ' Laine', ' Laine recyclée', ' Polyester', ' Polyester recyclé'], [' Polyamide', ' Viscose', ' Viscose LivaEco™'], [' Polyester', ' Polyester recyclé', ' Élasthanne'], [' Coton', ' Polyester'], [' Laine', ' Polyester', ' Polyester recyclé'], [' Coton']]\n",
      "643 643 643 643\n"
     ]
    }
   ],
   "source": [
    "fixed_material_lists = [[s.encode('utf-8').decode('unicode_escape') for s in sublist] for sublist in material_lists]\n",
    "\n",
    "print(fixed_material_lists)\n",
    "\n",
    "print(len(names), len(prices), len(fixed_material_lists), len(unique_links))\n",
    "data = {\n",
    "    'Product Type': ['Pantalons']*len(names),\n",
    "    'Product Name': names,\n",
    "    'Price': prices,\n",
    "    'Material': fixed_material_lists,\n",
    "    'Link': unique_links[:len(names)],\n",
    "    'Informations': informations[:len(names)]\n",
    "}\n",
    "\n",
    "\n",
    "df = pd.DataFrame(data)\n",
    "\n",
    "\n",
    "df.to_csv('hmPANTALONS.csv', index=False)"
   ]
  },
  {
   "cell_type": "code",
   "execution_count": 52,
   "metadata": {},
   "outputs": [
    {
     "name": "stdout",
     "output_type": "stream",
     "text": [
      "2\n",
      "3\n",
      "4\n",
      "5\n",
      "0\n",
      "100\n",
      "[[' Coton', ' Coton recyclé', ' Polyester', ' Polyester recyclé'], [' Coton', ' Coton recyclé', ' Polyester', ' Polyester recyclé'], [' Polyester', ' Polyester recyclé'], [' Coton', ' Polyester', ' Polyester recyclé'], [' Coton', ' Coton recyclé', ' Polyester', ' Polyester recyclé', ' Élasthanne'], [' Polyester', ' Polyester recyclé'], [' Coton', ' Coton recyclé', ' Polyester', ' Polyester recyclé'], [' Coton', ' Coton recyclé', ' Polyester', ' Polyester recyclé'], [' Coton', ' Coton recyclé', ' Polyester', ' Polyester recyclé'], [' Coton', ' Polyester'], [' Coton', ' Polyester'], [' Coton', ' Polyester', ' Viscose'], [' Coton', ' Coton recyclé', ' Polyester', ' Polyester recyclé'], [' Coton', ' Coton recyclé', ' Polyester', ' Polyester recyclé'], [' Coton', ' Coton recyclé', ' Polyester', ' Polyester recyclé', ' Viscose'], [' Coton', ' Coton recyclé', ' Polyester'], [' Coton', ' Coton recyclé', ' Polyester', ' Polyester recyclé'], [' Coton', ' Coton biologique'], [' Coton', ' Coton recyclé', ' Polyester', ' Polyester recyclé'], [' Coton', ' Élasthanne'], [' Coton', ' Coton recyclé', ' Polyester', ' Polyester recyclé', ' Élasthanne'], [' Coton', ' Coton recyclé', ' Polyester', ' Polyester recyclé'], [' Coton', ' Polyester', ' Polyester recyclé'], [' Coton', ' Coton recyclé', ' Polyester', ' Polyester recyclé'], [' Coton', ' Polyester', ' Polyester recyclé'], [' Coton', ' Coton recyclé', ' Polyester', ' Polyester recyclé'], [' Polyester', ' Polyester recyclé', ' Viscose'], [' Coton', ' Coton recyclé', ' Polyester', ' Polyester recyclé', ' Élasthanne'], [' Coton', ' Polyester'], [' Coton', ' Polyester'], [' Coton', ' Coton recyclé', ' Polyester', ' Polyester recyclé'], [' Coton', ' Coton biologique'], [' Coton', ' Polyester', ' Élasthanne'], [' Coton', ' Coton recyclé', ' Polyester', ' Polyester recyclé'], [' Coton', ' Coton recyclé', ' Polyester', ' Polyester recyclé', ' Polystyrène', ' Élasthanne'], [' Coton', ' Coton recyclé', ' Polyester', ' Polyester recyclé'], [' Coton', ' Coton recyclé', ' Polyester', ' Polyester recyclé'], [' Coton', ' Polyester'], [' Coton', ' Coton recyclé', ' Polyester', ' Polyester recyclé'], [' Coton', ' Coton recyclé', ' Polyester', ' Polyester recyclé'], [' Viscose', ' Viscose LENZING™ ECOVERO™'], [' Polyester'], [' Coton', ' Coton recyclé', ' Polyester', ' Polyester recyclé'], [' Coton', ' Coton recyclé', ' Polyester', ' Polyester recyclé'], [' Coton', ' Coton recyclé', ' Polyester', ' Polyester recyclé'], [' Coton', ' Polyester'], [' Coton', ' Coton recyclé', ' Polyester', ' Polyester recyclé'], [' Coton', ' Polyester'], [' Coton', ' Coton recyclé'], [' Coton', ' Coton recyclé', ' Polyester', ' Polyester recyclé'], [' Coton', ' Polyester'], [' Coton', ' Coton recyclé', ' Polyester', ' Polyester recyclé'], [' Coton', ' Polyester', ' Polyester recyclé'], [' Coton', ' Coton recyclé', ' Polyester', ' Polyester recyclé'], [' Coton', ' Coton recyclé', ' Polyester', ' Polyester recyclé'], [' Coton', ' Coton recyclé', ' Polyester', ' Polyester recyclé'], [' Coton', ' Coton recyclé', ' Polyester', ' Polyester recyclé'], [' Coton', ' Coton recyclé', ' Polyester', ' Polyester recyclé'], [' Coton', ' Polyester', ' Polyester recyclé'], [' Laine', ' Laine de yack', ' Polyester', ' Élasthanne'], [' Coton', ' Coton recyclé', ' Polyester', ' Polyester recyclé'], [' Coton', ' Coton recyclé', ' Polyester', ' Polyester recyclé'], [' Coton', ' Coton recyclé', ' Polyester', ' Polyester recyclé'], [' Coton', ' Polyester', ' Polyester recyclé'], [' Coton', ' Polyester', ' Élasthanne'], [' Polyester', ' Polyester recyclé', ' Viscose'], [' Coton', ' Coton recyclé'], [' Coton', ' Coton biologique'], [' Coton', ' Coton recyclé', ' Polyester', ' Polyester recyclé'], [' Coton', ' Coton recyclé', ' Polyester', ' Polyester recyclé'], [' Coton', ' Coton recyclé', ' Polyester', ' Polyester recyclé', ' Élasthanne'], [' Coton', ' Polyester', ' Polyester recyclé'], [' Coton', ' Polyester'], [' Coton', ' Polyester', ' Polyester recyclé'], [' Coton', ' Coton biologique'], [' Coton', ' Polyester'], [' Coton', ' Coton recyclé', ' Polyester', ' Polyester recyclé'], [' Coton', ' Polyester', ' Élasthanne'], [' Polyester', ' Polyester recyclé', ' Élasthanne'], [' Coton', ' Coton biologique', ' Polyester', ' Polyester recyclé', ' Viscose'], [' Coton', ' Polyester', ' Polyester recyclé'], [' Coton', ' Coton recyclé', ' Polyester', ' Polyester recyclé', ' Polystyrène', ' Élasthanne'], [' Coton', ' Coton recyclé', ' Polyester', ' Polyester recyclé'], [' Coton', ' Polyester'], [' Coton', ' Coton recyclé', ' Polyester', ' Polyester recyclé'], [' Coton', ' Coton recyclé'], [' Coton', ' Polyester', ' Viscose'], [' Coton', ' Coton recyclé', ' Polyester', ' Polyester recyclé'], [' Coton', ' Coton recyclé', ' Polyester', ' Polyester recyclé'], [' Coton', ' Coton recyclé', ' Polyester', ' Polyester recyclé'], [' Coton', ' Coton recyclé', ' Polyester', ' Polyester recyclé', ' Élasthanne'], [' Coton', ' Polyester', ' Polyester recyclé'], [' Coton', ' Coton recyclé', ' Polyester', ' Polyester recyclé'], [' Coton', ' Coton recyclé', ' Polyester', ' Polyester recyclé'], [' Coton', ' Coton recyclé', ' Polyester', ' Polyester recyclé'], [' Coton', ' Coton recyclé', ' Polyester', ' Polyester recyclé'], [' Coton', ' Polyester', ' Polyester recyclé', ' Viscose', ' Viscose LENZING™ ECOVERO™'], [' Coton', ' Polyester'], [' Coton', ' Coton recyclé', ' Polyester', ' Polyester recyclé', ' Élasthanne'], [' Coton', ' Coton recyclé', ' Polyester', ' Polyester recyclé'], [' Coton', ' Coton recyclé', ' Polyester', ' Polyester recyclé'], [' Coton', ' Polyester', ' Polyester recyclé'], [' Coton', ' Coton recyclé', ' Polyester', ' Polyester recyclé'], [' Coton', ' Coton recyclé', ' Polyester', ' Polyester recyclé', ' Élasthanne'], [' Coton', ' Polyester', ' Polyester recyclé'], [' Coton', ' Polyester'], [' Coton', ' Coton recyclé', ' Polyester', ' Polyester recyclé'], [' Coton', ' Coton recyclé', ' Polyester', ' Polyester recyclé'], [' Coton', ' Coton recyclé', ' Polyester', ' Polyester recyclé'], [' Coton', ' Coton recyclé', ' Polyester', ' Polyester recyclé'], [' Coton', ' Coton recyclé', ' Polyester', ' Polyester recyclé'], [' Coton', ' Polyester', ' Polyester recyclé'], [' Coton', ' Polyester'], [' Coton', ' Coton recyclé', ' Polyester', ' Polyester recyclé'], [' Coton', ' Coton biologique', ' Polyester', ' Viscose'], [' Coton', ' Polyester', ' Polyester recyclé'], [' Coton', ' Coton recyclé', ' Polyester', ' Polyester recyclé'], [' Coton', ' Coton biologique', ' Élasthanne'], [' Coton', ' Coton recyclé', ' Polyester', ' Polyester recyclé'], [' Coton', ' Coton recyclé', ' Polyester', ' Polyester recyclé'], [' Coton', ' Coton recyclé', ' Polyester', ' Polyester recyclé'], [' Coton', ' Polyester', ' Polyester recyclé'], [' Coton', ' Coton recyclé', ' Polyester', ' Polyester recyclé'], [' Coton', ' Polyester', ' Polyester recyclé'], [' Coton', ' Polyester', ' Polyester recyclé'], [' Coton', ' Coton recyclé', ' Polyester', ' Polyester recyclé'], [' Coton', ' Polyester', ' Viscose'], [' Coton', ' Polyester', ' Viscose'], [' Coton', ' Coton recyclé', ' Polyester', ' Polyester recyclé'], [' Coton', ' Polyester'], [' Coton', ' Polyester', ' Polyester recyclé'], [' Polyamide', ' Polyamide recyclé', ' Polyester', ' Polyester recyclé'], [' Coton', ' Coton recyclé', ' Polyester', ' Polyester recyclé'], [' Coton', ' Polyester', ' Polyester recyclé'], [' Coton', ' Polyester', ' Polyester recyclé'], [' Coton', ' Polyester', ' Polyester recyclé', ' Élasthanne'], [' Coton', ' Coton recyclé', ' Polyester', ' Polyester recyclé'], [' Coton', ' Coton recyclé', ' Polyester', ' Polyester recyclé'], [' Coton', ' Coton recyclé', ' Polyester', ' Polyester recyclé'], [' Coton'], [' Coton', ' Polyester'], [' Coton', ' Coton biologique'], [' Coton', ' Coton recyclé', ' Polyester', ' Polyester recyclé'], [' Coton', ' Coton recyclé', ' Polyester', ' Polyester recyclé'], [' Coton', ' Coton recyclé', ' Polyester', ' Polyester recyclé'], [' Coton', ' Coton recyclé', ' Polyester'], [' Polyester', ' Polyester recyclé'], [' Polyester'], [' Coton', ' Polyester', ' Polyester recyclé'], [' Coton', ' Coton recyclé', ' Polyester', ' Polyester recyclé'], [' Coton', ' Coton biologique'], [' Coton', ' Coton recyclé', ' Polyester', ' Polyester recyclé', ' Élasthanne'], [' Coton', ' Coton recyclé', ' Polyester', ' Polyester recyclé'], [' Coton', ' Coton recyclé', ' Polyester', ' Polyester recyclé'], [' Coton', ' Polyester', ' Polyester recyclé'], [' Coton', ' Coton recyclé', ' Polyester', ' Polyester recyclé', ' Polystyrène'], [' Coton', ' Coton recyclé', ' Polyester', ' Polyester recyclé', ' Viscose'], [' Coton'], [' Coton', ' Coton recyclé', ' Polyester', ' Polyester recyclé'], [' Coton', ' Polyester', ' Polyester recyclé'], [' Coton', ' Coton recyclé', ' Polyester', ' Polyester recyclé', ' Élasthanne'], [' Coton', ' Polyester', ' Polyester recyclé', ' Élasthanne'], [' Coton', ' Polyester', ' Polyester recyclé'], [' Coton', ' Coton recyclé', ' Polyester', ' Polyester recyclé'], [' Coton', ' Coton recyclé', ' Polyester', ' Polyester recyclé'], [' Coton', ' Polyester', ' Polyester recyclé'], [' Coton', ' Coton recyclé', ' Polyester', ' Polyester recyclé'], [' Coton', ' Polyester', ' Élasthanne'], [' Coton', ' Coton recyclé', ' Polyester', ' Polyester recyclé', ' Élasthanne'], [' Coton', ' Coton recyclé', ' Polyester', ' Polyester recyclé'], [' Coton', ' Coton recyclé', ' Polyester', ' Polyester recyclé'], [' Coton', ' Polyester'], [' Coton', ' Coton recyclé', ' Polyester', ' Polyester recyclé', ' Élasthanne'], [' Coton', ' Polyester', ' Polyester recyclé'], [' Coton', ' Polyester'], [' Coton', ' Polyester', ' Polyester recyclé']]\n",
      "176 176 176 176\n"
     ]
    }
   ],
   "source": [
    "main_url = 'https://www2.hm.com/fr_fr/femme/catalogue-par-produit/sweatshirts.html'\n",
    "max_page = 5\n",
    "links = scrape_items(main_url,max_page)\n",
    "unique_links = list(set(links))\n",
    "names,prices,material_lists,counts = scrape_details(unique_links)\n",
    "informations = run_selenium(unique_links)\n",
    "fixed_material_lists = [[s.encode('utf-8').decode('unicode_escape') for s in sublist] for sublist in material_lists]\n",
    "\n",
    "print(fixed_material_lists)\n",
    "\n",
    "print(len(names), len(prices), len(fixed_material_lists), len(unique_links))\n",
    "data = {\n",
    "    'Product Type': ['Sweatshirt']*len(names),\n",
    "    'Product Name': names,\n",
    "    'Price': prices,\n",
    "    'Material': fixed_material_lists,\n",
    "    'Link': unique_links[:len(names)],\n",
    "    'Informations': informations[:len(names)]\n",
    "}\n",
    "\n",
    "\n",
    "df = pd.DataFrame(data)\n",
    "\n",
    "\n",
    "df.to_csv('hmSWEATSHIRTS.csv', index=False)"
   ]
  },
  {
   "cell_type": "code",
   "execution_count": 53,
   "metadata": {},
   "outputs": [
    {
     "name": "stdout",
     "output_type": "stream",
     "text": [
      "2\n",
      "3\n",
      "4\n",
      "5\n",
      "6\n",
      "7\n",
      "8\n",
      "0\n",
      "100\n",
      "200\n",
      "[[' Coton', ' Coton recyclé'], [' Coton', ' Coton recyclé', ' Polyester', ' Polyester recyclé', ' Viscose', ' Élasthanne'], [' Coton', ' Coton recyclé', ' Polyester', ' Polyester recyclé'], [' Coton', ' Coton recyclé', ' Polyester', ' Élasthanne'], [' Coton', ' Coton recyclé', ' Polyester', ' Polyester recyclé', ' Élasthanne'], [' Coton', ' Coton recyclé', ' Polyester', ' Polyester recyclé', ' Élasthanne'], [' Coton', ' Coton recyclé', ' Polyester', ' Élasthanne'], [' Coton', ' Coton recyclé', ' Polyester', ' Polyester recyclé', ' Élasthanne'], [' Coton', ' Coton recyclé', ' Polyester recyclé', ' Élasthanne'], [' Coton', ' Coton recyclé', ' Élasthanne'], [' Coton', ' Coton recyclé', ' Polyester', ' Polyester recyclé', ' Élasthanne'], [' Coton', ' Coton biologique', ' Coton recyclé'], [' Coton', ' Coton recyclé', ' Polyester', ' Polyester recyclé', ' Élasthanne'], [' Coton', ' Coton recyclé', ' Polyester', ' Polyester recyclé'], [' Coton', ' Coton recyclé', ' Polyester', ' Élasthanne'], [' Coton', ' Coton recyclé', ' Polyester', ' Polyester recyclé'], [' Coton', ' Coton recyclé', ' Polyester', ' Polyester recyclé', ' Élasthanne'], [' Coton', ' Coton recyclé', ' Polyester', ' Polyester recyclé', ' Élasthanne'], [' Coton', ' Coton recyclé', ' Polyester recyclé'], [' Coton', ' Coton recyclé', ' Polyester', ' Polyester recyclé', ' Élasthanne'], [' Coton', ' Coton recyclé', ' Polyester', ' Polyester recyclé', ' Élasthanne'], [' Coton', ' Coton recyclé', ' Polyester', ' Polyester recyclé', ' Élasthanne'], [' Coton', ' Coton recyclé', ' Élasthanne'], [' Coton', ' Coton recyclé', ' Polyester recyclé'], [' Copolyester', ' Coton', ' Coton recyclé', ' Élasthanne'], [' Coton', ' Coton recyclé', ' Polyester recyclé'], [' Coton', ' Coton recyclé', ' Polyester', ' Polyester recyclé', ' Élasthanne'], [' Coton', ' Coton recyclé', ' Polyester', ' Polyester recyclé'], [' Coton', ' Coton recyclé', ' Polyester recyclé', ' Élasthanne'], [' Coton', ' Coton recyclé', ' Polyester', ' Polyester recyclé'], [' Coton', ' Coton recyclé', ' Polyester', ' Élasthanne'], [' Coton', ' Coton recyclé', ' Polyester', ' Polyester recyclé', ' Élasthanne'], [' Coton', ' Coton recyclé', ' Polyester recyclé', ' Élasthanne'], [' Coton', ' Coton recyclé', ' Polyester', ' Polyester recyclé', ' Élasthanne'], [' Coton', ' Coton recyclé', ' Polyester recyclé'], [' Polyester', ' Polyuréthane'], [' Coton', ' Coton recyclé', ' Polyester recyclé', ' Élasthanne'], [' Coton', ' Coton recyclé', ' Polyester', ' Polyester recyclé', ' Élasthanne'], [' Coton', ' Coton recyclé', ' Polyester', ' Polyester recyclé', ' Élasthanne'], [' Coton', ' Coton recyclé', ' Polyester recyclé', ' Élasthanne'], [' Coton', ' Coton biologique', ' Coton recyclé'], [' Coton', ' Coton recyclé', ' Polyester', ' Polyester recyclé'], [' Coton', ' Coton recyclé'], [' Circulose®', ' Coton', ' Coton recyclé', ' Polyester recyclé', ' Viscose'], [' Coton', ' Coton recyclé', ' Polyester', ' Polyester recyclé', ' Élasthanne'], [' Coton'], [' Coton', ' Coton recyclé', ' Polyester', ' Polyester recyclé', ' Élasthanne'], [' Coton', ' Coton recyclé', ' Polyester recyclé'], [' Coton', ' Coton recyclé', ' Polyester recyclé'], [' Coton', ' Coton recyclé', ' Polyester recyclé', ' Élasthanne'], [' Coton', ' Polyester recyclé', ' Élasthanne'], [' Coton', ' Coton recyclé', ' Polyester recyclé', ' Élasthanne'], [' Coton', ' Coton recyclé', ' Polyester', ' Polyester recyclé', ' Élasthanne'], [' Coton', ' Coton recyclé', ' Polyester', ' Polyester recyclé'], [' Coton', ' Coton recyclé', ' Polyester recyclé', ' Élasthanne'], [' Coton', ' Coton recyclé', ' Polyester', ' Polyester recyclé'], [' Coton', ' Coton recyclé', ' Polyester recyclé', ' Élasthanne'], [' Coton', ' Coton recyclé', ' Polyester', ' Élasthanne'], [' Coton', ' Coton recyclé', ' Polyester', ' Polyester recyclé'], [' Coton', ' Coton recyclé', ' Polyester', ' Polyester recyclé', ' Élasthanne'], [' Coton', ' Coton recyclé', ' Polyester', ' Élasthanne'], [' Coton', ' Coton recyclé', ' Polyester', ' Polyester recyclé', ' Élasthanne'], [' Coton', ' Coton recyclé', ' Polyester recyclé', ' Élasthanne'], [' Coton', ' Coton recyclé', ' Polyester', ' Polyester recyclé'], [' Coton', ' Coton recyclé', ' Polyester recyclé', ' Élasthanne', ' Élastomultiester'], [' Coton', ' Coton recyclé', ' Polyester recyclé'], [' Coton', ' Coton recyclé', ' Polyester', ' Polyester recyclé', ' Élasthanne'], [' Coton', ' Coton recyclé', ' Polyester', ' Polyester recyclé', ' Élasthanne'], [' Coton', ' Coton recyclé', ' Polyester recyclé'], [' Coton', ' Coton recyclé', ' Polyester recyclé', ' Viscose'], [' Coton', ' Coton recyclé', ' Polyester recyclé', ' Élasthanne'], [' Coton', ' Coton recyclé', ' Polyester', ' Élasthanne'], [' Coton', ' Coton recyclé', ' Polyester', ' Polyester recyclé'], [' Coton', ' Coton recyclé', ' Polyester recyclé', ' Élasthanne', ' Élastomultiester'], [' Coton', ' Polyester', ' Polyester recyclé', ' Élasthanne'], [' Coton', ' Coton recyclé', ' Polyester', ' Polyester recyclé'], [' Coton', ' Coton recyclé', ' Polyester', ' Polyester recyclé'], [' Coton', ' Coton recyclé', ' Polyester recyclé', ' Élasthanne'], [' Coton', ' Coton recyclé', ' Polyester recyclé'], [' Coton', ' Coton recyclé', ' Polyester recyclé'], [' Coton', ' Coton recyclé', ' Polyester recyclé'], [' Coton', ' Coton recyclé', ' Polyester recyclé'], [' Coton', ' Coton recyclé', ' Polyester recyclé'], [' Coton', ' Coton recyclé', ' Polyester', ' Polyester recyclé', ' Élasthanne'], [' Coton', ' Coton recyclé', ' Polyester', ' Polyester recyclé', ' Élasthanne'], [' Coton', ' Coton recyclé', ' Élasthanne', ' Élastomultiester'], [' Coton', ' Coton recyclé', ' Polyester'], [' Coton', ' Coton recyclé', ' Polyester recyclé'], [' Coton', ' Coton recyclé', ' Polyester recyclé', ' Élasthanne'], [' Coton', ' Polyester', ' Polyester recyclé', ' Élasthanne'], [' Coton', ' Coton recyclé', ' Polyester', ' Polyester recyclé', ' Élasthanne'], ['N', 'A'], [' Coton', ' Coton recyclé', ' Polyester', ' Polyester recyclé'], [' Coton', ' Coton recyclé'], [' Coton', ' Coton recyclé', ' Polyester', ' Élasthanne'], [' Coton', ' Coton recyclé', ' Polyester', ' Polyester recyclé'], [' Coton', ' Coton recyclé', ' Polyester', ' Polyester recyclé', ' Élasthanne'], [' Coton', ' Polyester', ' Élasthanne'], [' Coton', ' Coton recyclé', ' Polyester', ' Polyester recyclé', ' Élasthanne'], [' Coton', ' Coton recyclé', ' Polyester recyclé'], [' Coton', ' Coton recyclé', ' Polyester', ' Élasthanne'], [' Coton', ' Coton recyclé', ' Polyester recyclé'], [' Coton', ' Coton recyclé', ' Polyester recyclé', ' Élasthanne'], [' Coton', ' Coton recyclé', ' Polyester recyclé', ' Élasthanne'], [' Coton', ' Coton recyclé', ' Polyester', ' Polyester recyclé', ' Élasthanne'], [' Coton', ' Coton recyclé', ' Polyester', ' Polyester recyclé', ' Élasthanne'], [' Coton', ' Coton recyclé', ' Polyester recyclé'], [' Coton', ' Coton recyclé', ' Polyester recyclé'], [' Coton', ' Coton recyclé', ' Polyester', ' Polyester recyclé', ' Élasthanne'], [' Coton', ' Coton recyclé', ' Polyester', ' Polyester recyclé', ' Élasthanne'], [' Coton', ' Coton recyclé', ' Polyester', ' Polyester recyclé', ' Élasthanne'], [' Coton', ' Coton recyclé', ' Élasthanne'], [' Coton', ' Coton recyclé', ' Polyester'], [' Coton', ' Coton recyclé', ' Polyester', ' Polyester recyclé'], [' Coton', ' Coton biologique', ' Coton recyclé'], [' Coton', ' Coton recyclé', ' Polyester', ' Élasthanne'], [' Coton', ' Coton recyclé', ' Polyester', ' Polyester recyclé'], [' Coton', ' Coton recyclé', ' Polyester recyclé'], [' Circulose®', ' Coton', ' Coton recyclé', ' Polyester recyclé', ' Viscose', ' Élasthanne'], [' Coton', ' Coton recyclé', ' Polyester recyclé'], [' Coton', ' Coton recyclé', ' Polyester', ' Polyester recyclé', ' Élasthanne'], [' Coton', ' Élasthanne', ' Élastomultiester'], [' Coton', ' Coton biologique', ' Coton recyclé'], [' Coton', ' Coton recyclé', ' Polyester', ' Élasthanne'], [' Coton', ' Polyester', ' Élasthanne'], [' Coton', ' Coton recyclé', ' Polyester', ' Polyester recyclé'], [' Coton', ' Coton recyclé', ' Polyester', ' Polyester recyclé', ' Élasthanne'], [' Coton', ' Coton recyclé', ' Polyester recyclé'], [' Coton', ' Coton recyclé', ' Polyester', ' Polyester recyclé', ' Élasthanne'], [' Coton', ' Coton recyclé', ' Polyester recyclé', ' Élasthanne'], [' Coton', ' Coton recyclé', ' Polyester', ' Polyester recyclé'], [' Circulose®', ' Coton', ' Coton recyclé', ' Polyester recyclé', ' Viscose', ' Élasthanne'], [' Coton', ' Coton recyclé', ' Polyester', ' Polyester recyclé'], [' Coton', ' Coton recyclé', ' Polyester recyclé'], [' Coton', ' Coton recyclé', ' Polyester recyclé', ' Élasthanne'], [' Coton', ' Coton recyclé', ' Polyester', ' Polyester recyclé', ' Élasthanne'], [' Coton', ' Coton recyclé', ' Polyester', ' Polyester recyclé', ' Élasthanne'], [' Coton', ' Coton recyclé', ' Polyester recyclé', ' Viscose'], [' Coton', ' Coton recyclé', ' Polyester', ' Polyester recyclé'], [' Coton', ' Coton biologique', ' Coton recyclé'], [' Coton', ' Coton recyclé', ' Lyocell', ' Lyocell Tencel™'], [' Coton'], [' Coton', ' Coton recyclé', ' Polyester recyclé'], [' Coton', ' Coton recyclé', ' Élasthanne'], [' Coton', ' Coton recyclé', ' Polyester recyclé'], [' Coton', ' Coton recyclé', ' Polyester recyclé'], [' Coton', ' Coton recyclé', ' Polyester', ' Polyester recyclé', ' Élasthanne'], [' Coton', ' Coton recyclé', ' Polyester', ' Polyester recyclé', ' Élasthanne'], [' Coton', ' Coton recyclé', ' Polyester', ' Polyester recyclé'], [' Coton', ' Polyester', ' Élasthanne'], [' Coton', ' Coton recyclé', ' Polyester', ' Polyester recyclé'], [' Coton', ' Coton recyclé', ' Polyester', ' Polyester recyclé'], [' Coton', ' Coton recyclé', ' Polyester recyclé', ' Élasthanne'], [' Coton', ' Coton recyclé', ' Élasthanne'], [' Coton', ' Coton recyclé', ' Polyester', ' Polyester recyclé', ' Élasthanne'], [' Coton', ' Coton recyclé', ' Polyester recyclé', ' Élasthanne'], [' Coton', ' Élasthanne'], [' Coton', ' Coton recyclé', ' Polyester', ' Polyester recyclé'], [' Coton', ' Coton recyclé', ' Polyester', ' Polyester recyclé', ' Viscose', ' Élasthanne'], [' Coton', ' Coton recyclé', ' Polyester recyclé', ' Élasthanne'], [' Coton', ' Polyester recyclé', ' Élasthanne'], [' Coton', ' Coton recyclé', ' Élasthanne'], [' Coton', ' Coton recyclé', ' Polyester recyclé'], [' Coton', ' Coton recyclé', ' Polyester', ' Polyester recyclé'], [' Coton', ' Coton recyclé', ' Polyester', ' Polyester recyclé', ' Élasthanne'], [' Coton', ' Coton recyclé', ' Élasthanne'], [' Coton', ' Coton recyclé', ' Polyester recyclé', ' Élasthanne'], [' Coton', ' Coton recyclé', ' Polyester', ' Polyester recyclé'], [' Circulose®', ' Coton', ' Coton recyclé', ' Polyester recyclé', ' Viscose'], [' Coton', ' Coton recyclé', ' Polyester', ' Polyester recyclé'], [' Coton', ' Coton recyclé', ' Polyester', ' Polyester recyclé'], [' Coton', ' Coton recyclé', ' Polyester recyclé', ' Élasthanne'], [' Coton', ' Coton recyclé', ' Polyester', ' Élasthanne'], [' Coton', ' Coton recyclé', ' Polyester', ' Polyester recyclé'], [' Coton', ' Polyester recyclé'], [' Coton', ' Coton recyclé', ' Polyester'], [' Coton', ' Coton recyclé', ' Polyester', ' Polyester recyclé', ' Élasthanne'], [' Coton', ' Coton recyclé', ' Polyester recyclé'], [' Coton', ' Coton recyclé', ' Polyester', ' Polyester recyclé', ' Élasthanne'], [' Coton', ' Coton recyclé', ' Polyester', ' Polyester recyclé'], [' Coton', ' Coton recyclé', ' Polyester', ' Polyester recyclé', ' Élasthanne'], [' Coton', ' Coton recyclé', ' Polyester recyclé'], [' Coton', ' Coton recyclé', ' Polyester', ' Polyester recyclé', ' Élasthanne', ' Élastomultiester'], [' Coton', ' Coton recyclé', ' Polyester', ' Polyester recyclé', ' Élasthanne'], [' Coton', ' Coton recyclé', ' Polyester', ' Polyester recyclé'], [' Coton', ' Coton recyclé', ' Polyester recyclé', ' Élasthanne'], [' Coton', ' Coton recyclé', ' Polyester recyclé'], [' Coton', ' Coton recyclé', ' Polyester', ' Élasthanne'], [' Coton', ' Coton recyclé', ' Polyester', ' Élasthanne'], [' Coton', ' Coton recyclé'], [' Coton', ' Coton recyclé', ' Polyester', ' Polyester recyclé', ' Élasthanne'], [' Coton', ' Coton recyclé', ' Polyester recyclé', ' Élasthanne'], [' Coton', ' Coton biologique', ' Coton recyclé', ' Polyester recyclé'], [' Coton', ' Coton recyclé', ' Polyester recyclé', ' Élasthanne'], [' Coton', ' Coton recyclé', ' Polyester', ' Polyester recyclé', ' Élasthanne'], [' Coton', ' Coton biologique', ' Coton recyclé'], [' Coton', ' Coton recyclé', ' Polyester recyclé', ' Élasthanne'], [' Coton', ' Coton recyclé', ' Polyester', ' Polyester recyclé', ' Élasthanne'], [' Coton', ' Coton recyclé', ' Polyester', ' Polyester recyclé'], [' Coton', ' Polyester', ' Polyester recyclé', ' Élasthanne'], [' Coton', ' Coton recyclé', ' Polyester recyclé'], [' Coton', ' Coton recyclé', ' Polyester', ' Polyester recyclé', ' Élasthanne'], [' Coton', ' Coton recyclé', ' Polyester recyclé'], [' Coton', ' Coton recyclé', ' Polyester', ' Polyester recyclé'], [' Coton', ' Coton recyclé', ' Élasthanne'], [' Coton', ' Coton recyclé', ' Polyester recyclé', ' Élasthanne'], [' Coton', ' Coton recyclé', ' Polyester recyclé'], [' Coton', ' Coton recyclé', ' Polyester recyclé'], [' Coton', ' Coton recyclé', ' Polyester recyclé'], [' Coton', ' Coton recyclé', ' Polyester', ' Polyester recyclé', ' Élasthanne'], [' Coton'], [' Coton', ' Coton recyclé', ' Polyester recyclé'], [' Coton', ' Coton recyclé', ' Polyester', ' Polyester recyclé'], [' Coton', ' Coton recyclé', ' Polyester recyclé'], [' Coton', ' Coton recyclé', ' Polyester recyclé'], [' Coton', ' Polyester', ' Polyester recyclé', ' Élasthanne'], [' Coton', ' Élasthanne', ' Élastomultiester'], [' Coton', ' Coton recyclé', ' Polyester recyclé', ' Élasthanne'], [' Coton', ' Coton recyclé', ' Polyester', ' Polyester recyclé', ' Élasthanne'], [' Coton', ' Coton recyclé', ' Polyester'], [' Coton', ' Coton recyclé', ' Polyester', ' Polyester recyclé', ' Élasthanne'], [' Coton', ' Coton recyclé', ' Polyester', ' Polyester recyclé'], [' Coton', ' Coton recyclé', ' Polyester', ' Polyester recyclé', ' Élasthanne'], [' Coton', ' Coton recyclé'], [' Coton', ' Coton recyclé', ' Polyester', ' Polyester recyclé'], [' Coton', ' Coton recyclé', ' Polyester recyclé'], [' Coton', ' Coton recyclé', ' Polyester', ' Polyester recyclé', ' Élasthanne', ' Élastomultiester'], [' Coton', ' Coton biologique', ' Coton recyclé'], [' Coton', ' Coton recyclé', ' Polyester recyclé'], [' Coton', ' Coton recyclé', ' Polyester recyclé'], [' Coton', ' Coton recyclé', ' Polyester recyclé', ' Élasthanne'], [' Coton', ' Coton recyclé', ' Polyester recyclé', ' Élasthanne'], [' Coton', ' Coton recyclé', ' Élasthanne'], [' Coton', ' Coton recyclé', ' Polyester recyclé', ' Élasthanne'], [' Coton', ' Coton recyclé', ' Polyester', ' Polyester recyclé', ' Élasthanne'], [' Coton', ' Polyester', ' Polyester recyclé'], [' Coton', ' Coton recyclé', ' Polyester', ' Polyester recyclé', ' Élasthanne'], [' Coton', ' Coton recyclé', ' Polyester', ' Polyester recyclé'], [' Coton', ' Coton recyclé', ' Polyester recyclé', ' Élasthanne'], [' Polyester', ' Polyuréthane'], [' Coton', ' Coton recyclé', ' Polyester', ' Polyester recyclé'], [' Coton', ' Coton recyclé', ' Polyester', ' Polyester recyclé', ' Élasthanne'], [' Coton', ' Coton recyclé', ' Polyester', ' Polyester recyclé'], [' Coton', ' Coton recyclé', ' Polyester', ' Polyester recyclé'], [' Coton', ' Coton recyclé', ' Polyester', ' Polyester recyclé', ' Élasthanne'], [' Coton', ' Coton recyclé', ' Polyester', ' Polyester recyclé', ' Élasthanne'], [' Coton', ' Coton recyclé', ' Polyester', ' Élasthanne'], [' Coton', ' Coton recyclé', ' Polyester recyclé'], [' Coton'], [' Coton', ' Coton recyclé', ' Polyester', ' Polyester recyclé'], [' Coton', ' Coton recyclé', ' Polyester recyclé', ' Élasthanne'], [' Coton', ' Coton recyclé', ' Polyester recyclé'], [' Coton', ' Coton recyclé'], [' Coton', ' Coton recyclé', ' Polyester recyclé', ' Élasthanne'], [' Coton', ' Coton recyclé', ' Polyester', ' Polyester recyclé'], [' Coton', ' Coton recyclé', ' Polyester recyclé'], [' Coton', ' Coton recyclé', ' Polyester', ' Polyester recyclé'], [' Coton', ' Coton recyclé', ' Polyester', ' Polyester recyclé'], [' Coton', ' Coton recyclé', ' Polyester', ' Polyester recyclé', ' Viscose', ' Élasthanne'], [' Coton', ' Coton recyclé', ' Polyester', ' Polyester recyclé', ' Élasthanne'], [' Coton', ' Coton recyclé', ' Polyester', ' Polyester recyclé'], [' Coton', ' Coton recyclé'], [' Coton', ' Coton recyclé', ' Polyester', ' Polyester recyclé', ' Élasthanne'], [' Coton', ' Polyester'], [' Coton', ' Coton recyclé', ' Polyester', ' Polyester recyclé'], [' Coton', ' Coton recyclé', ' Polyester recyclé', ' Élasthanne'], [' Coton', ' Coton recyclé', ' Polyester', ' Polyester recyclé', ' Élasthanne'], [' Coton', ' Coton recyclé', ' Polyester', ' Polyester recyclé'], [' Coton', ' Coton recyclé', ' Polyester recyclé', ' Viscose'], [' Coton', ' Coton recyclé'], [' Coton'], [' Coton', ' Polyester'], [' Coton', ' Coton recyclé', ' Polyester recyclé'], [' Coton', ' Coton recyclé', ' Polyester', ' Polyester recyclé', ' Élasthanne', ' Élastomultiester'], [' Coton', ' Coton recyclé', ' Polyester recyclé', ' Élasthanne'], [' Coton', ' Coton recyclé', ' Polyester', ' Polyester recyclé'], [' Coton', ' Coton recyclé', ' Polyester', ' Polyester recyclé', ' Élasthanne'], [' Coton', ' Coton recyclé', ' Polyester recyclé']]\n",
      "278 278 278 278\n"
     ]
    }
   ],
   "source": [
    "main_url = 'https://www2.hm.com/fr_fr/femme/catalogue-par-produit/jeans.html'\n",
    "max_page = 8\n",
    "links = scrape_items(main_url,max_page)\n",
    "unique_links = list(set(links))\n",
    "names,prices,material_lists,counts = scrape_details(unique_links)\n",
    "informations = run_selenium(unique_links)\n",
    "fixed_material_lists = [[s.encode('utf-8').decode('unicode_escape') for s in sublist] for sublist in material_lists]\n",
    "\n",
    "print(fixed_material_lists)\n",
    "\n",
    "print(len(names), len(prices), len(fixed_material_lists), len(unique_links))\n",
    "data = {\n",
    "    'Product Type': ['Jeans']*len(names),\n",
    "    'Product Name': names,\n",
    "    'Price': prices,\n",
    "    'Material': fixed_material_lists,\n",
    "    'Link': unique_links[:len(names)],\n",
    "    'Informations': informations[:len(names)]\n",
    "}\n",
    "\n",
    "df = pd.DataFrame(data)\n",
    "\n",
    "\n",
    "df.to_csv('hmJEANS.csv', index=False)"
   ]
  },
  {
   "cell_type": "code",
   "execution_count": null,
   "metadata": {},
   "outputs": [],
   "source": []
  }
 ],
 "metadata": {
  "kernelspec": {
   "display_name": "Python 3",
   "language": "python",
   "name": "python3"
  },
  "language_info": {
   "codemirror_mode": {
    "name": "ipython",
    "version": 3
   },
   "file_extension": ".py",
   "mimetype": "text/x-python",
   "name": "python",
   "nbconvert_exporter": "python",
   "pygments_lexer": "ipython3",
   "version": "3.11.5"
  }
 },
 "nbformat": 4,
 "nbformat_minor": 2
}
