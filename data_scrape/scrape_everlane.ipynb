{
 "cells": [
  {
   "cell_type": "markdown",
   "id": "1dd02ac9",
   "metadata": {},
   "source": [
    "### Scraping sustainable brand Everlane"
   ]
  },
  {
   "cell_type": "code",
   "execution_count": 12,
   "id": "bb524f13",
   "metadata": {},
   "outputs": [],
   "source": [
    "import requests\n",
    "from bs4 import BeautifulSoup\n",
    "from selenium import webdriver\n",
    "from selenium.webdriver.common.by import By\n",
    "from selenium.webdriver.support.ui import WebDriverWait\n",
    "from selenium.webdriver.support import expected_conditions as EC\n",
    "import time\n",
    "import urllib.parse"
   ]
  },
  {
   "cell_type": "code",
   "execution_count": 6,
   "id": "ba09f635",
   "metadata": {},
   "outputs": [
    {
     "name": "stdout",
     "output_type": "stream",
     "text": [
      "Page 1 scraped\n",
      "Page 2 scraped\n",
      "Page 3 scraped\n",
      "Page 4 scraped\n",
      "Page 5 scraped\n",
      "Page 6 scraped\n",
      "Page 7 scraped\n",
      "Page 8 scraped\n",
      "Page 9 scraped\n",
      "Page 10 scraped\n",
      "Page 11 scraped\n",
      "Page 12 scraped\n",
      "Page 13 scraped\n"
     ]
    }
   ],
   "source": [
    "# jeans\n",
    "base_url = \"https://www.everlane.com/collections/womens-jeans?page={}\"\n",
    "\n",
    "link_list = []\n",
    "driver = webdriver.Chrome()\n",
    "\n",
    "try:\n",
    "    for page_num in range(1, 14):\n",
    "        url = base_url.format(page_num)\n",
    "        driver.get(url)\n",
    "        time.sleep(2)\n",
    "        \n",
    "        page_source = driver.page_source\n",
    "        soup = BeautifulSoup(page_source, 'html.parser')\n",
    "        \n",
    "        links = soup.find_all('a', {'role': 'link'})\n",
    "        \n",
    "        for link in links:\n",
    "            href = link.get('href')\n",
    "            if href:\n",
    "                link_list.append(href)\n",
    "                \n",
    "        print(f\"Page {page_num} scraped\")\n",
    "        \n",
    "finally:\n",
    "    driver.quit()\n",
    "    \n"
   ]
  },
  {
   "cell_type": "code",
   "execution_count": 8,
   "id": "56a39079",
   "metadata": {},
   "outputs": [
    {
     "name": "stdout",
     "output_type": "stream",
     "text": [
      "Total links collected: 93\n"
     ]
    }
   ],
   "source": [
    "print(\"Total links collected:\", len(link_list))"
   ]
  },
  {
   "cell_type": "code",
   "execution_count": 10,
   "id": "070e7f75",
   "metadata": {},
   "outputs": [
    {
     "data": {
      "text/plain": [
       "60"
      ]
     },
     "execution_count": 10,
     "metadata": {},
     "output_type": "execute_result"
    }
   ],
   "source": [
    "unique_links = list(set(link_list))\n",
    "len(unique_links)"
   ]
  },
  {
   "cell_type": "code",
   "execution_count": 13,
   "id": "264617e0",
   "metadata": {},
   "outputs": [],
   "source": [
    "base = \"https://www.everlane.com/\"\n",
    "unique_full_urls = []\n",
    "for href in unique_links:\n",
    "    absolute_url = urllib.parse.urljoin(base, href)\n",
    "    unique_full_urls.append(absolute_url)"
   ]
  },
  {
   "cell_type": "code",
   "execution_count": 41,
   "id": "c3d55a01",
   "metadata": {},
   "outputs": [
    {
     "name": "stdout",
     "output_type": "stream",
     "text": [
      "Error clicking button\n"
     ]
    }
   ],
   "source": [
    "u = unique_full_urls[0]\n",
    "driver = webdriver.Chrome()\n",
    "try:\n",
    "    driver.get(u)\n",
    "    time.sleep(2)\n",
    "\n",
    "    try:\n",
    "        button = WebDriverWait(driver, 30).until(\n",
    "            EC.element_to_be_clickable((By.CLASS_NAME, \"styles_product-details__expand__fxMdk\"))\n",
    "        )\n",
    "        time.sleep(2)\n",
    "        button.click()\n",
    "        time.sleep(2)\n",
    "    except Exception as e:\n",
    "        print(f\"Error clicking button\")\n",
    "        \n",
    "    page_source = driver.page_source\n",
    "    soup = BeautifulSoup(page_source, 'html.parser')\n",
    "\n",
    "    product_name_elem = soup.find('div', class_='styles_product-header__title-name__jqMTS')\n",
    "\n",
    "    if product_name_elem:\n",
    "        product_name = product_name_elem.get_text(strip=True)\n",
    "    else:\n",
    "        product_name = \"Product Name Not Found\"\n",
    "        \n",
    "    price_elem = soup.find('div', class_='styles_product-header__price__17H6S')\n",
    "    if price_elem:\n",
    "        product_price = price_elem.get_text(strip=True)\n",
    "    else:\n",
    "        product_price = \"Price Not Found\"\n",
    "        \n",
    "    materials = \"Materials Not Found\"\n",
    "    slide_down_div = soup.find('div', class_='styles_slide-down-up__vEboW styles_product-details--expanded__Du6z4 slide-down-up-enter-done')\n",
    "    if slide_down_div:\n",
    "        # first child div within the slide-down div\n",
    "        first_child_div = slide_down_div.find('div', recursive=False)\n",
    "        if first_child_div:\n",
    "            prod_details_div = first_child_div.find('div', class_='styles_product-details-item__detail__We_Zc')\n",
    "            if prod_details_div:\n",
    "                materials = prod_details_div.get_text(strip=True)\n",
    "\n",
    "finally:\n",
    "    driver.quit()"
   ]
  },
  {
   "cell_type": "code",
   "execution_count": 44,
   "id": "719b5002",
   "metadata": {},
   "outputs": [
    {
     "data": {
      "text/plain": [
       "'The Original Curvy Cheeky® Jean'"
      ]
     },
     "execution_count": 44,
     "metadata": {},
     "output_type": "execute_result"
    }
   ],
   "source": [
    "product_name"
   ]
  },
  {
   "cell_type": "code",
   "execution_count": 16,
   "id": "30c953d9",
   "metadata": {},
   "outputs": [
    {
     "name": "stdout",
     "output_type": "stream",
     "text": [
      "Error occurred: Message: invalid argument\n",
      "  (Session info: chrome=124.0.6367.80)\n",
      "Stacktrace:\n",
      "0   chromedriver                        0x00000001047b69c8 chromedriver + 5216712\n",
      "1   chromedriver                        0x00000001047ae603 chromedriver + 5182979\n",
      "2   chromedriver                        0x000000010432036b chromedriver + 406379\n",
      "3   chromedriver                        0x0000000104307091 chromedriver + 303249\n",
      "4   chromedriver                        0x0000000104305bc2 chromedriver + 297922\n",
      "5   chromedriver                        0x0000000104305e9a chromedriver + 298650\n",
      "6   chromedriver                        0x0000000104322ebf chromedriver + 417471\n",
      "7   chromedriver                        0x00000001043ae255 chromedriver + 987733\n",
      "8   chromedriver                        0x000000010438e702 chromedriver + 857858\n",
      "9   chromedriver                        0x00000001043ad6bf chromedriver + 984767\n",
      "10  chromedriver                        0x000000010438e4a3 chromedriver + 857251\n",
      "11  chromedriver                        0x000000010435efe3 chromedriver + 663523\n",
      "12  chromedriver                        0x000000010435f92e chromedriver + 665902\n",
      "13  chromedriver                        0x00000001047748e0 chromedriver + 4946144\n",
      "14  chromedriver                        0x000000010477a994 chromedriver + 4970900\n",
      "15  chromedriver                        0x00000001047553de chromedriver + 4817886\n",
      "16  chromedriver                        0x000000010477b4a9 chromedriver + 4973737\n",
      "17  chromedriver                        0x0000000104745664 chromedriver + 4752996\n",
      "18  chromedriver                        0x000000010479db58 chromedriver + 5114712\n",
      "19  chromedriver                        0x000000010479dd17 chromedriver + 5115159\n",
      "20  chromedriver                        0x00000001047ae223 chromedriver + 5181987\n",
      "21  libsystem_pthread.dylib             0x00007ff817ad5202 _pthread_start + 99\n",
      "22  libsystem_pthread.dylib             0x00007ff817ad0bab thread_start + 15\n",
      "\n"
     ]
    }
   ],
   "source": [
    "products_info = []\n",
    "driver = webdriver.Chrome()\n",
    "\n",
    "try:\n",
    "    for url in unique_full_urls[0]:\n",
    "        driver.get(url)\n",
    "        time.sleep(2)\n",
    "        \n",
    "        # click the button for details\n",
    "        try:\n",
    "            button = WebDriverWait(driver, 10).until(\n",
    "                EC.element_to_be_clickable((By.CLASS_NAME, \"styles_product-details__expand__fxMdk\"))\n",
    "            )\n",
    "            button.click()\n",
    "            time.sleep(2)\n",
    "        except Exception as e:\n",
    "            print(f\"Error clicking button\")\n",
    "        \n",
    "        page_source = driver.page_source\n",
    "        soup = BeautifulSoup(page_source, 'html.parser')\n",
    "        \n",
    "        product_name_elem = soup.find('div', class_='styles_product-header__title-name__jqMTS')\n",
    "        \n",
    "        if product_name_elem:\n",
    "            name_meta = product_name_elem.find('meta', itemprop='name')\n",
    "            product_name = name_meta['content']\n",
    "        else:\n",
    "            product_name = \"Product Name Not Found\"\n",
    "            \n",
    "        price_elem = soup.find('div', class_='product-heading__price')\n",
    "        if price_elem:\n",
    "            price_meta = price_elem.find('meta', itemprop='highPrice')\n",
    "            if price_meta and price_meta.get('content'):\n",
    "                product_price = price_meta['content']\n",
    "            else:\n",
    "                product_price = \"Price Not Found\"\n",
    "        else:\n",
    "            product_price = \"Price Div Not Found\"\n",
    "            \n",
    "        \n",
    "        materials = \"Materials Not Found\"\n",
    "        slide_down_div = soup.find('div', class_='styles_slide-down-up__vEboW styles_product-details--expanded__Du6z4 slide-down-up-enter-done')\n",
    "        if slide_down_div:\n",
    "            # first child div within the slide-down div\n",
    "            first_child_div = slide_down_div.find('div', recursive=False)\n",
    "            if first_child_div:\n",
    "                prod_details_div = first_child_div.find('div', class_='styles_product-details-item__detail__We_Zc')\n",
    "                if prod_details_div:\n",
    "                    materials = prod_details_div.get_text(strip=True)\n",
    "        \n",
    "        \n",
    "        factory_div = soup.find('div', class_='styles_product-details-item__title__N4LsX', string='Factory')\n",
    "        if factory_div:\n",
    "            factory_next_div = factory_div.find_next_sibling('div', style='width: 100%;')\n",
    "            if factory_next_div:\n",
    "                factory_content = factory_next_div.find('div').get_text(strip=True)\n",
    "                factory_link = factory_next_div.find('a')['href']\n",
    "            else:\n",
    "                factory_content = \"Factory Content Not Found\"\n",
    "                factory_link = \"Factory Link Not Found\"\n",
    "        \n",
    "        else:\n",
    "            details_div = soup.find('div', class_='styles_product-details-item__title__N4LsX', string='Details')\n",
    "            if details_div:\n",
    "                details_next_div = details_div.find_next_sibling('div', style='width: 100%;')\n",
    "                if details_next_div:\n",
    "                    factory_content = details_next_div.find('div').get_text(strip=True)\n",
    "                    factory_link = \"Factory Link Not Found\"\n",
    "                else:\n",
    "                    factory_content = \"Factory Content Not Found\"\n",
    "                    factory_link = \"Factory Link Not Found\"\n",
    "            else:\n",
    "                factory_content = \"Factory Content Not Found\"\n",
    "                factory_link = \"Factory Link Not Found\"\n",
    "        \n",
    "    \n",
    "\n",
    "        products_info.append((product_name, product_price, factory_content, factory_link))\n",
    "        print(f\"Collected product info for {product_name}: {product_price} | Materials: {materials} | Factory: {factory_content} | Factory Link: {factory_link}\")\n",
    "        \n",
    "except Exception as e:\n",
    "    print(f\"Error occurred: {e}\")\n",
    "\n",
    "finally:\n",
    "    driver.quit()"
   ]
  },
  {
   "cell_type": "code",
   "execution_count": null,
   "id": "a62d4a17",
   "metadata": {},
   "outputs": [],
   "source": [
    "print(\"Total product names collected:\", len(product_names))"
   ]
  }
 ],
 "metadata": {
  "kernelspec": {
   "display_name": "Python 3 (ipykernel)",
   "language": "python",
   "name": "python3"
  },
  "language_info": {
   "codemirror_mode": {
    "name": "ipython",
    "version": 3
   },
   "file_extension": ".py",
   "mimetype": "text/x-python",
   "name": "python",
   "nbconvert_exporter": "python",
   "pygments_lexer": "ipython3",
   "version": "3.8.17"
  }
 },
 "nbformat": 4,
 "nbformat_minor": 5
}
