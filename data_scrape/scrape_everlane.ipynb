{
 "cells": [
  {
   "cell_type": "markdown",
   "id": "1dd02ac9",
   "metadata": {},
   "source": [
    "### Scraping sustainable brand Everlane"
   ]
  },
  {
   "cell_type": "code",
   "execution_count": 83,
   "id": "bb524f13",
   "metadata": {},
   "outputs": [],
   "source": [
    "import requests\n",
    "from bs4 import BeautifulSoup\n",
    "from selenium import webdriver\n",
    "from selenium.webdriver.common.by import By\n",
    "from selenium.webdriver.support.ui import WebDriverWait\n",
    "from selenium.webdriver.support import expected_conditions as EC\n",
    "import time\n",
    "import urllib.parse\n",
    "from selenium.webdriver.common.action_chains import ActionChains"
   ]
  },
  {
   "cell_type": "code",
   "execution_count": 6,
   "id": "09422a8d",
   "metadata": {},
   "outputs": [
    {
     "name": "stdout",
     "output_type": "stream",
     "text": [
      "Page 1 scraped\n",
      "Page 2 scraped\n",
      "Page 3 scraped\n",
      "Page 4 scraped\n",
      "Page 5 scraped\n",
      "Page 6 scraped\n",
      "Page 7 scraped\n",
      "Page 8 scraped\n",
      "Page 9 scraped\n",
      "Page 10 scraped\n",
      "Page 11 scraped\n",
      "Page 12 scraped\n",
      "Page 13 scraped\n"
     ]
    }
   ],
   "source": [
    "# jeans\n",
    "base_url = \"https://www.everlane.com/collections/womens-jeans?page={}\"\n",
    "\n",
    "link_list = []\n",
    "driver = webdriver.Chrome()\n",
    "\n",
    "try:\n",
    "    for page_num in range(1, 14):\n",
    "        url = base_url.format(page_num)\n",
    "        driver.get(url)\n",
    "        time.sleep(2)\n",
    "        \n",
    "        page_source = driver.page_source\n",
    "        soup = BeautifulSoup(page_source, 'html.parser')\n",
    "        \n",
    "        links = soup.find_all('a', {'role': 'link'})\n",
    "        \n",
    "        for link in links:\n",
    "            href = link.get('href')\n",
    "            if href:\n",
    "                link_list.append(href)\n",
    "                \n",
    "        print(f\"Page {page_num} scraped\")\n",
    "        \n",
    "finally:\n",
    "    driver.quit()\n",
    "    \n"
   ]
  },
  {
   "cell_type": "code",
   "execution_count": 8,
   "id": "afecc4ea",
   "metadata": {},
   "outputs": [
    {
     "name": "stdout",
     "output_type": "stream",
     "text": [
      "Total links collected: 93\n"
     ]
    }
   ],
   "source": [
    "print(\"Total links collected:\", len(link_list))"
   ]
  },
  {
   "cell_type": "code",
   "execution_count": 10,
   "id": "23ae5ca1",
   "metadata": {},
   "outputs": [
    {
     "data": {
      "text/plain": [
       "60"
      ]
     },
     "execution_count": 10,
     "metadata": {},
     "output_type": "execute_result"
    }
   ],
   "source": [
    "unique_links = list(set(link_list))\n",
    "len(unique_links)"
   ]
  },
  {
   "cell_type": "code",
   "execution_count": 13,
   "id": "2b214ec5",
   "metadata": {},
   "outputs": [],
   "source": [
    "base = \"https://www.everlane.com/\"\n",
    "unique_full_urls = []\n",
    "for href in unique_links:\n",
    "    absolute_url = urllib.parse.urljoin(base, href)\n",
    "    unique_full_urls.append(absolute_url)"
   ]
  },
  {
   "cell_type": "code",
   "execution_count": 146,
   "id": "ca79f110",
   "metadata": {},
   "outputs": [
    {
     "name": "stdout",
     "output_type": "stream",
     "text": [
      "Collected product info for The Original Curvy Cheeky® Jean: €118 | Materials: 98% Organic Cotton, 2% Elastane | Factory: Made at our Hirdaramani Factory in Sri Lanka. | Factory Link: Factory Link Not Found\n",
      "Collected product info for The Way-High® Jean: €142 | Materials: 98% Organic Cotton, 2% Elastane | Factory: Made in Bien Hoa, VN | Factory Link: /factories/denim-saitex\n",
      "Collected product info for The A-Line Denim Short: €81 | Materials: 100% Organic Cotton | Factory: Made at our Hirdaramani Factory in Sri Lanka. | Factory Link: Factory Link Not Found\n",
      "Collected product info for The Summer Barrel Jean: €142 | Materials: 60% Organic Cotton, 40% TENCEL™ with REFIBRA™ | Factory: Made at Phong Phu International Joint Stock Company in Vietnam. | Factory Link: Factory Link Not Found\n",
      "Collected product info for The Cheeky Relaxed Straight Jean: €142 | Materials: 98% Organic Cotton, 2% Elastane | Factory: Made in Bien Hoa, VN | Factory Link: /factories/denim-saitex\n",
      "Collected product info for The Way-High® Curve Jean: €154 | Materials: 98% Organic Cotton, 2% Elastane | Factory: Made in Bien Hoa, VN | Factory Link: /factories/denim-saitex\n",
      "Collected product info for The Cheeky Relaxed Straight Jean: €142 | Materials: 98% Organic Cotton, 2% Elastane | Factory: Made in Bien Hoa, VN | Factory Link: /factories/denim-saitex\n",
      "Collected product info for The Way-High® Sailor Jean: €154 | Materials: 96% Organic Cotton, 1% Elastane, 3% Other Fibers | Factory: Made in Bien Hoa, VN | Factory Link: /factories/denim-saitex\n"
     ]
    }
   ],
   "source": [
    "products_info = []\n",
    "driver = webdriver.Chrome()\n",
    "try:\n",
    "    for url in unique_full_urls[:8]:\n",
    "        driver.get(url)\n",
    "        time.sleep(2)\n",
    "        button = WebDriverWait(driver, 20).until(\n",
    "            EC.element_to_be_clickable((By.CLASS_NAME, \"styles_product-details__expand__fxMdk\"))\n",
    "        )\n",
    "        driver.execute_script(\"arguments[0].scrollIntoView();\", button)\n",
    "        time.sleep(2)\n",
    "        driver.execute_script(\"arguments[0].click();\", button)\n",
    "        time.sleep(2)\n",
    "        page_source = driver.page_source\n",
    "        soup = BeautifulSoup(page_source, 'html.parser')\n",
    "\n",
    "        product_name_elem = soup.find('div', class_='styles_product-header__title-name__jqMTS')\n",
    "\n",
    "        if product_name_elem:\n",
    "            product_name = product_name_elem.get_text(strip=True)\n",
    "        else:\n",
    "            product_name = \"Product Name Not Found\"\n",
    "\n",
    "        price_elem = soup.find('div', class_='styles_product-header__price__17H6S')\n",
    "        if price_elem:\n",
    "            product_price = price_elem.get_text(strip=True)\n",
    "        else:\n",
    "            product_price = \"Price Not Found\"\n",
    "\n",
    "        materials = \"Materials Not Found\"\n",
    "        slide_down_div = soup.find('div', class_='styles_slide-down-up__vEboW styles_product-details--expanded__Du6z4 slide-down-up-enter-done')\n",
    "        if slide_down_div:\n",
    "            # first child div within the slide-down div\n",
    "            first_child_div = slide_down_div.find('div', recursive=False)\n",
    "            if first_child_div:\n",
    "                prod_details_div = first_child_div.find('div', class_='styles_product-details-item__detail__We_Zc')\n",
    "                if prod_details_div:\n",
    "                    materials = prod_details_div.get_text(strip=True)\n",
    "\n",
    "        factory_div = soup.find('div', class_='styles_product-details-item__title__N4LsX', string='Factory')\n",
    "        if factory_div:\n",
    "            factory_next_div = factory_div.find_next_sibling('div', style='width: 100%;')\n",
    "            if factory_next_div:\n",
    "                factory_content = factory_next_div.find('div').get_text(strip=True)\n",
    "                factory_link = factory_next_div.find('a')['href']\n",
    "            else:\n",
    "                factory_content = \"Factory Content Not Found\"\n",
    "                factory_link = \"Factory Link Not Found\"\n",
    "\n",
    "        else:\n",
    "            details_div = soup.find('div', class_='styles_product-details-item__title__N4LsX', string='Details')\n",
    "            if details_div:\n",
    "                details_next_div = details_div.find_next_sibling('div', style='width: 100%;')\n",
    "                if details_next_div:\n",
    "                    factory_content = details_next_div.find('div').get_text(strip=True)\n",
    "                    factory_link = \"Factory Link Not Found\"\n",
    "                else:\n",
    "                    factory_content = \"Factory Content Not Found\"\n",
    "                    factory_link = \"Factory Link Not Found\"\n",
    "            else:\n",
    "                factory_content = \"Factory Content Not Found\"\n",
    "                factory_link = \"Factory Link Not Found\"\n",
    "\n",
    "        products_info.append((product_name, product_price, materials, factory_content, factory_link))\n",
    "        print(f\"Collected product info for {product_name}: {product_price} | Materials: {materials} | Factory: {factory_content} | Factory Link: {factory_link}\")\n",
    "\n",
    "finally:\n",
    "    driver.quit()"
   ]
  },
  {
   "cell_type": "code",
   "execution_count": 147,
   "id": "f4f11e3f",
   "metadata": {},
   "outputs": [
    {
     "data": {
      "text/plain": [
       "8"
      ]
     },
     "execution_count": 147,
     "metadata": {},
     "output_type": "execute_result"
    }
   ],
   "source": [
    "len(products_info) # links 0-7 info collected"
   ]
  },
  {
   "cell_type": "code",
   "execution_count": 148,
   "id": "53b960da",
   "metadata": {},
   "outputs": [
    {
     "name": "stdout",
     "output_type": "stream",
     "text": [
      "Collected product info for The Original Cheeky® Jean: €118 | Materials: 98% Organic Cotton, 2% Elastane. This premium 13 oz denim has an authentic feel with a touch of stretch. | Factory: Made at our Hirdaramani Factory in Sri Lanka. | Factory Link: Factory Link Not Found\n",
      "Collected product info for The Baggy Jean: €154 | Materials: 60% Organic Cotton, 40% TENCEL™ Lyocell x REFIBRA™ | Factory: Lighter-weight denim | Factory Link: Factory Link Not Found\n",
      "Collected product info for The Curvy Way-High® Jean: €142 | Materials: 98% Organic Cotton 2% Elastane | Factory: Made in Bien Hoa, VN | Factory Link: /factories/denim-saitex\n",
      "Collected product info for The Way-High® Sailor Jean: €154 | Materials: 98% Organic Cotton, 2% Elastane | Factory: Made in Bien Hoa, VN | Factory Link: /factories/denim-saitex\n",
      "Collected product info for The Cheeky Relaxed Jean Short: €81 | Materials: 100% Organic Cotton | Factory: Made at Phong Phu International Joint Stock Company in Vietnam. | Factory Link: Factory Link Not Found\n",
      "Collected product info for The Way-High® Gardener Cropped Jean: €165 | Materials: 100% Organic Cotton | Factory: Made at Hirdaramani in Vietnam | Factory Link: Factory Link Not Found\n",
      "Collected product info for The Way-High® Sailor Jean: €154 | Materials: 98% Organic Cotton, 2% Elastane | Factory: Made in Bien Hoa, VN | Factory Link: /factories/denim-saitex\n",
      "Collected product info for The Kick Bootcut Jean: €154 | Materials: 40% Organic Cotton, 25% LENZING™ ECOVERO™ Viscose, 19% Recycled Polyester, 14% Modal, 2% Elastane | Factory: Made in Bien Hoa, VN | Factory Link: /factories/denim-saitex\n",
      "Collected product info for The Way-High® Gardener Cropped Jean: €165 | Materials: 100% Organic Cotton | Factory: Made at Hirdaramani in Vietnam | Factory Link: Factory Link Not Found\n",
      "Collected product info for The Denim Barrel Jacket: €177 | Materials: 100% Organic Cotton | Factory: Made in Bien Hoa, VN | Factory Link: /factories/denim-saitex\n",
      "Collected product info for The Cheeky Relaxed Jean Short: €81 | Materials: 100% Organic Cotton | Factory: Made at Phong Phu International Joint Stock Company in Vietnam. | Factory Link: Factory Link Not Found\n",
      "Collected product info for The Kick Bootcut Jean: €154 | Materials: 51% Organic Cotton, 28%  LENZING™ ECOVERO™ Viscose, 19% Polyester, 2% Elastane | Factory: Made in Bien Hoa, VN | Factory Link: /factories/denim-saitex\n",
      "Collected product info for The Cheeky Relaxed Jean Short: €81 | Materials: 98% Organic Cotton, 2% Elastane | Factory: Made at Phong Phu International Joint Stock Company in Vietnam. | Factory Link: Factory Link Not Found\n",
      "Collected product info for The Way-High® Curve Jean: €154 | Materials: 98% Organic Cotton, 2% Elastane | Factory: Made in Bien Hoa, VN | Factory Link: /factories/denim-saitex\n"
     ]
    }
   ],
   "source": [
    "\n",
    "driver = webdriver.Chrome()\n",
    "try:\n",
    "    for url in unique_full_urls[8:22]:\n",
    "        driver.get(url)\n",
    "        time.sleep(2)\n",
    "        button = WebDriverWait(driver, 20).until(\n",
    "            EC.element_to_be_clickable((By.CLASS_NAME, \"styles_product-details__expand__fxMdk\"))\n",
    "        )\n",
    "        driver.execute_script(\"arguments[0].scrollIntoView();\", button)\n",
    "        time.sleep(2)\n",
    "        driver.execute_script(\"arguments[0].click();\", button)\n",
    "        time.sleep(2)\n",
    "        page_source = driver.page_source\n",
    "        soup = BeautifulSoup(page_source, 'html.parser')\n",
    "\n",
    "        product_name_elem = soup.find('div', class_='styles_product-header__title-name__jqMTS')\n",
    "\n",
    "        if product_name_elem:\n",
    "            product_name = product_name_elem.get_text(strip=True)\n",
    "        else:\n",
    "            product_name = \"Product Name Not Found\"\n",
    "\n",
    "        price_elem = soup.find('div', class_='styles_product-header__price__17H6S')\n",
    "        if price_elem:\n",
    "            product_price = price_elem.get_text(strip=True)\n",
    "        else:\n",
    "            product_price = \"Price Not Found\"\n",
    "\n",
    "        materials = \"Materials Not Found\"\n",
    "        slide_down_div = soup.find('div', class_='styles_slide-down-up__vEboW styles_product-details--expanded__Du6z4 slide-down-up-enter-done')\n",
    "        if slide_down_div:\n",
    "            # first child div within the slide-down div\n",
    "            first_child_div = slide_down_div.find('div', recursive=False)\n",
    "            if first_child_div:\n",
    "                prod_details_div = first_child_div.find('div', class_='styles_product-details-item__detail__We_Zc')\n",
    "                if prod_details_div:\n",
    "                    materials = prod_details_div.get_text(strip=True)\n",
    "\n",
    "        factory_div = soup.find('div', class_='styles_product-details-item__title__N4LsX', string='Factory')\n",
    "        if factory_div:\n",
    "            factory_next_div = factory_div.find_next_sibling('div', style='width: 100%;')\n",
    "            if factory_next_div:\n",
    "                factory_content = factory_next_div.find('div').get_text(strip=True)\n",
    "                factory_link = factory_next_div.find('a')['href']\n",
    "            else:\n",
    "                factory_content = \"Factory Content Not Found\"\n",
    "                factory_link = \"Factory Link Not Found\"\n",
    "\n",
    "        else:\n",
    "            details_div = soup.find('div', class_='styles_product-details-item__title__N4LsX', string='Details')\n",
    "            if details_div:\n",
    "                details_next_div = details_div.find_next_sibling('div', style='width: 100%;')\n",
    "                if details_next_div:\n",
    "                    factory_content = details_next_div.find('div').get_text(strip=True)\n",
    "                    factory_link = \"Factory Link Not Found\"\n",
    "                else:\n",
    "                    factory_content = \"Factory Content Not Found\"\n",
    "                    factory_link = \"Factory Link Not Found\"\n",
    "            else:\n",
    "                factory_content = \"Factory Content Not Found\"\n",
    "                factory_link = \"Factory Link Not Found\"\n",
    "\n",
    "        products_info.append((product_name, product_price, materials, factory_content, factory_link))\n",
    "        print(f\"Collected product info for {product_name}: {product_price} | Materials: {materials} | Factory: {factory_content} | Factory Link: {factory_link}\")\n",
    "\n",
    "finally:\n",
    "    driver.quit()"
   ]
  },
  {
   "cell_type": "code",
   "execution_count": 149,
   "id": "2465deeb",
   "metadata": {},
   "outputs": [
    {
     "data": {
      "text/plain": [
       "22"
      ]
     },
     "execution_count": 149,
     "metadata": {},
     "output_type": "execute_result"
    }
   ],
   "source": [
    "# links 8 to 21 info collected\n",
    "len(products_info)"
   ]
  },
  {
   "cell_type": "code",
   "execution_count": 156,
   "id": "450e6937",
   "metadata": {},
   "outputs": [
    {
     "name": "stdout",
     "output_type": "stream",
     "text": [
      "Collected product info for The ’90s Cheeky® Jean: €132 | Materials: Materials Not Found | Factory: Made in Bien Hoa, VN | Factory Link: /factories/denim-saitex\n",
      "Collected product info for The Way-High® Curve Jean: €154 | Materials: 98% Organic Cotton, 2% Elastane | Factory: Made in Bien Hoa, VN | Factory Link: /factories/denim-saitex\n",
      "Collected product info for The Way-High® Curve Jean: €154 | Materials: 98% Organic Cotton, 2% Elastane | Factory: Made in Bien Hoa, VN | Factory Link: /factories/denim-saitex\n",
      "Collected product info for The Rigid Way-High® Jean: €132 | Materials: 100% Organic Cotton | Factory: Made in Bien Hoa, VN | Factory Link: /factories/denim-saitex\n",
      "Collected product info for The Way-High® Skinny Jean: €105 | Materials: 55% Organic Cotton, 25% Viscose, 18% Recycled Polyester, 2% Elastane. | Factory: Made at our Hirdaramani Factory in Sri Lanka. | Factory Link: Factory Link Not Found\n",
      "Collected product info for The Cheeky Relaxed Straight Jean: €142 | Materials: 100% Organic Cotton | Factory: Made in Bien Hoa, VN | Factory Link: /factories/denim-saitex\n",
      "Collected product info for The Original Cheeky® Jean: €118 | Materials: 98% Organic Cotton, 2% Elastane | Factory: Made at Phong Phu International J.S.C in Vietnam | Factory Link: Factory Link Not Found\n"
     ]
    }
   ],
   "source": [
    "\n",
    "driver = webdriver.Chrome()\n",
    "try:\n",
    "    for url in unique_full_urls[22:29]:\n",
    "        driver.get(url)\n",
    "        time.sleep(2)\n",
    "        button = WebDriverWait(driver, 20).until(\n",
    "            EC.element_to_be_clickable((By.CLASS_NAME, \"styles_product-details__expand__fxMdk\"))\n",
    "        )\n",
    "        driver.execute_script(\"arguments[0].scrollIntoView();\", button)\n",
    "        time.sleep(2)\n",
    "        driver.execute_script(\"arguments[0].click();\", button)\n",
    "        time.sleep(2)\n",
    "        page_source = driver.page_source\n",
    "        soup = BeautifulSoup(page_source, 'html.parser')\n",
    "\n",
    "        product_name_elem = soup.find('div', class_='styles_product-header__title-name__jqMTS')\n",
    "\n",
    "        if product_name_elem:\n",
    "            product_name = product_name_elem.get_text(strip=True)\n",
    "        else:\n",
    "            product_name = \"Product Name Not Found\"\n",
    "\n",
    "        price_elem = soup.find('div', class_='styles_product-header__price__17H6S')\n",
    "        if price_elem:\n",
    "            product_price = price_elem.get_text(strip=True)\n",
    "        else:\n",
    "            product_price = \"Price Not Found\"\n",
    "\n",
    "        materials = \"Materials Not Found\"\n",
    "        slide_down_div = soup.find('div', class_='styles_slide-down-up__vEboW styles_product-details--expanded__Du6z4 slide-down-up-enter-done')\n",
    "        if slide_down_div:\n",
    "            # first child div within the slide-down div\n",
    "            first_child_div = slide_down_div.find('div', recursive=False)\n",
    "            if first_child_div:\n",
    "                prod_details_div = first_child_div.find('div', class_='styles_product-details-item__detail__We_Zc')\n",
    "                if prod_details_div:\n",
    "                    materials = prod_details_div.get_text(strip=True)\n",
    "\n",
    "        factory_div = soup.find('div', class_='styles_product-details-item__title__N4LsX', string='Factory')\n",
    "        if factory_div:\n",
    "            factory_next_div = factory_div.find_next_sibling('div', style='width: 100%;')\n",
    "            if factory_next_div:\n",
    "                factory_content = factory_next_div.find('div').get_text(strip=True)\n",
    "                factory_link = factory_next_div.find('a')['href']\n",
    "            else:\n",
    "                factory_content = \"Factory Content Not Found\"\n",
    "                factory_link = \"Factory Link Not Found\"\n",
    "\n",
    "        else:\n",
    "            details_div = soup.find('div', class_='styles_product-details-item__title__N4LsX', string='Details')\n",
    "            if details_div:\n",
    "                details_next_div = details_div.find_next_sibling('div', style='width: 100%;')\n",
    "                if details_next_div:\n",
    "                    factory_content = details_next_div.find('div').get_text(strip=True)\n",
    "                    factory_link = \"Factory Link Not Found\"\n",
    "                else:\n",
    "                    factory_content = \"Factory Content Not Found\"\n",
    "                    factory_link = \"Factory Link Not Found\"\n",
    "            else:\n",
    "                factory_content = \"Factory Content Not Found\"\n",
    "                factory_link = \"Factory Link Not Found\"\n",
    "\n",
    "        products_info.append((product_name, product_price, materials, factory_content, factory_link))\n",
    "        print(f\"Collected product info for {product_name}: {product_price} | Materials: {materials} | Factory: {factory_content} | Factory Link: {factory_link}\")\n",
    "\n",
    "finally:\n",
    "    driver.quit()"
   ]
  },
  {
   "cell_type": "code",
   "execution_count": 157,
   "id": "457daff2",
   "metadata": {},
   "outputs": [
    {
     "data": {
      "text/plain": [
       "29"
      ]
     },
     "execution_count": 157,
     "metadata": {},
     "output_type": "execute_result"
    }
   ],
   "source": [
    "# links 0 to 28 info collected\n",
    "len(products_info)"
   ]
  },
  {
   "cell_type": "code",
   "execution_count": 158,
   "id": "46f91039",
   "metadata": {},
   "outputs": [
    {
     "name": "stdout",
     "output_type": "stream",
     "text": [
      "Collected product info for The Curvy Way-High® Jean: €142 | Materials: Materials Not Found | Factory: Made in Bien Hoa, VN | Factory Link: /factories/denim-saitex\n",
      "Collected product info for The Way-High® Curve Jean: €154 | Materials: 98% Organic Cotton, 2% Elastane | Factory: Made in Bien Hoa, VN | Factory Link: /factories/denim-saitex\n",
      "Collected product info for The Cheeky Relaxed Jean Short: €81 | Materials: 98% Organic Cotton, 2% Elastane | Factory: Made at Phong Phu International Joint Stock Company in Vietnam. | Factory Link: Factory Link Not Found\n",
      "Collected product info for The A-Line Denim Short: €81 | Materials: Materials Not Found | Factory: Made at our Hirdaramani Factory in Sri Lanka. | Factory Link: Factory Link Not Found\n",
      "Collected product info for The Way-High® Skinny Jean: €105 | Materials: 55% Organic Cotton, 25% Viscose, 18% Recycled Polyester, 2% Elastane. | Factory: Made at our Hirdaramani Factory in Sri Lanka. | Factory Link: Factory Link Not Found\n",
      "Collected product info for The ’90s Cheeky® Jean: €132 | Materials: 100% Cotton (60% Organic Cotton, 24% Recycled Cotton) | Factory: Made in Bien Hoa, VN | Factory Link: /factories/denim-saitex\n",
      "Collected product info for The Original Cheeky® Jean: €118 | Materials: 98% Organic Cotton, 2% Elastane. This premium 13 oz denim has an authentic feel with a touch of stretch. | Factory: Made at our Hirdaramani Factory in Sri Lanka. | Factory Link: Factory Link Not Found\n",
      "Collected product info for The Denim Barrel Jacket: €177 | Materials: 100% Organic Cotton | Factory: Made in Bien Hoa, VN | Factory Link: /factories/denim-saitex\n",
      "Collected product info for The Way-High® Gardener Cropped Jean: €165 | Materials: 100% Organic Cotton | Factory: Made at Hirdaramani in Vietnam | Factory Link: Factory Link Not Found\n",
      "Collected product info for The A-Line Denim Short: €81 | Materials: 100% Organic Cotton | Factory: Made at our Hirdaramani Factory in Sri Lanka. | Factory Link: Factory Link Not Found\n",
      "Collected product info for The ’90s Cheeky® Jean: €132 | Materials: Rigid: 100% organic cotton | Factory: Made in Bien Hoa, VN | Factory Link: /factories/denim-saitex\n"
     ]
    }
   ],
   "source": [
    "\n",
    "driver = webdriver.Chrome()\n",
    "try:\n",
    "    for url in unique_full_urls[29:40]:\n",
    "        driver.get(url)\n",
    "        time.sleep(2)\n",
    "        button = WebDriverWait(driver, 20).until(\n",
    "            EC.element_to_be_clickable((By.CLASS_NAME, \"styles_product-details__expand__fxMdk\"))\n",
    "        )\n",
    "        driver.execute_script(\"arguments[0].scrollIntoView();\", button)\n",
    "        time.sleep(2)\n",
    "        driver.execute_script(\"arguments[0].click();\", button)\n",
    "        time.sleep(2)\n",
    "        page_source = driver.page_source\n",
    "        soup = BeautifulSoup(page_source, 'html.parser')\n",
    "\n",
    "        product_name_elem = soup.find('div', class_='styles_product-header__title-name__jqMTS')\n",
    "\n",
    "        if product_name_elem:\n",
    "            product_name = product_name_elem.get_text(strip=True)\n",
    "        else:\n",
    "            product_name = \"Product Name Not Found\"\n",
    "\n",
    "        price_elem = soup.find('div', class_='styles_product-header__price__17H6S')\n",
    "        if price_elem:\n",
    "            product_price = price_elem.get_text(strip=True)\n",
    "        else:\n",
    "            product_price = \"Price Not Found\"\n",
    "\n",
    "        materials = \"Materials Not Found\"\n",
    "        slide_down_div = soup.find('div', class_='styles_slide-down-up__vEboW styles_product-details--expanded__Du6z4 slide-down-up-enter-done')\n",
    "        if slide_down_div:\n",
    "            # first child div within the slide-down div\n",
    "            first_child_div = slide_down_div.find('div', recursive=False)\n",
    "            if first_child_div:\n",
    "                prod_details_div = first_child_div.find('div', class_='styles_product-details-item__detail__We_Zc')\n",
    "                if prod_details_div:\n",
    "                    materials = prod_details_div.get_text(strip=True)\n",
    "\n",
    "        factory_div = soup.find('div', class_='styles_product-details-item__title__N4LsX', string='Factory')\n",
    "        if factory_div:\n",
    "            factory_next_div = factory_div.find_next_sibling('div', style='width: 100%;')\n",
    "            if factory_next_div:\n",
    "                factory_content = factory_next_div.find('div').get_text(strip=True)\n",
    "                factory_link = factory_next_div.find('a')['href']\n",
    "            else:\n",
    "                factory_content = \"Factory Content Not Found\"\n",
    "                factory_link = \"Factory Link Not Found\"\n",
    "\n",
    "        else:\n",
    "            details_div = soup.find('div', class_='styles_product-details-item__title__N4LsX', string='Details')\n",
    "            if details_div:\n",
    "                details_next_div = details_div.find_next_sibling('div', style='width: 100%;')\n",
    "                if details_next_div:\n",
    "                    factory_content = details_next_div.find('div').get_text(strip=True)\n",
    "                    factory_link = \"Factory Link Not Found\"\n",
    "                else:\n",
    "                    factory_content = \"Factory Content Not Found\"\n",
    "                    factory_link = \"Factory Link Not Found\"\n",
    "            else:\n",
    "                factory_content = \"Factory Content Not Found\"\n",
    "                factory_link = \"Factory Link Not Found\"\n",
    "\n",
    "        products_info.append((product_name, product_price, materials, factory_content, factory_link))\n",
    "        print(f\"Collected product info for {product_name}: {product_price} | Materials: {materials} | Factory: {factory_content} | Factory Link: {factory_link}\")\n",
    "\n",
    "finally:\n",
    "    driver.quit()"
   ]
  },
  {
   "cell_type": "code",
   "execution_count": 159,
   "id": "ee47a22b",
   "metadata": {},
   "outputs": [
    {
     "data": {
      "text/plain": [
       "40"
      ]
     },
     "execution_count": 159,
     "metadata": {},
     "output_type": "execute_result"
    }
   ],
   "source": [
    "# links 0 to 39 info collected\n",
    "len(products_info)"
   ]
  },
  {
   "cell_type": "code",
   "execution_count": 160,
   "id": "29074172",
   "metadata": {},
   "outputs": [
    {
     "name": "stdout",
     "output_type": "stream",
     "text": [
      "Collected product info for The Curvy Way-High® Jean: €142 | Materials: 96% Organic Cotton 1% Elastane 3% Other Fiber | Factory: Made in Bien Hoa, VN | Factory Link: /factories/denim-saitex\n",
      "Collected product info for The Way-High® Jean: €142 | Materials: 98% Organic Cotton, 2% Elastane | Factory: Made in Bien Hoa, VN | Factory Link: /factories/denim-saitex\n",
      "Collected product info for The Way-High® Curve Jean: €154 | Materials: 98% Organic Cotton, 2% Elastane | Factory: Made in Bien Hoa, VN | Factory Link: /factories/denim-saitex\n",
      "Collected product info for The Way-High® Slim Jean: €118 | Materials: 98% Regenerative Cotton, 2% Elastane | Factory: Made in Bien Hoa, VN | Factory Link: /factories/denim-saitex\n",
      "Collected product info for The Super-Soft Relaxed Jean: €118 | Materials: 60% Organic Cotton, 40% TENCEL™ with REFIBRA™ | Factory: Made in Bien Hoa, VN | Factory Link: /factories/denim-saitex\n",
      "Collected product info for The Way-High® Jean: €142 | Materials: 98% Organic Cotton, 2% Elastane | Factory: Made in Bien Hoa, VN | Factory Link: /factories/denim-saitex\n",
      "Collected product info for The Original Curvy Cheeky® Jean: €118 | Materials: 98% Organic Cotton, 2% Elastane | Factory: Made at our Hirdaramani Factory in Sri Lanka. | Factory Link: Factory Link Not Found\n",
      "Collected product info for The Super-Soft Relaxed Jean: €118 | Materials: 60% Organic Cotton, 40% TENCEL™ with REFIBRA™ | Factory: Made in Bien Hoa, VN | Factory Link: /factories/denim-saitex\n",
      "Collected product info for The Rigid Way-High® Jean: €132 | Materials: 100% Organic Cotton | Factory: Made in Bien Hoa, VN | Factory Link: /factories/denim-saitex\n",
      "Collected product info for The Modern Jean Jacket: €105 | Materials: 98% Organic Cotton, 2% Elastane | Factory: Made at our Hirdaramani Factory in Sri Lanka. | Factory Link: Factory Link Not Found\n"
     ]
    }
   ],
   "source": [
    "\n",
    "driver = webdriver.Chrome()\n",
    "try:\n",
    "    for url in unique_full_urls[40:50]:\n",
    "        driver.get(url)\n",
    "        time.sleep(2)\n",
    "        button = WebDriverWait(driver, 20).until(\n",
    "            EC.element_to_be_clickable((By.CLASS_NAME, \"styles_product-details__expand__fxMdk\"))\n",
    "        )\n",
    "        driver.execute_script(\"arguments[0].scrollIntoView();\", button)\n",
    "        time.sleep(2)\n",
    "        driver.execute_script(\"arguments[0].click();\", button)\n",
    "        time.sleep(2)\n",
    "        page_source = driver.page_source\n",
    "        soup = BeautifulSoup(page_source, 'html.parser')\n",
    "\n",
    "        product_name_elem = soup.find('div', class_='styles_product-header__title-name__jqMTS')\n",
    "\n",
    "        if product_name_elem:\n",
    "            product_name = product_name_elem.get_text(strip=True)\n",
    "        else:\n",
    "            product_name = \"Product Name Not Found\"\n",
    "\n",
    "        price_elem = soup.find('div', class_='styles_product-header__price__17H6S')\n",
    "        if price_elem:\n",
    "            product_price = price_elem.get_text(strip=True)\n",
    "        else:\n",
    "            product_price = \"Price Not Found\"\n",
    "\n",
    "        materials = \"Materials Not Found\"\n",
    "        slide_down_div = soup.find('div', class_='styles_slide-down-up__vEboW styles_product-details--expanded__Du6z4 slide-down-up-enter-done')\n",
    "        if slide_down_div:\n",
    "            # first child div within the slide-down div\n",
    "            first_child_div = slide_down_div.find('div', recursive=False)\n",
    "            if first_child_div:\n",
    "                prod_details_div = first_child_div.find('div', class_='styles_product-details-item__detail__We_Zc')\n",
    "                if prod_details_div:\n",
    "                    materials = prod_details_div.get_text(strip=True)\n",
    "\n",
    "        factory_div = soup.find('div', class_='styles_product-details-item__title__N4LsX', string='Factory')\n",
    "        if factory_div:\n",
    "            factory_next_div = factory_div.find_next_sibling('div', style='width: 100%;')\n",
    "            if factory_next_div:\n",
    "                factory_content = factory_next_div.find('div').get_text(strip=True)\n",
    "                factory_link = factory_next_div.find('a')['href']\n",
    "            else:\n",
    "                factory_content = \"Factory Content Not Found\"\n",
    "                factory_link = \"Factory Link Not Found\"\n",
    "\n",
    "        else:\n",
    "            details_div = soup.find('div', class_='styles_product-details-item__title__N4LsX', string='Details')\n",
    "            if details_div:\n",
    "                details_next_div = details_div.find_next_sibling('div', style='width: 100%;')\n",
    "                if details_next_div:\n",
    "                    factory_content = details_next_div.find('div').get_text(strip=True)\n",
    "                    factory_link = \"Factory Link Not Found\"\n",
    "                else:\n",
    "                    factory_content = \"Factory Content Not Found\"\n",
    "                    factory_link = \"Factory Link Not Found\"\n",
    "            else:\n",
    "                factory_content = \"Factory Content Not Found\"\n",
    "                factory_link = \"Factory Link Not Found\"\n",
    "\n",
    "        products_info.append((product_name, product_price, materials, factory_content, factory_link))\n",
    "        print(f\"Collected product info for {product_name}: {product_price} | Materials: {materials} | Factory: {factory_content} | Factory Link: {factory_link}\")\n",
    "\n",
    "finally:\n",
    "    driver.quit()"
   ]
  },
  {
   "cell_type": "code",
   "execution_count": 163,
   "id": "88fb43b9",
   "metadata": {},
   "outputs": [
    {
     "data": {
      "text/plain": [
       "50"
      ]
     },
     "execution_count": 163,
     "metadata": {},
     "output_type": "execute_result"
    }
   ],
   "source": [
    "# links 0 to 49 info collected\n",
    "len(products_info)"
   ]
  },
  {
   "cell_type": "code",
   "execution_count": 164,
   "id": "38a050b5",
   "metadata": {},
   "outputs": [
    {
     "name": "stdout",
     "output_type": "stream",
     "text": [
      "Collected product info for The Super-Soft Relaxed Jean: €118 | Materials: Materials Not Found | Factory: Made in Bien Hoa, VN | Factory Link: /factories/denim-saitex\n",
      "Collected product info for The Way-High® Slim Jean: €118 | Materials: 98% Regenerative Cotton, 2% Elastane | Factory: Made in Bien Hoa, VN | Factory Link: /factories/denim-saitex\n",
      "Collected product info for The Curvy Way-High® Skinny Jean: €105 | Materials: 55% Organic Cotton, 25% Viscose, 18% Recycled Polyester, 2% Elastane | Factory: Made at our Hirdaramani Factory in Sri Lanka. | Factory Link: Factory Link Not Found\n",
      "Collected product info for The Original Cheeky® Jean: €118 | Materials: 98% Organic Cotton, 2% Elastane | Factory: Factory Content Not Found | Factory Link: Factory Link Not Found\n",
      "Collected product info for The Baggy Jean: €154 | Materials: 60% Organic Cotton, 40% TENCEL™ Lyocell x REFIBRA™ | Factory: Lighter-weight denim | Factory Link: Factory Link Not Found\n",
      "Collected product info for The Way-High® Skinny Jean: €105 | Materials: 38% Organic Cotton, 25% Viscose, 21% Recycled Polyester, 14% Modal, 2% Elastane | Factory: Made at our Hirdaramani Factory in Sri Lanka. | Factory Link: Factory Link Not Found\n",
      "Collected product info for The Way-High® Slim Jean: €118 | Materials: 98% Organic Cotton, 2% Elastane | Factory: Made in Bien Hoa, VN | Factory Link: /factories/denim-saitex\n",
      "Collected product info for The Way-High® Skinny Jean: €105 | Materials: 38% Organic Cotton, 25% Viscose, 21% Recycled Polyester, 14% Modal, 2% Elastane | Factory: Made at our Hirdaramani Factory in Sri Lanka. | Factory Link: Factory Link Not Found\n"
     ]
    }
   ],
   "source": [
    "\n",
    "driver = webdriver.Chrome()\n",
    "try:\n",
    "    for url in unique_full_urls[50:58]:\n",
    "        driver.get(url)\n",
    "        time.sleep(2)\n",
    "        button = WebDriverWait(driver, 20).until(\n",
    "            EC.element_to_be_clickable((By.CLASS_NAME, \"styles_product-details__expand__fxMdk\"))\n",
    "        )\n",
    "        driver.execute_script(\"arguments[0].scrollIntoView();\", button)\n",
    "        time.sleep(2)\n",
    "        driver.execute_script(\"arguments[0].click();\", button)\n",
    "        time.sleep(2)\n",
    "        page_source = driver.page_source\n",
    "        soup = BeautifulSoup(page_source, 'html.parser')\n",
    "\n",
    "        product_name_elem = soup.find('div', class_='styles_product-header__title-name__jqMTS')\n",
    "\n",
    "        if product_name_elem:\n",
    "            product_name = product_name_elem.get_text(strip=True)\n",
    "        else:\n",
    "            product_name = \"Product Name Not Found\"\n",
    "\n",
    "        price_elem = soup.find('div', class_='styles_product-header__price__17H6S')\n",
    "        if price_elem:\n",
    "            product_price = price_elem.get_text(strip=True)\n",
    "        else:\n",
    "            product_price = \"Price Not Found\"\n",
    "\n",
    "        materials = \"Materials Not Found\"\n",
    "        slide_down_div = soup.find('div', class_='styles_slide-down-up__vEboW styles_product-details--expanded__Du6z4 slide-down-up-enter-done')\n",
    "        if slide_down_div:\n",
    "            # first child div within the slide-down div\n",
    "            first_child_div = slide_down_div.find('div', recursive=False)\n",
    "            if first_child_div:\n",
    "                prod_details_div = first_child_div.find('div', class_='styles_product-details-item__detail__We_Zc')\n",
    "                if prod_details_div:\n",
    "                    materials = prod_details_div.get_text(strip=True)\n",
    "\n",
    "        factory_div = soup.find('div', class_='styles_product-details-item__title__N4LsX', string='Factory')\n",
    "        if factory_div:\n",
    "            factory_next_div = factory_div.find_next_sibling('div', style='width: 100%;')\n",
    "            if factory_next_div:\n",
    "                factory_content = factory_next_div.find('div').get_text(strip=True)\n",
    "                factory_link = factory_next_div.find('a')['href']\n",
    "            else:\n",
    "                factory_content = \"Factory Content Not Found\"\n",
    "                factory_link = \"Factory Link Not Found\"\n",
    "\n",
    "        else:\n",
    "            details_div = soup.find('div', class_='styles_product-details-item__title__N4LsX', string='Details')\n",
    "            if details_div:\n",
    "                details_next_div = details_div.find_next_sibling('div', style='width: 100%;')\n",
    "                if details_next_div:\n",
    "                    factory_content = details_next_div.find('div').get_text(strip=True)\n",
    "                    factory_link = \"Factory Link Not Found\"\n",
    "                else:\n",
    "                    factory_content = \"Factory Content Not Found\"\n",
    "                    factory_link = \"Factory Link Not Found\"\n",
    "            else:\n",
    "                factory_content = \"Factory Content Not Found\"\n",
    "                factory_link = \"Factory Link Not Found\"\n",
    "\n",
    "        products_info.append((product_name, product_price, materials, factory_content, factory_link))\n",
    "        print(f\"Collected product info for {product_name}: {product_price} | Materials: {materials} | Factory: {factory_content} | Factory Link: {factory_link}\")\n",
    "\n",
    "finally:\n",
    "    driver.quit()"
   ]
  },
  {
   "cell_type": "code",
   "execution_count": 165,
   "id": "4a370a87",
   "metadata": {},
   "outputs": [
    {
     "data": {
      "text/plain": [
       "58"
      ]
     },
     "execution_count": 165,
     "metadata": {},
     "output_type": "execute_result"
    }
   ],
   "source": [
    "# links 0 to 57 info collected\n",
    "len(products_info)"
   ]
  },
  {
   "cell_type": "code",
   "execution_count": 166,
   "id": "8d9f7fdc",
   "metadata": {},
   "outputs": [
    {
     "name": "stdout",
     "output_type": "stream",
     "text": [
      "Collected product info for The Summer Barrel Jean: €142 | Materials: Materials Not Found | Factory: Made at Phong Phu International Joint Stock Company in Vietnam. | Factory Link: Factory Link Not Found\n",
      "Collected product info for The Utility Barrel Pant: €142 | Materials: 98% Regenerative Cotton, 2% Elastane | Factory: Made in Bien Hoa, VN | Factory Link: /factories/denim-saitex\n"
     ]
    }
   ],
   "source": [
    "\n",
    "driver = webdriver.Chrome()\n",
    "try:\n",
    "    for url in unique_full_urls[58:]:\n",
    "        driver.get(url)\n",
    "        time.sleep(2)\n",
    "        button = WebDriverWait(driver, 20).until(\n",
    "            EC.element_to_be_clickable((By.CLASS_NAME, \"styles_product-details__expand__fxMdk\"))\n",
    "        )\n",
    "        driver.execute_script(\"arguments[0].scrollIntoView();\", button)\n",
    "        time.sleep(2)\n",
    "        driver.execute_script(\"arguments[0].click();\", button)\n",
    "        time.sleep(2)\n",
    "        page_source = driver.page_source\n",
    "        soup = BeautifulSoup(page_source, 'html.parser')\n",
    "\n",
    "        product_name_elem = soup.find('div', class_='styles_product-header__title-name__jqMTS')\n",
    "\n",
    "        if product_name_elem:\n",
    "            product_name = product_name_elem.get_text(strip=True)\n",
    "        else:\n",
    "            product_name = \"Product Name Not Found\"\n",
    "\n",
    "        price_elem = soup.find('div', class_='styles_product-header__price__17H6S')\n",
    "        if price_elem:\n",
    "            product_price = price_elem.get_text(strip=True)\n",
    "        else:\n",
    "            product_price = \"Price Not Found\"\n",
    "\n",
    "        materials = \"Materials Not Found\"\n",
    "        slide_down_div = soup.find('div', class_='styles_slide-down-up__vEboW styles_product-details--expanded__Du6z4 slide-down-up-enter-done')\n",
    "        if slide_down_div:\n",
    "            # first child div within the slide-down div\n",
    "            first_child_div = slide_down_div.find('div', recursive=False)\n",
    "            if first_child_div:\n",
    "                prod_details_div = first_child_div.find('div', class_='styles_product-details-item__detail__We_Zc')\n",
    "                if prod_details_div:\n",
    "                    materials = prod_details_div.get_text(strip=True)\n",
    "\n",
    "        factory_div = soup.find('div', class_='styles_product-details-item__title__N4LsX', string='Factory')\n",
    "        if factory_div:\n",
    "            factory_next_div = factory_div.find_next_sibling('div', style='width: 100%;')\n",
    "            if factory_next_div:\n",
    "                factory_content = factory_next_div.find('div').get_text(strip=True)\n",
    "                factory_link = factory_next_div.find('a')['href']\n",
    "            else:\n",
    "                factory_content = \"Factory Content Not Found\"\n",
    "                factory_link = \"Factory Link Not Found\"\n",
    "\n",
    "        else:\n",
    "            details_div = soup.find('div', class_='styles_product-details-item__title__N4LsX', string='Details')\n",
    "            if details_div:\n",
    "                details_next_div = details_div.find_next_sibling('div', style='width: 100%;')\n",
    "                if details_next_div:\n",
    "                    factory_content = details_next_div.find('div').get_text(strip=True)\n",
    "                    factory_link = \"Factory Link Not Found\"\n",
    "                else:\n",
    "                    factory_content = \"Factory Content Not Found\"\n",
    "                    factory_link = \"Factory Link Not Found\"\n",
    "            else:\n",
    "                factory_content = \"Factory Content Not Found\"\n",
    "                factory_link = \"Factory Link Not Found\"\n",
    "\n",
    "        products_info.append((product_name, product_price, materials, factory_content, factory_link))\n",
    "        print(f\"Collected product info for {product_name}: {product_price} | Materials: {materials} | Factory: {factory_content} | Factory Link: {factory_link}\")\n",
    "\n",
    "finally:\n",
    "    driver.quit()"
   ]
  },
  {
   "cell_type": "code",
   "execution_count": 167,
   "id": "af93d61e",
   "metadata": {},
   "outputs": [
    {
     "data": {
      "text/plain": [
       "60"
      ]
     },
     "execution_count": 167,
     "metadata": {},
     "output_type": "execute_result"
    }
   ],
   "source": [
    "# all jeans info collected\n",
    "len(products_info)"
   ]
  },
  {
   "cell_type": "code",
   "execution_count": 168,
   "id": "03a32416",
   "metadata": {},
   "outputs": [
    {
     "data": {
      "text/plain": [
       "[('The Original Curvy Cheeky® Jean',\n",
       "  '€118',\n",
       "  '98% Organic Cotton, 2% Elastane',\n",
       "  'Made at our Hirdaramani Factory in Sri Lanka.',\n",
       "  'Factory Link Not Found'),\n",
       " ('The Way-High® Jean',\n",
       "  '€142',\n",
       "  '98% Organic Cotton, 2% Elastane',\n",
       "  'Made in Bien Hoa, VN',\n",
       "  '/factories/denim-saitex'),\n",
       " ('The A-Line Denim Short',\n",
       "  '€81',\n",
       "  '100% Organic Cotton',\n",
       "  'Made at our Hirdaramani Factory in Sri Lanka.',\n",
       "  'Factory Link Not Found')]"
      ]
     },
     "execution_count": 168,
     "metadata": {},
     "output_type": "execute_result"
    }
   ],
   "source": [
    "products_info[:3]"
   ]
  },
  {
   "cell_type": "code",
   "execution_count": 169,
   "id": "a30c8de5",
   "metadata": {},
   "outputs": [],
   "source": [
    "import pandas as pd\n",
    "tmp_jeans = products_info.copy()\n",
    "df_jeans_everlane = pd.DataFrame(products_info, columns=['Product Name', 'Price', 'Materials', 'Factory', 'Factory Link'])"
   ]
  },
  {
   "cell_type": "code",
   "execution_count": 171,
   "id": "fecd08cf",
   "metadata": {},
   "outputs": [
    {
     "data": {
      "text/html": [
       "<div>\n",
       "<style scoped>\n",
       "    .dataframe tbody tr th:only-of-type {\n",
       "        vertical-align: middle;\n",
       "    }\n",
       "\n",
       "    .dataframe tbody tr th {\n",
       "        vertical-align: top;\n",
       "    }\n",
       "\n",
       "    .dataframe thead th {\n",
       "        text-align: right;\n",
       "    }\n",
       "</style>\n",
       "<table border=\"1\" class=\"dataframe\">\n",
       "  <thead>\n",
       "    <tr style=\"text-align: right;\">\n",
       "      <th></th>\n",
       "      <th>Product Name</th>\n",
       "      <th>Price</th>\n",
       "      <th>Materials</th>\n",
       "      <th>Factory</th>\n",
       "      <th>Factory Link</th>\n",
       "    </tr>\n",
       "  </thead>\n",
       "  <tbody>\n",
       "    <tr>\n",
       "      <th>0</th>\n",
       "      <td>The Original Curvy Cheeky® Jean</td>\n",
       "      <td>€118</td>\n",
       "      <td>98% Organic Cotton, 2% Elastane</td>\n",
       "      <td>Made at our Hirdaramani Factory in Sri Lanka.</td>\n",
       "      <td>Factory Link Not Found</td>\n",
       "    </tr>\n",
       "    <tr>\n",
       "      <th>1</th>\n",
       "      <td>The Way-High® Jean</td>\n",
       "      <td>€142</td>\n",
       "      <td>98% Organic Cotton, 2% Elastane</td>\n",
       "      <td>Made in Bien Hoa, VN</td>\n",
       "      <td>/factories/denim-saitex</td>\n",
       "    </tr>\n",
       "    <tr>\n",
       "      <th>2</th>\n",
       "      <td>The A-Line Denim Short</td>\n",
       "      <td>€81</td>\n",
       "      <td>100% Organic Cotton</td>\n",
       "      <td>Made at our Hirdaramani Factory in Sri Lanka.</td>\n",
       "      <td>Factory Link Not Found</td>\n",
       "    </tr>\n",
       "  </tbody>\n",
       "</table>\n",
       "</div>"
      ],
      "text/plain": [
       "                      Product Name Price                        Materials  \\\n",
       "0  The Original Curvy Cheeky® Jean  €118  98% Organic Cotton, 2% Elastane   \n",
       "1               The Way-High® Jean  €142  98% Organic Cotton, 2% Elastane   \n",
       "2           The A-Line Denim Short   €81              100% Organic Cotton   \n",
       "\n",
       "                                         Factory             Factory Link  \n",
       "0  Made at our Hirdaramani Factory in Sri Lanka.   Factory Link Not Found  \n",
       "1                           Made in Bien Hoa, VN  /factories/denim-saitex  \n",
       "2  Made at our Hirdaramani Factory in Sri Lanka.   Factory Link Not Found  "
      ]
     },
     "execution_count": 171,
     "metadata": {},
     "output_type": "execute_result"
    }
   ],
   "source": [
    "df_jeans_everlane.head(3)"
   ]
  },
  {
   "cell_type": "code",
   "execution_count": 172,
   "id": "504f591b",
   "metadata": {},
   "outputs": [],
   "source": [
    "df_jeans_everlane.to_pickle('../data/df_jeans_everlane.pkl')"
   ]
  },
  {
   "cell_type": "code",
   "execution_count": 259,
   "id": "82ab5ea9",
   "metadata": {},
   "outputs": [
    {
     "ename": "NoSuchElementException",
     "evalue": "Message: no such element: Unable to locate element: {\"method\":\"css selector\",\"selector\":\".infinite-scroll-component__outerdiv\"}\n  (Session info: chrome=124.0.6367.92); For documentation on this error, please visit: https://www.selenium.dev/documentation/webdriver/troubleshooting/errors#no-such-element-exception\nStacktrace:\n0   chromedriver                        0x000000010122f9c8 chromedriver + 5216712\n1   chromedriver                        0x0000000101227603 chromedriver + 5182979\n2   chromedriver                        0x0000000100d99527 chromedriver + 406823\n3   chromedriver                        0x0000000100de4ff2 chromedriver + 716786\n4   chromedriver                        0x0000000100de5181 chromedriver + 717185\n5   chromedriver                        0x0000000100e291d4 chromedriver + 995796\n6   chromedriver                        0x0000000100e0772d chromedriver + 857901\n7   chromedriver                        0x0000000100e266bf chromedriver + 984767\n8   chromedriver                        0x0000000100e074a3 chromedriver + 857251\n9   chromedriver                        0x0000000100dd7fe3 chromedriver + 663523\n10  chromedriver                        0x0000000100dd892e chromedriver + 665902\n11  chromedriver                        0x00000001011ed8e0 chromedriver + 4946144\n12  chromedriver                        0x00000001011f3994 chromedriver + 4970900\n13  chromedriver                        0x00000001011ce3de chromedriver + 4817886\n14  chromedriver                        0x00000001011f44a9 chromedriver + 4973737\n15  chromedriver                        0x00000001011be664 chromedriver + 4752996\n16  chromedriver                        0x0000000101216b58 chromedriver + 5114712\n17  chromedriver                        0x0000000101216d17 chromedriver + 5115159\n18  chromedriver                        0x0000000101227223 chromedriver + 5181987\n19  libsystem_pthread.dylib             0x00007ff817ad5202 _pthread_start + 99\n20  libsystem_pthread.dylib             0x00007ff817ad0bab thread_start + 15\n",
     "output_type": "error",
     "traceback": [
      "\u001b[0;31m---------------------------------------------------------------------------\u001b[0m",
      "\u001b[0;31mNoSuchElementException\u001b[0m                    Traceback (most recent call last)",
      "Cell \u001b[0;32mIn[259], line 13\u001b[0m\n\u001b[1;32m     10\u001b[0m driver\u001b[38;5;241m.\u001b[39mget(url)\n\u001b[1;32m     11\u001b[0m time\u001b[38;5;241m.\u001b[39msleep(\u001b[38;5;241m2\u001b[39m)\n\u001b[0;32m---> 13\u001b[0m inf_div \u001b[38;5;241m=\u001b[39m \u001b[43mdriver\u001b[49m\u001b[38;5;241;43m.\u001b[39;49m\u001b[43mfind_element\u001b[49m\u001b[43m(\u001b[49m\u001b[43mBy\u001b[49m\u001b[38;5;241;43m.\u001b[39;49m\u001b[43mCLASS_NAME\u001b[49m\u001b[43m,\u001b[49m\u001b[43m \u001b[49m\u001b[38;5;124;43m'\u001b[39;49m\u001b[38;5;124;43minfinite-scroll-component__outerdiv\u001b[39;49m\u001b[38;5;124;43m'\u001b[39;49m\u001b[43m)\u001b[49m\n\u001b[1;32m     14\u001b[0m soup_inf_div \u001b[38;5;241m=\u001b[39m BeautifulSoup(inf_div\u001b[38;5;241m.\u001b[39mget_attribute(\u001b[38;5;124m'\u001b[39m\u001b[38;5;124minnerHTML\u001b[39m\u001b[38;5;124m'\u001b[39m), \u001b[38;5;124m'\u001b[39m\u001b[38;5;124mhtml.parser\u001b[39m\u001b[38;5;124m'\u001b[39m)\n\u001b[1;32m     16\u001b[0m links \u001b[38;5;241m=\u001b[39m soup_inf_div\u001b[38;5;241m.\u001b[39mfind_all(\u001b[38;5;124m'\u001b[39m\u001b[38;5;124ma\u001b[39m\u001b[38;5;124m'\u001b[39m, {\u001b[38;5;124m'\u001b[39m\u001b[38;5;124mrole\u001b[39m\u001b[38;5;124m'\u001b[39m: \u001b[38;5;124m'\u001b[39m\u001b[38;5;124mlink\u001b[39m\u001b[38;5;124m'\u001b[39m})\n",
      "File \u001b[0;32m~/opt/anaconda3/lib/python3.8/site-packages/selenium/webdriver/remote/webdriver.py:741\u001b[0m, in \u001b[0;36mWebDriver.find_element\u001b[0;34m(self, by, value)\u001b[0m\n\u001b[1;32m    738\u001b[0m     by \u001b[38;5;241m=\u001b[39m By\u001b[38;5;241m.\u001b[39mCSS_SELECTOR\n\u001b[1;32m    739\u001b[0m     value \u001b[38;5;241m=\u001b[39m \u001b[38;5;124mf\u001b[39m\u001b[38;5;124m'\u001b[39m\u001b[38;5;124m[name=\u001b[39m\u001b[38;5;124m\"\u001b[39m\u001b[38;5;132;01m{\u001b[39;00mvalue\u001b[38;5;132;01m}\u001b[39;00m\u001b[38;5;124m\"\u001b[39m\u001b[38;5;124m]\u001b[39m\u001b[38;5;124m'\u001b[39m\n\u001b[0;32m--> 741\u001b[0m \u001b[38;5;28;01mreturn\u001b[39;00m \u001b[38;5;28;43mself\u001b[39;49m\u001b[38;5;241;43m.\u001b[39;49m\u001b[43mexecute\u001b[49m\u001b[43m(\u001b[49m\u001b[43mCommand\u001b[49m\u001b[38;5;241;43m.\u001b[39;49m\u001b[43mFIND_ELEMENT\u001b[49m\u001b[43m,\u001b[49m\u001b[43m \u001b[49m\u001b[43m{\u001b[49m\u001b[38;5;124;43m\"\u001b[39;49m\u001b[38;5;124;43musing\u001b[39;49m\u001b[38;5;124;43m\"\u001b[39;49m\u001b[43m:\u001b[49m\u001b[43m \u001b[49m\u001b[43mby\u001b[49m\u001b[43m,\u001b[49m\u001b[43m \u001b[49m\u001b[38;5;124;43m\"\u001b[39;49m\u001b[38;5;124;43mvalue\u001b[39;49m\u001b[38;5;124;43m\"\u001b[39;49m\u001b[43m:\u001b[49m\u001b[43m \u001b[49m\u001b[43mvalue\u001b[49m\u001b[43m}\u001b[49m\u001b[43m)\u001b[49m[\u001b[38;5;124m\"\u001b[39m\u001b[38;5;124mvalue\u001b[39m\u001b[38;5;124m\"\u001b[39m]\n",
      "File \u001b[0;32m~/opt/anaconda3/lib/python3.8/site-packages/selenium/webdriver/remote/webdriver.py:347\u001b[0m, in \u001b[0;36mWebDriver.execute\u001b[0;34m(self, driver_command, params)\u001b[0m\n\u001b[1;32m    345\u001b[0m response \u001b[38;5;241m=\u001b[39m \u001b[38;5;28mself\u001b[39m\u001b[38;5;241m.\u001b[39mcommand_executor\u001b[38;5;241m.\u001b[39mexecute(driver_command, params)\n\u001b[1;32m    346\u001b[0m \u001b[38;5;28;01mif\u001b[39;00m response:\n\u001b[0;32m--> 347\u001b[0m     \u001b[38;5;28;43mself\u001b[39;49m\u001b[38;5;241;43m.\u001b[39;49m\u001b[43merror_handler\u001b[49m\u001b[38;5;241;43m.\u001b[39;49m\u001b[43mcheck_response\u001b[49m\u001b[43m(\u001b[49m\u001b[43mresponse\u001b[49m\u001b[43m)\u001b[49m\n\u001b[1;32m    348\u001b[0m     response[\u001b[38;5;124m\"\u001b[39m\u001b[38;5;124mvalue\u001b[39m\u001b[38;5;124m\"\u001b[39m] \u001b[38;5;241m=\u001b[39m \u001b[38;5;28mself\u001b[39m\u001b[38;5;241m.\u001b[39m_unwrap_value(response\u001b[38;5;241m.\u001b[39mget(\u001b[38;5;124m\"\u001b[39m\u001b[38;5;124mvalue\u001b[39m\u001b[38;5;124m\"\u001b[39m, \u001b[38;5;28;01mNone\u001b[39;00m))\n\u001b[1;32m    349\u001b[0m     \u001b[38;5;28;01mreturn\u001b[39;00m response\n",
      "File \u001b[0;32m~/opt/anaconda3/lib/python3.8/site-packages/selenium/webdriver/remote/errorhandler.py:229\u001b[0m, in \u001b[0;36mErrorHandler.check_response\u001b[0;34m(self, response)\u001b[0m\n\u001b[1;32m    227\u001b[0m         alert_text \u001b[38;5;241m=\u001b[39m value[\u001b[38;5;124m\"\u001b[39m\u001b[38;5;124malert\u001b[39m\u001b[38;5;124m\"\u001b[39m]\u001b[38;5;241m.\u001b[39mget(\u001b[38;5;124m\"\u001b[39m\u001b[38;5;124mtext\u001b[39m\u001b[38;5;124m\"\u001b[39m)\n\u001b[1;32m    228\u001b[0m     \u001b[38;5;28;01mraise\u001b[39;00m exception_class(message, screen, stacktrace, alert_text)  \u001b[38;5;66;03m# type: ignore[call-arg]  # mypy is not smart enough here\u001b[39;00m\n\u001b[0;32m--> 229\u001b[0m \u001b[38;5;28;01mraise\u001b[39;00m exception_class(message, screen, stacktrace)\n",
      "\u001b[0;31mNoSuchElementException\u001b[0m: Message: no such element: Unable to locate element: {\"method\":\"css selector\",\"selector\":\".infinite-scroll-component__outerdiv\"}\n  (Session info: chrome=124.0.6367.92); For documentation on this error, please visit: https://www.selenium.dev/documentation/webdriver/troubleshooting/errors#no-such-element-exception\nStacktrace:\n0   chromedriver                        0x000000010122f9c8 chromedriver + 5216712\n1   chromedriver                        0x0000000101227603 chromedriver + 5182979\n2   chromedriver                        0x0000000100d99527 chromedriver + 406823\n3   chromedriver                        0x0000000100de4ff2 chromedriver + 716786\n4   chromedriver                        0x0000000100de5181 chromedriver + 717185\n5   chromedriver                        0x0000000100e291d4 chromedriver + 995796\n6   chromedriver                        0x0000000100e0772d chromedriver + 857901\n7   chromedriver                        0x0000000100e266bf chromedriver + 984767\n8   chromedriver                        0x0000000100e074a3 chromedriver + 857251\n9   chromedriver                        0x0000000100dd7fe3 chromedriver + 663523\n10  chromedriver                        0x0000000100dd892e chromedriver + 665902\n11  chromedriver                        0x00000001011ed8e0 chromedriver + 4946144\n12  chromedriver                        0x00000001011f3994 chromedriver + 4970900\n13  chromedriver                        0x00000001011ce3de chromedriver + 4817886\n14  chromedriver                        0x00000001011f44a9 chromedriver + 4973737\n15  chromedriver                        0x00000001011be664 chromedriver + 4752996\n16  chromedriver                        0x0000000101216b58 chromedriver + 5114712\n17  chromedriver                        0x0000000101216d17 chromedriver + 5115159\n18  chromedriver                        0x0000000101227223 chromedriver + 5181987\n19  libsystem_pthread.dylib             0x00007ff817ad5202 _pthread_start + 99\n20  libsystem_pthread.dylib             0x00007ff817ad0bab thread_start + 15\n"
     ]
    }
   ],
   "source": [
    "# tops\n",
    "base_url = \"https://www.everlane.com/collections/womens-all-tops?page={}\"\n",
    "\n",
    "top_link_list = []\n",
    "driver = webdriver.Chrome()\n",
    "# tops go from page 1 to 18\n",
    "try:\n",
    "    for page_num in range(1, 3):\n",
    "        url = base_url.format(page_num)\n",
    "        driver.get(url)\n",
    "        time.sleep(2)\n",
    "        \n",
    "        inf_div = driver.find_element(By.CLASS_NAME, 'infinite-scroll-component__outerdiv')\n",
    "        soup_inf_div = BeautifulSoup(inf_div.get_attribute('innerHTML'), 'html.parser')\n",
    "        \n",
    "        links = soup_inf_div.find_all('a', {'role': 'link'})\n",
    "        for link in links:\n",
    "            href = link.get('href')\n",
    "            if href:\n",
    "                top_link_list.append(href)\n",
    "        print(f\"Page {page_num} scraped\")\n",
    "        \n",
    "finally:\n",
    "    driver.quit()\n",
    "    \n"
   ]
  },
  {
   "cell_type": "code",
   "execution_count": 257,
   "id": "51ca0a83",
   "metadata": {},
   "outputs": [
    {
     "data": {
      "text/plain": [
       "<div class=\"styles_collection__desktop-right-content__K7MHD\"><div class=\"fresnel-container fresnel-greaterThanOrEqual-large fresnel-:r0:\"></div><div class=\"fresnel-container fresnel-greaterThanOrEqual-large fresnel-:r1:\"><div class=\"styles_collection-header__breadcrumbs-wrapper__7hG9y\"><ul class=\"styles_breadcrumbs__K_p_J\" itemscope=\"\" itemtype=\"https://schema.org/BreadcrumbList\"><li class=\"styles_breadcrumb__Mn6I5\" itemprop=\"itemListElement\" itemscope=\"\" itemtype=\"https://schema.org/ListItem\"><a class=\"styles_breadcrumb__link__InEQY\" href=\"/\" itemprop=\"item\" itemtype=\"https://schema.org/null\"><span itemprop=\"name\">Home</span></a><meta content=\"1\" itemprop=\"position\"/></li><li class=\"styles_breadcrumb__Mn6I5\" itemprop=\"itemListElement\" itemscope=\"\" itemtype=\"https://schema.org/ListItem\"><a class=\"styles_breadcrumb__link__InEQY\" href=\"/collections/womens-all\" itemprop=\"item\" itemtype=\"https://schema.org/null\"><span itemprop=\"name\">Women</span></a><meta content=\"2\" itemprop=\"position\"/></li></ul></div></div><div class=\"styles_collection-header__Tw5Wo styles_collection-header--v2__ebnx7\"><div class=\"styles_collection-title__wrapper__OhjMG\"><h1 class=\"styles_collection-title__KHFK_\">Women's Tops, T-Shirts, Blouses &amp; Shirts</h1></div></div><div class=\"fresnel-container fresnel-lessThan-large fresnel-:r2:\"></div></div>"
      ]
     },
     "execution_count": 257,
     "metadata": {},
     "output_type": "execute_result"
    }
   ],
   "source": [
    "div_main"
   ]
  },
  {
   "cell_type": "code",
   "execution_count": null,
   "id": "a9403b16",
   "metadata": {},
   "outputs": [],
   "source": [
    "# styles_product-group-tile__eFTGi"
   ]
  }
 ],
 "metadata": {
  "kernelspec": {
   "display_name": "Python 3 (ipykernel)",
   "language": "python",
   "name": "python3"
  },
  "language_info": {
   "codemirror_mode": {
    "name": "ipython",
    "version": 3
   },
   "file_extension": ".py",
   "mimetype": "text/x-python",
   "name": "python",
   "nbconvert_exporter": "python",
   "pygments_lexer": "ipython3",
   "version": "3.8.17"
  }
 },
 "nbformat": 4,
 "nbformat_minor": 5
}
