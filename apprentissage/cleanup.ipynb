{
 "cells": [
  {
   "cell_type": "markdown",
   "metadata": {},
   "source": [
    "# Projet DALAS \n",
    "## CLleanup before MLN\n",
    "### SOYKOK Aylin - CELIK Simay\n"
   ]
  },
  {
   "cell_type": "markdown",
   "metadata": {},
   "source": [
    "We scraped the data separately so we have to fix their forms etc."
   ]
  },
  {
   "cell_type": "code",
   "execution_count": 1,
   "metadata": {},
   "outputs": [],
   "source": [
    "import pandas as pd\n",
    "import matplotlib.pyplot as plt\n",
    "import plotly.express as px\n",
    "import seaborn as sns\n",
    "import numpy as np"
   ]
  },
  {
   "cell_type": "code",
   "execution_count": 2,
   "metadata": {},
   "outputs": [],
   "source": [
    "df_fast = pd.read_pickle('../data/fastfashion_clean.pkl')\n",
    "df_slow = pd.read_pickle('../data/slowfashion_clean.pkl')\n",
    "# slow_label = df_slow['Brand Type'].tolist()\n",
    "# df_slow = df_slow.drop(columns=['Brand Type'])\n",
    "fast_label = ['Fast Fashion']*len(df_fast)\n",
    "df_fast['Brand Type'] = fast_label\n",
    "df_fast = df_fast.rename(columns={'Pays de fabrication':'Country','Material':'Materials'})"
   ]
  },
  {
   "cell_type": "code",
   "execution_count": 3,
   "metadata": {},
   "outputs": [
    {
     "name": "stdout",
     "output_type": "stream",
     "text": [
      "Index(['Product Name', 'Price', 'Materials', 'Factory', 'Factory Link',\n",
      "       'Product Type', 'Country', 'Brand Type'],\n",
      "      dtype='object')\n"
     ]
    },
    {
     "data": {
      "text/html": [
       "<div>\n",
       "<style scoped>\n",
       "    .dataframe tbody tr th:only-of-type {\n",
       "        vertical-align: middle;\n",
       "    }\n",
       "\n",
       "    .dataframe tbody tr th {\n",
       "        vertical-align: top;\n",
       "    }\n",
       "\n",
       "    .dataframe thead th {\n",
       "        text-align: right;\n",
       "    }\n",
       "</style>\n",
       "<table border=\"1\" class=\"dataframe\">\n",
       "  <thead>\n",
       "    <tr style=\"text-align: right;\">\n",
       "      <th></th>\n",
       "      <th>Product Name</th>\n",
       "      <th>Price</th>\n",
       "      <th>Materials</th>\n",
       "      <th>Factory</th>\n",
       "      <th>Factory Link</th>\n",
       "      <th>Product Type</th>\n",
       "      <th>Country</th>\n",
       "      <th>Brand Type</th>\n",
       "    </tr>\n",
       "  </thead>\n",
       "  <tbody>\n",
       "    <tr>\n",
       "      <th>0</th>\n",
       "      <td>The Original Curvy Cheeky® Jean</td>\n",
       "      <td>118.0</td>\n",
       "      <td>[Organic cotton, Elastane]</td>\n",
       "      <td>Made at our Hirdaramani Factory in Sri Lanka.</td>\n",
       "      <td>Factory Link Not Found</td>\n",
       "      <td>Jeans</td>\n",
       "      <td>[Sri Lanka]</td>\n",
       "      <td>Slow Fashion</td>\n",
       "    </tr>\n",
       "    <tr>\n",
       "      <th>1</th>\n",
       "      <td>The Way-High® Jean</td>\n",
       "      <td>142.0</td>\n",
       "      <td>[Organic cotton, Elastane]</td>\n",
       "      <td>Made in Bien Hoa, VN</td>\n",
       "      <td>/factories/denim-saitex</td>\n",
       "      <td>Jeans</td>\n",
       "      <td>[Vietnam]</td>\n",
       "      <td>Slow Fashion</td>\n",
       "    </tr>\n",
       "    <tr>\n",
       "      <th>2</th>\n",
       "      <td>The A-Line Denim Short</td>\n",
       "      <td>81.0</td>\n",
       "      <td>[Organic cotton]</td>\n",
       "      <td>Made at our Hirdaramani Factory in Sri Lanka.</td>\n",
       "      <td>Factory Link Not Found</td>\n",
       "      <td>Jeans</td>\n",
       "      <td>[Sri Lanka]</td>\n",
       "      <td>Slow Fashion</td>\n",
       "    </tr>\n",
       "    <tr>\n",
       "      <th>3</th>\n",
       "      <td>The Summer Barrel Jean</td>\n",
       "      <td>142.0</td>\n",
       "      <td>[Organic cotton, Tencel with refibra]</td>\n",
       "      <td>Made at Phong Phu International Joint Stock Co...</td>\n",
       "      <td>Factory Link Not Found</td>\n",
       "      <td>Jeans</td>\n",
       "      <td>[Vietnam]</td>\n",
       "      <td>Slow Fashion</td>\n",
       "    </tr>\n",
       "    <tr>\n",
       "      <th>4</th>\n",
       "      <td>The Cheeky Relaxed Straight Jean</td>\n",
       "      <td>142.0</td>\n",
       "      <td>[Organic cotton, Elastane]</td>\n",
       "      <td>Made in Bien Hoa, VN</td>\n",
       "      <td>/factories/denim-saitex</td>\n",
       "      <td>Jeans</td>\n",
       "      <td>[Vietnam]</td>\n",
       "      <td>Slow Fashion</td>\n",
       "    </tr>\n",
       "  </tbody>\n",
       "</table>\n",
       "</div>"
      ],
      "text/plain": [
       "                       Product Name  Price  \\\n",
       "0   The Original Curvy Cheeky® Jean  118.0   \n",
       "1                The Way-High® Jean  142.0   \n",
       "2            The A-Line Denim Short   81.0   \n",
       "3            The Summer Barrel Jean  142.0   \n",
       "4  The Cheeky Relaxed Straight Jean  142.0   \n",
       "\n",
       "                               Materials  \\\n",
       "0             [Organic cotton, Elastane]   \n",
       "1             [Organic cotton, Elastane]   \n",
       "2                       [Organic cotton]   \n",
       "3  [Organic cotton, Tencel with refibra]   \n",
       "4             [Organic cotton, Elastane]   \n",
       "\n",
       "                                             Factory             Factory Link  \\\n",
       "0      Made at our Hirdaramani Factory in Sri Lanka.   Factory Link Not Found   \n",
       "1                               Made in Bien Hoa, VN  /factories/denim-saitex   \n",
       "2      Made at our Hirdaramani Factory in Sri Lanka.   Factory Link Not Found   \n",
       "3  Made at Phong Phu International Joint Stock Co...   Factory Link Not Found   \n",
       "4                               Made in Bien Hoa, VN  /factories/denim-saitex   \n",
       "\n",
       "  Product Type      Country    Brand Type  \n",
       "0        Jeans  [Sri Lanka]  Slow Fashion  \n",
       "1        Jeans    [Vietnam]  Slow Fashion  \n",
       "2        Jeans  [Sri Lanka]  Slow Fashion  \n",
       "3        Jeans    [Vietnam]  Slow Fashion  \n",
       "4        Jeans    [Vietnam]  Slow Fashion  "
      ]
     },
     "execution_count": 3,
     "metadata": {},
     "output_type": "execute_result"
    }
   ],
   "source": [
    "print(df_slow.columns)\n",
    "df_slow.head()"
   ]
  },
  {
   "cell_type": "code",
   "execution_count": 4,
   "metadata": {},
   "outputs": [
    {
     "data": {
      "text/html": [
       "<div>\n",
       "<style scoped>\n",
       "    .dataframe tbody tr th:only-of-type {\n",
       "        vertical-align: middle;\n",
       "    }\n",
       "\n",
       "    .dataframe tbody tr th {\n",
       "        vertical-align: top;\n",
       "    }\n",
       "\n",
       "    .dataframe thead th {\n",
       "        text-align: right;\n",
       "    }\n",
       "</style>\n",
       "<table border=\"1\" class=\"dataframe\">\n",
       "  <thead>\n",
       "    <tr style=\"text-align: right;\">\n",
       "      <th></th>\n",
       "      <th>Product Type</th>\n",
       "      <th>Product Name</th>\n",
       "      <th>Price</th>\n",
       "      <th>Materials</th>\n",
       "      <th>Link</th>\n",
       "      <th>Informations</th>\n",
       "      <th>Pays concernés</th>\n",
       "      <th>Impression</th>\n",
       "      <th>Country</th>\n",
       "      <th>Teinture</th>\n",
       "      <th>Tissage</th>\n",
       "      <th>Fabrication</th>\n",
       "      <th>Pays d’origine du matériau</th>\n",
       "      <th>Brand Type</th>\n",
       "    </tr>\n",
       "  </thead>\n",
       "  <tbody>\n",
       "    <tr>\n",
       "      <th>0</th>\n",
       "      <td>Jeans</td>\n",
       "      <td>Pantalon cargo en denim</td>\n",
       "      <td>29.99</td>\n",
       "      <td>[ Coton,  Coton recyclé]</td>\n",
       "      <td>https://www2.hm.com/fr_fr/productpage.11989210...</td>\n",
       "      <td>[Pays de fabrication\\nBangladesh]</td>\n",
       "      <td>[Bangladesh]</td>\n",
       "      <td>[]</td>\n",
       "      <td>[Bangladesh]</td>\n",
       "      <td>[]</td>\n",
       "      <td>[]</td>\n",
       "      <td>[]</td>\n",
       "      <td>[]</td>\n",
       "      <td>Fast Fashion</td>\n",
       "    </tr>\n",
       "    <tr>\n",
       "      <th>1</th>\n",
       "      <td>Jeans</td>\n",
       "      <td>Ultra High Ankle Jeggings</td>\n",
       "      <td>29.99</td>\n",
       "      <td>[ Coton,  Coton recyclé,  Polyester,  Polyeste...</td>\n",
       "      <td>https://www2.hm.com/fr_fr/productpage.11524570...</td>\n",
       "      <td>[Pays d’origine du matériau\\nChine, Pays de fa...</td>\n",
       "      <td>[Chine, Chine]</td>\n",
       "      <td>[]</td>\n",
       "      <td>[Chine]</td>\n",
       "      <td>[]</td>\n",
       "      <td>[]</td>\n",
       "      <td>[]</td>\n",
       "      <td>[Chine]</td>\n",
       "      <td>Fast Fashion</td>\n",
       "    </tr>\n",
       "    <tr>\n",
       "      <th>2</th>\n",
       "      <td>Jeans</td>\n",
       "      <td>Wide High Jeans</td>\n",
       "      <td>29.99</td>\n",
       "      <td>[ Coton,  Coton recyclé,  Polyester,  Polyeste...</td>\n",
       "      <td>https://www2.hm.com/fr_fr/productpage.08718890...</td>\n",
       "      <td>[Pays de fabrication\\nBangladesh]</td>\n",
       "      <td>[Bangladesh]</td>\n",
       "      <td>[]</td>\n",
       "      <td>[Bangladesh]</td>\n",
       "      <td>[]</td>\n",
       "      <td>[]</td>\n",
       "      <td>[]</td>\n",
       "      <td>[]</td>\n",
       "      <td>Fast Fashion</td>\n",
       "    </tr>\n",
       "    <tr>\n",
       "      <th>3</th>\n",
       "      <td>Jeans</td>\n",
       "      <td>Flared Low Jeans</td>\n",
       "      <td>25.99</td>\n",
       "      <td>[ Coton,  Coton recyclé,  Polyester,  Élasthanne]</td>\n",
       "      <td>https://www2.hm.com/fr_fr/productpage.11834980...</td>\n",
       "      <td>[Teinture\\nPakistan, Tissage\\nPakistan, Fabric...</td>\n",
       "      <td>[Pakistan, Pakistan, Pakistan]</td>\n",
       "      <td>[]</td>\n",
       "      <td>[]</td>\n",
       "      <td>[Pakistan]</td>\n",
       "      <td>[Pakistan]</td>\n",
       "      <td>[Pakistan]</td>\n",
       "      <td>[]</td>\n",
       "      <td>Fast Fashion</td>\n",
       "    </tr>\n",
       "    <tr>\n",
       "      <th>5</th>\n",
       "      <td>Jeans</td>\n",
       "      <td>Wide High Cropped Jeans</td>\n",
       "      <td>25.99</td>\n",
       "      <td>[ Coton,  Coton recyclé,  Polyester,  Polyeste...</td>\n",
       "      <td>https://www2.hm.com/fr_fr/productpage.11991910...</td>\n",
       "      <td>[Pays de fabrication\\nBangladesh]</td>\n",
       "      <td>[Bangladesh]</td>\n",
       "      <td>[]</td>\n",
       "      <td>[Bangladesh]</td>\n",
       "      <td>[]</td>\n",
       "      <td>[]</td>\n",
       "      <td>[]</td>\n",
       "      <td>[]</td>\n",
       "      <td>Fast Fashion</td>\n",
       "    </tr>\n",
       "  </tbody>\n",
       "</table>\n",
       "</div>"
      ],
      "text/plain": [
       "  Product Type               Product Name  Price  \\\n",
       "0        Jeans    Pantalon cargo en denim  29.99   \n",
       "1        Jeans  Ultra High Ankle Jeggings  29.99   \n",
       "2        Jeans            Wide High Jeans  29.99   \n",
       "3        Jeans           Flared Low Jeans  25.99   \n",
       "5        Jeans    Wide High Cropped Jeans  25.99   \n",
       "\n",
       "                                           Materials  \\\n",
       "0                           [ Coton,  Coton recyclé]   \n",
       "1  [ Coton,  Coton recyclé,  Polyester,  Polyeste...   \n",
       "2  [ Coton,  Coton recyclé,  Polyester,  Polyeste...   \n",
       "3  [ Coton,  Coton recyclé,  Polyester,  Élasthanne]   \n",
       "5  [ Coton,  Coton recyclé,  Polyester,  Polyeste...   \n",
       "\n",
       "                                                Link  \\\n",
       "0  https://www2.hm.com/fr_fr/productpage.11989210...   \n",
       "1  https://www2.hm.com/fr_fr/productpage.11524570...   \n",
       "2  https://www2.hm.com/fr_fr/productpage.08718890...   \n",
       "3  https://www2.hm.com/fr_fr/productpage.11834980...   \n",
       "5  https://www2.hm.com/fr_fr/productpage.11991910...   \n",
       "\n",
       "                                        Informations  \\\n",
       "0                  [Pays de fabrication\\nBangladesh]   \n",
       "1  [Pays d’origine du matériau\\nChine, Pays de fa...   \n",
       "2                  [Pays de fabrication\\nBangladesh]   \n",
       "3  [Teinture\\nPakistan, Tissage\\nPakistan, Fabric...   \n",
       "5                  [Pays de fabrication\\nBangladesh]   \n",
       "\n",
       "                   Pays concernés Impression       Country    Teinture  \\\n",
       "0                    [Bangladesh]         []  [Bangladesh]          []   \n",
       "1                  [Chine, Chine]         []       [Chine]          []   \n",
       "2                    [Bangladesh]         []  [Bangladesh]          []   \n",
       "3  [Pakistan, Pakistan, Pakistan]         []            []  [Pakistan]   \n",
       "5                    [Bangladesh]         []  [Bangladesh]          []   \n",
       "\n",
       "      Tissage Fabrication Pays d’origine du matériau    Brand Type  \n",
       "0          []          []                         []  Fast Fashion  \n",
       "1          []          []                    [Chine]  Fast Fashion  \n",
       "2          []          []                         []  Fast Fashion  \n",
       "3  [Pakistan]  [Pakistan]                         []  Fast Fashion  \n",
       "5          []          []                         []  Fast Fashion  "
      ]
     },
     "execution_count": 4,
     "metadata": {},
     "output_type": "execute_result"
    }
   ],
   "source": [
    "df_fast.columns\n",
    "df_fast.head()"
   ]
  },
  {
   "cell_type": "code",
   "execution_count": 5,
   "metadata": {},
   "outputs": [
    {
     "data": {
      "text/plain": [
       "Country\n",
       "Chine         649\n",
       "Bangladesh    567\n",
       "Turquie       230\n",
       "Birmanie      197\n",
       "Cambodge      128\n",
       "Inde           87\n",
       "Indonésie      68\n",
       "Vietnam        55\n",
       "Pakistan       26\n",
       "Maroc          18\n",
       "Roumanie       13\n",
       "Bulgaria        8\n",
       "Mexique         7\n",
       "Guatemala       1\n",
       "Kenya           1\n",
       "Ethiopie        1\n",
       "Name: count, dtype: int64"
      ]
     },
     "execution_count": 5,
     "metadata": {},
     "output_type": "execute_result"
    }
   ],
   "source": [
    "df_fast = df_fast[df_fast['Country'].apply(lambda x: x != [])]\n",
    "df_slow = df_slow[df_slow['Country'].apply(lambda x: x != [])]\n",
    "\n",
    "df_fast['Country'].explode().value_counts()"
   ]
  },
  {
   "cell_type": "code",
   "execution_count": 6,
   "metadata": {},
   "outputs": [],
   "source": [
    "#!pip install googletrans==4.0.0-rc1"
   ]
  },
  {
   "cell_type": "code",
   "execution_count": 7,
   "metadata": {},
   "outputs": [
    {
     "name": "stdout",
     "output_type": "stream",
     "text": [
      "0      [Bangladesh]\n",
      "1           [China]\n",
      "2      [Bangladesh]\n",
      "5      [Bangladesh]\n",
      "6      [Bangladesh]\n",
      "           ...     \n",
      "171         [China]\n",
      "172    [Bangladesh]\n",
      "173         [China]\n",
      "174    [Bangladesh]\n",
      "175         [China]\n",
      "Name: Country, Length: 1789, dtype: object\n"
     ]
    }
   ],
   "source": [
    "french_to_english = {\n",
    "    'Bangladesh': 'Bangladesh',\n",
    "    'Chine': 'China',\n",
    "    'Turquie': 'Turkey',\n",
    "    'Birmanie': 'Myanmar',\n",
    "    'Inde': 'India',\n",
    "    'Cambodge': 'Cambodia',\n",
    "    'Indonésie': 'Indonesia',\n",
    "    'Pakistan': 'Pakistan',\n",
    "    'Vietnam': 'Vietnam',\n",
    "    'Maroc': 'Morocco',\n",
    "    'Bulgaria': 'Bulgaria',\n",
    "    'Roumanie': 'Romania',\n",
    "    'Mexique': 'Mexico',\n",
    "    'Guatemala': 'Guatemala',\n",
    "    'Italy': 'Italy',\n",
    "    'Honduras': 'Honduras',\n",
    "    'Ethiopie': 'Ethiopia',\n",
    "    'Kenya': 'Kenya'\n",
    "}\n",
    "df_fast['Country'] = df_fast['Country'].apply(lambda lst: [french_to_english.get(x, x) for x in lst])\n",
    "print(df_fast['Country'])\n"
   ]
  },
  {
   "cell_type": "code",
   "execution_count": 8,
   "metadata": {},
   "outputs": [
    {
     "name": "stdout",
     "output_type": "stream",
     "text": [
      "\u001b[33mDEPRECATION: Python 2.7 reached the end of its life on January 1st, 2020. Please upgrade your Python as Python 2.7 is no longer maintained. pip 21.0 will drop support for Python 2.7 in January 2021. More details about Python 2 support in pip can be found at https://pip.pypa.io/en/latest/development/release-process/#python-2-support pip 21.0 will remove support for this functionality.\u001b[0m\n",
      "\u001b[31mERROR: Could not find a version that satisfies the requirement deep-translator (from versions: none)\u001b[0m\n",
      "\u001b[31mERROR: No matching distribution found for deep-translator\u001b[0m\n"
     ]
    }
   ],
   "source": [
    "!pip install deep-translator"
   ]
  },
  {
   "cell_type": "code",
   "execution_count": 9,
   "metadata": {},
   "outputs": [
    {
     "ename": "ModuleNotFoundError",
     "evalue": "No module named 'deep_translator'",
     "output_type": "error",
     "traceback": [
      "\u001b[0;31m---------------------------------------------------------------------------\u001b[0m",
      "\u001b[0;31mModuleNotFoundError\u001b[0m                       Traceback (most recent call last)",
      "Cell \u001b[0;32mIn[9], line 1\u001b[0m\n\u001b[0;32m----> 1\u001b[0m \u001b[38;5;28;01mfrom\u001b[39;00m \u001b[38;5;21;01mdeep_translator\u001b[39;00m \u001b[38;5;28;01mimport\u001b[39;00m GoogleTranslator\n\u001b[1;32m      2\u001b[0m df_fast \u001b[38;5;241m=\u001b[39m df_fast[df_fast[\u001b[38;5;124m'\u001b[39m\u001b[38;5;124mMaterials\u001b[39m\u001b[38;5;124m'\u001b[39m]\u001b[38;5;241m.\u001b[39mapply(\u001b[38;5;28;01mlambda\u001b[39;00m x: x \u001b[38;5;241m!=\u001b[39m [])]\n\u001b[1;32m      3\u001b[0m exploded_materials \u001b[38;5;241m=\u001b[39m df_fast[\u001b[38;5;124m'\u001b[39m\u001b[38;5;124mMaterials\u001b[39m\u001b[38;5;124m'\u001b[39m]\u001b[38;5;241m.\u001b[39mexplode()\n",
      "\u001b[0;31mModuleNotFoundError\u001b[0m: No module named 'deep_translator'"
     ]
    }
   ],
   "source": [
    "from deep_translator import GoogleTranslator\n",
    "df_fast = df_fast[df_fast['Materials'].apply(lambda x: x != [])]\n",
    "exploded_materials = df_fast['Materials'].explode()\n",
    "\n",
    "# Translate each material to English, skipping None or NaN values\n",
    "translator = dict()\n",
    "for i, material in enumerate(exploded_materials.unique()):\n",
    "    if material is None or pd.isna(material):\n",
    "        continue\n",
    "    translation = GoogleTranslator(source='french', target='english').translate(material)\n",
    "    print(f'{material} -> {translation}')\n",
    "    translator[material] = translation\n"
   ]
  },
  {
   "cell_type": "code",
   "execution_count": null,
   "metadata": {},
   "outputs": [],
   "source": [
    "df_fast['Materials'] = df_fast['Materials'].apply(lambda lst: [translator.get(x, x) for x in lst])\n",
    "print(df_fast['Materials'].explode().value_counts())"
   ]
  },
  {
   "cell_type": "code",
   "execution_count": null,
   "metadata": {},
   "outputs": [],
   "source": [
    "minitrans = {'Hauts':'Tops'}\n",
    "df_fast['Product Type'] = df_fast['Product Type'].apply(lambda x: minitrans.get(x,x))\n",
    "print(df_fast['Product Type'].explode().value_counts())\n",
    "print(df_slow['Product Type'].explode().value_counts())"
   ]
  },
  {
   "cell_type": "code",
   "execution_count": null,
   "metadata": {},
   "outputs": [],
   "source": [
    "columns = ['Product Type','Product Name', 'Price', 'Materials', 'Country', 'Brand Type']\n",
    "df_slow_selected = df_slow[columns]\n",
    "df_fast_selected = df_fast[columns]\n",
    "merged_df = pd.concat([df_fast_selected, df_slow_selected], axis=0)\n",
    "merged_df.head()"
   ]
  },
  {
   "cell_type": "code",
   "execution_count": null,
   "metadata": {},
   "outputs": [],
   "source": [
    "merged_df['Product Type'].value_counts()"
   ]
  },
  {
   "cell_type": "code",
   "execution_count": null,
   "metadata": {},
   "outputs": [],
   "source": [
    "merged_df = merged_df[merged_df['Product Type'].apply(lambda x: x != 'Sweatshirt')]\n",
    "merged_df['Product Type'].value_counts()"
   ]
  },
  {
   "cell_type": "code",
   "execution_count": 19,
   "metadata": {},
   "outputs": [],
   "source": [
    "merged_df.to_pickle('base.pkl')"
   ]
  },
  {
   "cell_type": "code",
   "execution_count": null,
   "metadata": {},
   "outputs": [],
   "source": []
  }
 ],
 "metadata": {
  "kernelspec": {
   "display_name": "Python 3 (ipykernel)",
   "language": "python",
   "name": "python3"
  },
  "language_info": {
   "codemirror_mode": {
    "name": "ipython",
    "version": 3
   },
   "file_extension": ".py",
   "mimetype": "text/x-python",
   "name": "python",
   "nbconvert_exporter": "python",
   "pygments_lexer": "ipython3",
   "version": "3.11.5"
  }
 },
 "nbformat": 4,
 "nbformat_minor": 2
}
